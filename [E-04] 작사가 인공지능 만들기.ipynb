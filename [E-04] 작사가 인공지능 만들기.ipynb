{
 "cells": [
  {
   "cell_type": "markdown",
   "id": "4672ef8a",
   "metadata": {},
   "source": [
    "### 필요한 데이터 불러오기"
   ]
  },
  {
   "cell_type": "code",
   "execution_count": 1,
   "id": "7bcf73d2",
   "metadata": {},
   "outputs": [
    {
     "name": "stdout",
     "output_type": "stream",
     "text": [
      "데이터 크기: 187088\n",
      "Examples:\n",
      " [\"Now I've heard there was a secret chord\", 'That David played, and it pleased the Lord', \"But you don't really care for music, do you?\"]\n"
     ]
    }
   ],
   "source": [
    "import glob\n",
    "import os, re \n",
    "import numpy as np\n",
    "import tensorflow as tf\n",
    "txt_file_path = os.getenv('HOME')+'/aiffel/lyricist/data/lyrics/*'\n",
    "\n",
    "txt_list = glob.glob(txt_file_path)\n",
    "\n",
    "raw_corpus = []\n",
    "\n",
    "# 여러개의 txt 파일을 모두 읽어서 raw_corpus 에 담습니다.\n",
    "for txt_file in txt_list:\n",
    "    with open(txt_file, \"r\") as f:\n",
    "        raw = f.read().splitlines()\n",
    "        raw_corpus.extend(raw)\n",
    "\n",
    "print(\"데이터 크기:\", len(raw_corpus))\n",
    "print(\"Examples:\\n\", raw_corpus[:3])"
   ]
  },
  {
   "cell_type": "markdown",
   "id": "697aa704",
   "metadata": {},
   "source": [
    "### 생성할 문장 조건 만들어주기"
   ]
  },
  {
   "cell_type": "code",
   "execution_count": 2,
   "id": "c5ad187c",
   "metadata": {},
   "outputs": [
    {
     "name": "stdout",
     "output_type": "stream",
     "text": [
      "Now I've heard there was a secret chord\n",
      "That David played, and it pleased the Lord\n",
      "But you don't really care for music, do you?\n",
      "It goes like this\n",
      "The fourth, the fifth\n",
      "The minor fall, the major lift\n",
      "The baffled king composing Hallelujah Hallelujah\n",
      "Hallelujah\n",
      "Hallelujah\n",
      "Hallelujah Your faith was strong but you needed proof\n"
     ]
    }
   ],
   "source": [
    "for idx, sentence in enumerate(raw_corpus):\n",
    "    if len(sentence) == 0: continue   # 길이가 0인 문장은 건너뜁니다.\n",
    "    if sentence[-1] == \":\": continue  # 문장의 끝이 : 인 문장은 건너뜁니다.\n",
    "    \n",
    "\n",
    "    if idx > 9: break   # 일단 문장 10개만 확인해 볼 겁니다.\n",
    "        \n",
    "    print(sentence)"
   ]
  },
  {
   "cell_type": "markdown",
   "id": "7f8b8e28",
   "metadata": {},
   "source": [
    "### 전처리 해주는 과정"
   ]
  },
  {
   "cell_type": "code",
   "execution_count": 3,
   "id": "9daea7d6",
   "metadata": {},
   "outputs": [
    {
     "name": "stdout",
     "output_type": "stream",
     "text": [
      "<start> this is sample sentence . <end>\n"
     ]
    }
   ],
   "source": [
    "# 입력된 문장을\n",
    "#     1. 소문자로 바꾸고, 양쪽 공백을 지웁니다\n",
    "#     2. 특수문자 양쪽에 공백을 넣고\n",
    "#     3. 여러개의 공백은 하나의 공백으로 바꿉니다\n",
    "#     4. a-zA-Z?.!,¿가 아닌 모든 문자를 하나의 공백으로 바꿉니다\n",
    "#     5. 다시 양쪽 공백을 지웁니다\n",
    "#     6. 문장 시작에는 <start>, 끝에는 <end>를 추가합니다\n",
    "# 이 순서로 처리해주면 문제가 되는 상황을 방지할 수 있겠네요!\n",
    "def preprocess_sentence(sentence):\n",
    "    sentence = sentence.lower().strip() # 1\n",
    "    sentence = re.sub(r\"([?.!,¿])\", r\" \\1 \", sentence) # 2\n",
    "    sentence = re.sub(r'[\" \"]+', \" \", sentence) # 3\n",
    "    sentence = re.sub(r\"[^a-zA-Z?.!,¿]+\", \" \", sentence) # 4\n",
    "    sentence = sentence.strip() # 5\n",
    "    sentence = '<start> ' + sentence + ' <end>' # 6\n",
    "    return sentence\n",
    "\n",
    "# 이 문장이 어떻게 필터링되는지 확인해 보세요.\n",
    "print(preprocess_sentence(\"This @_is ;;;sample        sentence.\"))"
   ]
  },
  {
   "cell_type": "code",
   "execution_count": 4,
   "id": "b46ded33",
   "metadata": {},
   "outputs": [
    {
     "data": {
      "text/plain": [
       "['<start> now i ve heard there was a secret chord <end>',\n",
       " '<start> that david played , and it pleased the lord <end>',\n",
       " '<start> but you don t really care for music , do you ? <end>',\n",
       " '<start> it goes like this <end>',\n",
       " '<start> the fourth , the fifth <end>',\n",
       " '<start> the minor fall , the major lift <end>',\n",
       " '<start> the baffled king composing hallelujah hallelujah <end>',\n",
       " '<start> hallelujah <end>',\n",
       " '<start> hallelujah <end>',\n",
       " '<start> hallelujah your faith was strong but you needed proof <end>']"
      ]
     },
     "execution_count": 4,
     "metadata": {},
     "output_type": "execute_result"
    }
   ],
   "source": [
    "# 여기에 정제된 문장을 모을겁니다\n",
    "corpus = []\n",
    "\n",
    "for sentence in raw_corpus:\n",
    "    # 우리가 원하지 않는 문장은 건너뜁니다\n",
    "    if len(sentence) == 0: continue\n",
    "    if sentence[-1] == \":\": continue\n",
    "    \n",
    "    # 정제를 하고 담아주세요\n",
    "    preprocessed_sentence = preprocess_sentence(sentence)\n",
    "    corpus.append(preprocessed_sentence)\n",
    "        \n",
    "# 정제된 결과를 10개만 확인해보죠\n",
    "corpus[:10]"
   ]
  },
  {
   "cell_type": "markdown",
   "id": "4306734c",
   "metadata": {},
   "source": [
    "### 토큰화 시켜주기"
   ]
  },
  {
   "cell_type": "code",
   "execution_count": 5,
   "id": "76c327b4",
   "metadata": {},
   "outputs": [
    {
     "name": "stdout",
     "output_type": "stream",
     "text": [
      "[[   2   50    5 ...    0    0    0]\n",
      " [   2   17 2639 ...    0    0    0]\n",
      " [   2   36    7 ...   43    3    0]\n",
      " ...\n",
      " [   5   22    9 ...   10 1013    3]\n",
      " [  37   15 9049 ...  877  647    3]\n",
      " [   2    7   34 ...    0    0    0]] <keras_preprocessing.text.Tokenizer object at 0x7fa33c9d6b50>\n"
     ]
    }
   ],
   "source": [
    "def tokenize(corpus):\n",
    "    tokenizer = tf.keras.preprocessing.text.Tokenizer(\n",
    "        num_words=12000, ㅠ\n",
    "        filters=' ',\n",
    "        oov_token=\"<unk>\"\n",
    "    )\n",
    "    # corpus를 이용해 tokenizer 내부의 단어장을 완성합니다\n",
    "    tokenizer.fit_on_texts(corpus)\n",
    "    # 준비한 tokenizer를 이용해 corpus를 Tensor로 변환합니다\n",
    "    tensor = tokenizer.texts_to_sequences(corpus)   \n",
    "    # 입력 데이터의 시퀀스 길이를 일정하게 맞춰줍니다\n",
    "    # 만약 시퀀스가 짧다면 문장 뒤에 패딩을 붙여 길이를 맞춰줍니다.\n",
    "    # 문장 앞에 패딩을 붙여 길이를 맞추고 싶다면 padding='pre'를 사용합니다\n",
    "    # maxlen=15로 설정\n",
    "    tensor = tf.keras.preprocessing.sequence.pad_sequences(tensor, padding='post',maxlen=15)  \n",
    "    \n",
    "    print(tensor,tokenizer)\n",
    "    return tensor, tokenizer\n",
    "\n",
    "tensor, tokenizer = tokenize(corpus)"
   ]
  },
  {
   "cell_type": "code",
   "execution_count": 6,
   "id": "0e9ba773",
   "metadata": {},
   "outputs": [
    {
     "name": "stdout",
     "output_type": "stream",
     "text": [
      "1 : <unk>\n",
      "2 : <start>\n",
      "3 : <end>\n",
      "4 : ,\n",
      "5 : i\n",
      "6 : the\n",
      "7 : you\n",
      "8 : and\n",
      "9 : a\n",
      "10 : to\n"
     ]
    }
   ],
   "source": [
    "for idx in tokenizer.index_word:\n",
    "    print(idx, \":\", tokenizer.index_word[idx])\n",
    "\n",
    "    if idx >= 10: break"
   ]
  },
  {
   "cell_type": "code",
   "execution_count": 7,
   "id": "08bc6815",
   "metadata": {},
   "outputs": [
    {
     "name": "stdout",
     "output_type": "stream",
     "text": [
      "[   2   50    5   91  297   65   57    9  969 6042    3    0    0    0]\n",
      "[  50    5   91  297   65   57    9  969 6042    3    0    0    0    0]\n"
     ]
    }
   ],
   "source": [
    "# tensor에서 마지막 토큰을 잘라내서 소스 문장을 생성합니다\n",
    "# 마지막 토큰은 <end>가 아니라 <pad>일 가능성이 높습니다.\n",
    "src_input = tensor[:, :-1]  \n",
    "# tensor에서 <start>를 잘라내서 타겟 문장을 생성합니다.\n",
    "tgt_input = tensor[:, 1:]    \n",
    "\n",
    "print(src_input[0])\n",
    "print(tgt_input[0])"
   ]
  },
  {
   "cell_type": "markdown",
   "id": "e6635a5a",
   "metadata": {},
   "source": [
    "### test데이터 와 train 데이터 나누기"
   ]
  },
  {
   "cell_type": "code",
   "execution_count": 8,
   "id": "5430fd35",
   "metadata": {},
   "outputs": [
    {
     "name": "stdout",
     "output_type": "stream",
     "text": [
      "Source Train:  (140599, 14)\n",
      "Target Train:  (140599, 14)\n"
     ]
    }
   ],
   "source": [
    "from sklearn.model_selection import train_test_split\n",
    "enc_train, enc_val, dec_train, dec_val = train_test_split(src_input, \n",
    "                                                          tgt_input,\n",
    "                                                          test_size=0.2,\n",
    "                                                          shuffle=True, \n",
    "                                                          random_state=34)\n",
    "print('Source Train: ', enc_train.shape)\n",
    "print('Target Train: ', dec_train.shape)"
   ]
  },
  {
   "cell_type": "code",
   "execution_count": 9,
   "id": "749fcfad",
   "metadata": {},
   "outputs": [
    {
     "data": {
      "text/plain": [
       "<BatchDataset shapes: ((128, 14), (128, 14)), types: (tf.int32, tf.int32)>"
      ]
     },
     "execution_count": 9,
     "metadata": {},
     "output_type": "execute_result"
    }
   ],
   "source": [
    "BUFFER_SIZE = len(src_input)\n",
    "BATCH_SIZE = 128\n",
    "steps_per_epoch = len(src_input) // BATCH_SIZE\n",
    "\n",
    " # tokenizer가 구축한 단어사전 내 7000개와, 여기 포함되지 않은 0:<pad>를 포함하여 7001개\n",
    "VOCAB_SIZE = tokenizer.num_words + 1   \n",
    "\n",
    "# 준비한 데이터 소스로부터 데이터셋을 만듭니다\n",
    "# 데이터셋에 대해서는 아래 문서를 참고하세요\n",
    "# 자세히 알아둘수록 도움이 많이 되는 중요한 문서입니다\n",
    "# https://www.tensorflow.org/api_docs/python/tf/data/Dataset\n",
    "dataset = tf.data.Dataset.from_tensor_slices((src_input, tgt_input))\n",
    "dataset = dataset.shuffle(BUFFER_SIZE)\n",
    "dataset = dataset.batch(BATCH_SIZE, drop_remainder=True)\n",
    "dataset"
   ]
  },
  {
   "cell_type": "markdown",
   "id": "875a69d9",
   "metadata": {},
   "source": [
    "### 학습시키기"
   ]
  },
  {
   "cell_type": "code",
   "execution_count": 10,
   "id": "5f18ce82",
   "metadata": {},
   "outputs": [],
   "source": [
    "class TextGenerator(tf.keras.Model):\n",
    "    def __init__(self, vocab_size, embedding_size, hidden_size):\n",
    "        super().__init__()\n",
    "        \n",
    "        self.embedding = tf.keras.layers.Embedding(vocab_size, embedding_size)\n",
    "        self.rnn_1 = tf.keras.layers.LSTM(hidden_size, return_sequences=True)\n",
    "        self.rnn_2 = tf.keras.layers.LSTM(hidden_size, return_sequences=True)\n",
    "        self.linear = tf.keras.layers.Dense(vocab_size)\n",
    "        \n",
    "    def call(self, x):\n",
    "        out = self.embedding(x)\n",
    "        out = self.rnn_1(out)\n",
    "        out = self.rnn_2(out)\n",
    "        out = self.linear(out)\n",
    "        \n",
    "        return out\n",
    "    \n",
    "embedding_size = 256\n",
    "hidden_size = 2048\n",
    "model = TextGenerator(tokenizer.num_words + 1, embedding_size , hidden_size)"
   ]
  },
  {
   "cell_type": "code",
   "execution_count": 11,
   "id": "62250d15",
   "metadata": {},
   "outputs": [
    {
     "data": {
      "text/plain": [
       "<tf.Tensor: shape=(128, 14, 12001), dtype=float32, numpy=\n",
       "array([[[ 1.72135478e-04,  1.43189987e-04,  1.17503070e-04, ...,\n",
       "          9.23977277e-05, -1.45006445e-04,  1.62355747e-04],\n",
       "        [ 5.87773335e-04,  5.05313568e-04,  1.19454016e-04, ...,\n",
       "          2.51447695e-04, -3.23475506e-05,  3.29384638e-04],\n",
       "        [ 7.44739489e-04,  4.03371669e-04, -1.49949992e-04, ...,\n",
       "          4.95014945e-04, -1.50598062e-04,  3.28486756e-04],\n",
       "        ...,\n",
       "        [-4.50142310e-04, -1.07869855e-03, -1.79403403e-03, ...,\n",
       "          2.33324803e-03,  2.82177672e-04,  9.52906033e-04],\n",
       "        [-2.66919786e-04, -1.45891914e-03, -2.14467151e-03, ...,\n",
       "          2.54980964e-03,  5.41327056e-04,  6.09732058e-04],\n",
       "        [-3.26174595e-05, -1.79685932e-03, -2.43530353e-03, ...,\n",
       "          2.72314972e-03,  7.74132670e-04,  2.32239923e-04]],\n",
       "\n",
       "       [[ 1.72135478e-04,  1.43189987e-04,  1.17503070e-04, ...,\n",
       "          9.23977277e-05, -1.45006445e-04,  1.62355747e-04],\n",
       "        [ 2.26452059e-04,  1.86512756e-04,  2.82681489e-04, ...,\n",
       "          8.28098346e-05, -2.45475618e-04,  2.29979960e-05],\n",
       "        [ 7.81777562e-05,  4.05286773e-05,  6.90234068e-04, ...,\n",
       "          3.18551669e-04, -6.15238212e-04, -5.58497322e-06],\n",
       "        ...,\n",
       "        [-1.09507039e-03, -3.95485476e-05, -1.13319489e-03, ...,\n",
       "          1.67832448e-04,  5.15382970e-04, -2.78744410e-04],\n",
       "        [-7.55203306e-04, -3.01742519e-04, -1.41743396e-03, ...,\n",
       "          5.75818296e-04,  8.25853669e-04, -4.67354781e-04],\n",
       "        [-3.62620078e-04, -5.86377049e-04, -1.64967787e-03, ...,\n",
       "          9.70375841e-04,  1.09127129e-03, -6.85739331e-04]],\n",
       "\n",
       "       [[ 2.54867500e-05,  1.14429851e-04,  9.36703800e-05, ...,\n",
       "          1.38533496e-05,  7.03755941e-05,  3.41330160e-05],\n",
       "        [-2.16579952e-04,  3.26542446e-04,  9.07593567e-05, ...,\n",
       "         -1.36196950e-05, -1.01891255e-05,  9.51960756e-05],\n",
       "        [-2.25213167e-04,  2.08692745e-05, -1.93391519e-04, ...,\n",
       "         -4.14272727e-05, -7.45503712e-05, -6.75684641e-05],\n",
       "        ...,\n",
       "        [ 2.41598958e-04, -4.49535466e-04,  4.22353367e-07, ...,\n",
       "          4.29950276e-04, -1.87801808e-04, -3.61923041e-04],\n",
       "        [ 4.78824222e-04, -4.68383252e-04,  4.28892645e-06, ...,\n",
       "          3.21200525e-04, -3.62068211e-04, -7.54232693e-04],\n",
       "        [ 3.01577587e-04, -1.90136692e-04, -9.28461741e-05, ...,\n",
       "          1.88852955e-05, -5.36411186e-04, -7.18740688e-04]],\n",
       "\n",
       "       ...,\n",
       "\n",
       "       [[ 1.72135478e-04,  1.43189987e-04,  1.17503070e-04, ...,\n",
       "          9.23977277e-05, -1.45006445e-04,  1.62355747e-04],\n",
       "        [ 1.30433211e-04,  1.24939921e-04,  7.44712743e-05, ...,\n",
       "          4.79081966e-04, -3.56837263e-04,  2.09119607e-04],\n",
       "        [ 2.24939486e-05,  2.27267126e-04,  7.44870486e-05, ...,\n",
       "          5.61735360e-04, -4.59949166e-04, -2.16641820e-05],\n",
       "        ...,\n",
       "        [ 6.02672881e-05, -8.87988077e-04, -4.22716432e-04, ...,\n",
       "          1.02617987e-03,  5.31842525e-04, -4.58072405e-04],\n",
       "        [ 8.42047211e-06, -8.53176054e-04, -1.55749105e-04, ...,\n",
       "          9.99502488e-04,  4.71292267e-04, -8.34504142e-04],\n",
       "        [-5.15627980e-05, -9.93215595e-04, -1.91076309e-04, ...,\n",
       "          9.37275938e-04,  5.45189017e-04, -6.68129360e-04]],\n",
       "\n",
       "       [[ 1.72135478e-04,  1.43189987e-04,  1.17503070e-04, ...,\n",
       "          9.23977277e-05, -1.45006445e-04,  1.62355747e-04],\n",
       "        [ 2.46109295e-04,  8.81146552e-05,  3.83065402e-04, ...,\n",
       "          2.30011618e-04, -1.02674319e-04,  4.00789111e-04],\n",
       "        [ 4.27912630e-04,  2.83915258e-04,  5.99418243e-04, ...,\n",
       "          4.65020188e-04,  1.38533906e-05,  2.49068107e-04],\n",
       "        ...,\n",
       "        [ 1.78720817e-04, -1.24541041e-03,  1.30413464e-04, ...,\n",
       "          1.92453631e-03,  1.07705616e-03, -1.53770103e-04],\n",
       "        [ 4.24716767e-04, -1.48402993e-03, -2.91732897e-04, ...,\n",
       "          2.17612460e-03,  1.29252905e-03, -5.27791970e-04],\n",
       "        [ 6.89888082e-04, -1.71018136e-03, -6.71611109e-04, ...,\n",
       "          2.37436336e-03,  1.46482885e-03, -8.62946792e-04]],\n",
       "\n",
       "       [[ 1.72135478e-04,  1.43189987e-04,  1.17503070e-04, ...,\n",
       "          9.23977277e-05, -1.45006445e-04,  1.62355747e-04],\n",
       "        [ 1.82382573e-04,  4.27820341e-05,  3.35725956e-04, ...,\n",
       "          4.94075590e-04, -3.77753517e-04,  1.69367282e-04],\n",
       "        [-9.08545044e-05,  1.63631019e-04,  4.02888225e-04, ...,\n",
       "          7.38322386e-04, -6.16250036e-04,  1.79491079e-04],\n",
       "        ...,\n",
       "        [-9.62954364e-04, -1.07890111e-03, -1.20718603e-03, ...,\n",
       "          1.37446844e-03, -2.63669790e-04,  1.61011951e-04],\n",
       "        [-6.56448246e-04, -1.25407393e-03, -1.49969326e-03, ...,\n",
       "          1.69032416e-03, -2.79427277e-05, -1.82350414e-04],\n",
       "        [-3.07011040e-04, -1.43676798e-03, -1.75101287e-03, ...,\n",
       "          1.97687559e-03,  2.11984327e-04, -5.38837630e-04]]],\n",
       "      dtype=float32)>"
      ]
     },
     "execution_count": 11,
     "metadata": {},
     "output_type": "execute_result"
    }
   ],
   "source": [
    "# 데이터셋에서 데이터 한 배치만 불러오는 방법입니다.\n",
    "for src_sample, tgt_sample in dataset.take(1): break\n",
    "\n",
    "# 한 배치만 불러온 데이터를 모델에 넣어봅니다\n",
    "model(src_sample)"
   ]
  },
  {
   "cell_type": "code",
   "execution_count": 12,
   "id": "44c89f8e",
   "metadata": {},
   "outputs": [
    {
     "name": "stdout",
     "output_type": "stream",
     "text": [
      "Model: \"text_generator\"\n",
      "_________________________________________________________________\n",
      "Layer (type)                 Output Shape              Param #   \n",
      "=================================================================\n",
      "embedding (Embedding)        multiple                  3072256   \n",
      "_________________________________________________________________\n",
      "lstm (LSTM)                  multiple                  18882560  \n",
      "_________________________________________________________________\n",
      "lstm_1 (LSTM)                multiple                  33562624  \n",
      "_________________________________________________________________\n",
      "dense (Dense)                multiple                  24590049  \n",
      "=================================================================\n",
      "Total params: 80,107,489\n",
      "Trainable params: 80,107,489\n",
      "Non-trainable params: 0\n",
      "_________________________________________________________________\n"
     ]
    }
   ],
   "source": [
    "model.summary()"
   ]
  },
  {
   "cell_type": "code",
   "execution_count": 13,
   "id": "e4cd2f36",
   "metadata": {},
   "outputs": [],
   "source": [
    "#optimizer = tf.keras.optimizers.Adam()\n",
    "#Loss\n",
    "#loss = tf.keras.losses.SparseCategoricalCrossentropy(\n",
    "    #from_logits=True, reduction='none')\n",
    "#model.compile(loss=loss, optimizer=optimizer)\n",
    "#model.fit(enc_train, dec_train =(enc_val),epochs=10, batch_size=512)"
   ]
  },
  {
   "cell_type": "markdown",
   "id": "fa56f39e",
   "metadata": {},
   "source": [
    "### 로스값 확인하기"
   ]
  },
  {
   "cell_type": "code",
   "execution_count": 14,
   "id": "7f3072de",
   "metadata": {},
   "outputs": [
    {
     "name": "stdout",
     "output_type": "stream",
     "text": [
      "Epoch 1/10\n",
      "1099/1099 [==============================] - 298s 269ms/step - loss: 3.4593 - val_loss: 3.0768\n",
      "Epoch 2/10\n",
      "1099/1099 [==============================] - 296s 270ms/step - loss: 2.9067 - val_loss: 2.8341\n",
      "Epoch 3/10\n",
      "1099/1099 [==============================] - 296s 269ms/step - loss: 2.5939 - val_loss: 2.6565\n",
      "Epoch 4/10\n",
      "1099/1099 [==============================] - 296s 270ms/step - loss: 2.2841 - val_loss: 2.5284\n",
      "Epoch 5/10\n",
      "1099/1099 [==============================] - 297s 270ms/step - loss: 1.9880 - val_loss: 2.4403\n",
      "Epoch 6/10\n",
      "1099/1099 [==============================] - 297s 270ms/step - loss: 1.7184 - val_loss: 2.3833\n",
      "Epoch 7/10\n",
      "1099/1099 [==============================] - 297s 270ms/step - loss: 1.4892 - val_loss: 2.3581\n",
      "Epoch 8/10\n",
      "1099/1099 [==============================] - 297s 270ms/step - loss: 1.3029 - val_loss: 2.3637\n",
      "Epoch 9/10\n",
      "1099/1099 [==============================] - 298s 271ms/step - loss: 1.1616 - val_loss: 2.3864\n",
      "Epoch 10/10\n",
      "1099/1099 [==============================] - 297s 271ms/step - loss: 1.0639 - val_loss: 2.4203\n"
     ]
    },
    {
     "data": {
      "text/plain": [
       "<keras.callbacks.History at 0x7fa32e730fa0>"
      ]
     },
     "execution_count": 14,
     "metadata": {},
     "output_type": "execute_result"
    }
   ],
   "source": [
    "optimizer = tf.keras.optimizers.Adam()\n",
    "loss = tf.keras.losses.SparseCategoricalCrossentropy(\n",
    "    from_logits=True,\n",
    "    reduction='none'\n",
    ")\n",
    "\n",
    "model.compile(loss=loss, optimizer=optimizer)\n",
    "model.fit(enc_train, dec_train, validation_data=(enc_val, dec_val),epochs=10, batch_size=128)"
   ]
  },
  {
   "cell_type": "markdown",
   "id": "e0e73351",
   "metadata": {},
   "source": [
    "### 잘만들어졌는지 테스트하기"
   ]
  },
  {
   "cell_type": "code",
   "execution_count": 29,
   "id": "519e110f",
   "metadata": {},
   "outputs": [],
   "source": [
    "def generate_text(model, tokenizer, init_sentence=\"<start>\", max_len=20):\n",
    "    # 테스트를 위해서 입력받은 init_sentence도 텐서로 변환합니다\n",
    "    test_input = tokenizer.texts_to_sequences([init_sentence])\n",
    "    test_tensor = tf.convert_to_tensor(test_input, dtype=tf.int64)\n",
    "    end_token = tokenizer.word_index[\"<end>\"]\n",
    "\n",
    "    # 단어 하나씩 예측해 문장을 만듭니다\n",
    "    #    1. 입력받은 문장의 텐서를 입력합니다\n",
    "    #    2. 예측된 값 중 가장 높은 확률인 word index를 뽑아냅니다\n",
    "    #    3. 2에서 예측된 word index를 문장 뒤에 붙입니다\n",
    "    #    4. 모델이 <end>를 예측했거나, max_len에 도달했다면 문장 생성을 마칩니다\n",
    "    while True:\n",
    "        # 1\n",
    "        predict = model(test_tensor) \n",
    "        # 2\n",
    "        predict_word = tf.argmax(tf.nn.softmax(predict, axis=-1), axis=-1)[:, -1] \n",
    "        # 3 \n",
    "        test_tensor = tf.concat([test_tensor, tf.expand_dims(predict_word, axis=0)], axis=-1)\n",
    "        # 4\n",
    "        if predict_word.numpy()[0] == end_token: break\n",
    "        if test_tensor.shape[1] >= max_len: break\n",
    "\n",
    "    generated = \"\"\n",
    "    # tokenizer를 이용해 word index를 단어로 하나씩 변환합니다 \n",
    "    for word_index in test_tensor[0].numpy():\n",
    "        generated += tokenizer.index_word[word_index] + \" \"\n",
    "\n",
    "    return generated"
   ]
  },
  {
   "cell_type": "code",
   "execution_count": 30,
   "id": "04826e60",
   "metadata": {},
   "outputs": [
    {
     "data": {
      "text/plain": [
       "'<start> i love you <end> '"
      ]
     },
     "execution_count": 30,
     "metadata": {},
     "output_type": "execute_result"
    }
   ],
   "source": [
    "generate_text(model, tokenizer, init_sentence=\"<start> i love\", max_len=20)"
   ]
  },
  {
   "cell_type": "markdown",
   "id": "ebf4abfe",
   "metadata": {},
   "source": [
    "## 회고"
   ]
  },
  {
   "cell_type": "markdown",
   "id": "a7e7319f",
   "metadata": {},
   "source": [
    "#### 이번 프로잭트를 진행하는데 loss값을 처음 구했을때 2.7이 나와서 처음에는 에포크값을 늘려서 학습시키는 방법을 생각해 봤지만 이 방법은 이번 프로잭트를 진행할때는 사용하지 못하는 방법이라 제외 시켰습니다.                                                                                                                   두번째로는 hidden size, batch size를 바꿔보는 방법을 생각하고 적용해봤는데 처음에는 효과가 있는줄 알았는데 마지막으로 갈수록 loss값이 올라갔습니다.                                                                                                                                                                                                                 아마 계속해서 loss값을 구하려고 에포크를 돌리다 보니 오버피팅이 돼서 그런게 아닐까 라는 생각을 했고 이 문제를 해결해보려고 했지만 도저히 방법을 못 찾아서 이대로 제출 하게 됐습니다. 이 프로잭트를 제출한뒤에도 오버피팅 해결 방법을 끝까지 생각해보겠습니다.\n"
   ]
  },
  {
   "cell_type": "code",
   "execution_count": null,
   "id": "27c951a9",
   "metadata": {},
   "outputs": [],
   "source": []
  },
  {
   "cell_type": "code",
   "execution_count": null,
   "id": "949dddbd",
   "metadata": {},
   "outputs": [],
   "source": []
  },
  {
   "cell_type": "code",
   "execution_count": null,
   "id": "5b0d3fca",
   "metadata": {},
   "outputs": [],
   "source": []
  },
  {
   "cell_type": "code",
   "execution_count": null,
   "id": "4ed5ac31",
   "metadata": {},
   "outputs": [],
   "source": []
  },
  {
   "cell_type": "code",
   "execution_count": null,
   "id": "5ddc256d",
   "metadata": {},
   "outputs": [],
   "source": []
  },
  {
   "cell_type": "code",
   "execution_count": null,
   "id": "58e6167e",
   "metadata": {},
   "outputs": [],
   "source": []
  },
  {
   "cell_type": "code",
   "execution_count": null,
   "id": "caac7f4c",
   "metadata": {},
   "outputs": [],
   "source": []
  },
  {
   "cell_type": "code",
   "execution_count": null,
   "id": "9740a6c9",
   "metadata": {},
   "outputs": [],
   "source": []
  },
  {
   "cell_type": "code",
   "execution_count": null,
   "id": "908bf073",
   "metadata": {},
   "outputs": [],
   "source": []
  }
 ],
 "metadata": {
  "kernelspec": {
   "display_name": "Python 3 (ipykernel)",
   "language": "python",
   "name": "python3"
  },
  "language_info": {
   "codemirror_mode": {
    "name": "ipython",
    "version": 3
   },
   "file_extension": ".py",
   "mimetype": "text/x-python",
   "name": "python",
   "nbconvert_exporter": "python",
   "pygments_lexer": "ipython3",
   "version": "3.9.7"
  }
 },
 "nbformat": 4,
 "nbformat_minor": 5
}
