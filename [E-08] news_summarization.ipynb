{
 "cells": [
  {
   "cell_type": "markdown",
   "id": "bd01cbeb",
   "metadata": {},
   "source": [
    "#### 필요한 데이터 불러오기"
   ]
  },
  {
   "cell_type": "code",
   "execution_count": 1,
   "id": "1dd33cef",
   "metadata": {},
   "outputs": [
    {
     "name": "stderr",
     "output_type": "stream",
     "text": [
      "[nltk_data] Downloading package stopwords to /aiffel/nltk_data...\n",
      "[nltk_data]   Unzipping corpora/stopwords.zip.\n"
     ]
    },
    {
     "name": "stdout",
     "output_type": "stream",
     "text": [
      "=3\n"
     ]
    }
   ],
   "source": [
    "import nltk\n",
    "nltk.download('stopwords')\n",
    "\n",
    "import numpy as np\n",
    "import pandas as pd\n",
    "import os\n",
    "import re\n",
    "import matplotlib.pyplot as plt\n",
    "from nltk.corpus import stopwords\n",
    "from bs4 import BeautifulSoup \n",
    "from tensorflow.keras.preprocessing.text import Tokenizer \n",
    "from tensorflow.keras.preprocessing.sequence import pad_sequences\n",
    "import urllib.request\n",
    "import warnings\n",
    "warnings.filterwarnings(\"ignore\", category=UserWarning, module='bs4')\n",
    "\n",
    "print('=3')"
   ]
  },
  {
   "cell_type": "markdown",
   "id": "300474b4",
   "metadata": {},
   "source": [
    "#### 데이터 수집하기"
   ]
  },
  {
   "cell_type": "code",
   "execution_count": 2,
   "id": "1c75c4b7",
   "metadata": {},
   "outputs": [],
   "source": [
    "import urllib.request\n",
    "urllib.request.urlretrieve(\"https://raw.githubusercontent.com/sunnysai12345/News_Summary/master/news_summary_more.csv\", filename=\"news_summary_more.csv\")\n",
    "data = pd.read_csv('news_summary_more.csv', encoding='iso-8859-1')"
   ]
  },
  {
   "cell_type": "code",
   "execution_count": 3,
   "id": "9832c798",
   "metadata": {},
   "outputs": [
    {
     "data": {
      "text/html": [
       "<div>\n",
       "<style scoped>\n",
       "    .dataframe tbody tr th:only-of-type {\n",
       "        vertical-align: middle;\n",
       "    }\n",
       "\n",
       "    .dataframe tbody tr th {\n",
       "        vertical-align: top;\n",
       "    }\n",
       "\n",
       "    .dataframe thead th {\n",
       "        text-align: right;\n",
       "    }\n",
       "</style>\n",
       "<table border=\"1\" class=\"dataframe\">\n",
       "  <thead>\n",
       "    <tr style=\"text-align: right;\">\n",
       "      <th></th>\n",
       "      <th>headlines</th>\n",
       "      <th>text</th>\n",
       "    </tr>\n",
       "  </thead>\n",
       "  <tbody>\n",
       "    <tr>\n",
       "      <th>20515</th>\n",
       "      <td>Farewell on Aug 26 for troops involved in floo...</td>\n",
       "      <td>Kerala CM Pinarayi Vijayan on Wednesday announ...</td>\n",
       "    </tr>\n",
       "    <tr>\n",
       "      <th>10855</th>\n",
       "      <td>I am unwell, do not believe disappearance rumo...</td>\n",
       "      <td>Urging his \"hyper-imaginative friends\" not to ...</td>\n",
       "    </tr>\n",
       "    <tr>\n",
       "      <th>46458</th>\n",
       "      <td>Media discusses my affairs until court date co...</td>\n",
       "      <td>Salman Khan has said articles come on his affa...</td>\n",
       "    </tr>\n",
       "    <tr>\n",
       "      <th>26359</th>\n",
       "      <td>Women inmates in Nagpur jail make eco-friendly...</td>\n",
       "      <td>Female inmates in the Nagpur Central Jail have...</td>\n",
       "    </tr>\n",
       "    <tr>\n",
       "      <th>41237</th>\n",
       "      <td>CISF staff gets training to handle fliers at M...</td>\n",
       "      <td>Mumbai International Airport Limited organised...</td>\n",
       "    </tr>\n",
       "    <tr>\n",
       "      <th>34173</th>\n",
       "      <td>Sachin batted just once on his birthday, hit a...</td>\n",
       "      <td>Cricket legend Sachin Tendulkar, who turned 45...</td>\n",
       "    </tr>\n",
       "    <tr>\n",
       "      <th>44826</th>\n",
       "      <td>Raveena wasn't shooting for ad in temple: Adve...</td>\n",
       "      <td>An official from Hemraj Advertising has clarif...</td>\n",
       "    </tr>\n",
       "    <tr>\n",
       "      <th>41241</th>\n",
       "      <td>Mumbai police officers donate blood on April F...</td>\n",
       "      <td>Police officers in Mumbai donated blood on Sun...</td>\n",
       "    </tr>\n",
       "    <tr>\n",
       "      <th>34594</th>\n",
       "      <td>Firm cleared FB's privacy practices in period ...</td>\n",
       "      <td>US-based auditing company PricewaterhouseCoope...</td>\n",
       "    </tr>\n",
       "    <tr>\n",
       "      <th>18492</th>\n",
       "      <td>Couple thrashed for opposing harassment in Delhi</td>\n",
       "      <td>A woman and her husband were allegedly beaten ...</td>\n",
       "    </tr>\n",
       "  </tbody>\n",
       "</table>\n",
       "</div>"
      ],
      "text/plain": [
       "                                               headlines  \\\n",
       "20515  Farewell on Aug 26 for troops involved in floo...   \n",
       "10855  I am unwell, do not believe disappearance rumo...   \n",
       "46458  Media discusses my affairs until court date co...   \n",
       "26359  Women inmates in Nagpur jail make eco-friendly...   \n",
       "41237  CISF staff gets training to handle fliers at M...   \n",
       "34173  Sachin batted just once on his birthday, hit a...   \n",
       "44826  Raveena wasn't shooting for ad in temple: Adve...   \n",
       "41241  Mumbai police officers donate blood on April F...   \n",
       "34594  Firm cleared FB's privacy practices in period ...   \n",
       "18492   Couple thrashed for opposing harassment in Delhi   \n",
       "\n",
       "                                                    text  \n",
       "20515  Kerala CM Pinarayi Vijayan on Wednesday announ...  \n",
       "10855  Urging his \"hyper-imaginative friends\" not to ...  \n",
       "46458  Salman Khan has said articles come on his affa...  \n",
       "26359  Female inmates in the Nagpur Central Jail have...  \n",
       "41237  Mumbai International Airport Limited organised...  \n",
       "34173  Cricket legend Sachin Tendulkar, who turned 45...  \n",
       "44826  An official from Hemraj Advertising has clarif...  \n",
       "41241  Police officers in Mumbai donated blood on Sun...  \n",
       "34594  US-based auditing company PricewaterhouseCoope...  \n",
       "18492  A woman and her husband were allegedly beaten ...  "
      ]
     },
     "execution_count": 3,
     "metadata": {},
     "output_type": "execute_result"
    }
   ],
   "source": [
    "data.sample(10)"
   ]
  },
  {
   "cell_type": "markdown",
   "id": "f7a93004",
   "metadata": {},
   "source": [
    "#### 데이터 전처리하기(추상적 요약)"
   ]
  },
  {
   "cell_type": "code",
   "execution_count": 4,
   "id": "b68a297d",
   "metadata": {},
   "outputs": [
    {
     "name": "stdout",
     "output_type": "stream",
     "text": [
      "text 열에서 중복을 배제한 유일한 샘플의 수 : 98360\n",
      "headlines 열에서 중복을 배제한 유일한 샘플의 수 : 98280\n"
     ]
    }
   ],
   "source": [
    "print('text 열에서 중복을 배제한 유일한 샘플의 수 :', data['text'].nunique())\n",
    "print('headlines 열에서 중복을 배제한 유일한 샘플의 수 :', data['headlines'].nunique())"
   ]
  },
  {
   "cell_type": "code",
   "execution_count": 5,
   "id": "8bdec938",
   "metadata": {},
   "outputs": [
    {
     "name": "stdout",
     "output_type": "stream",
     "text": [
      "전체 샘플수 : 98360\n"
     ]
    }
   ],
   "source": [
    "# inplace=True 를 설정하면 DataFrame 타입 값을 return 하지 않고 data 내부를 직접적으로 바꿉니다\n",
    "data.drop_duplicates(subset = ['text'], inplace=True)\n",
    "print('전체 샘플수 :', (len(data)))"
   ]
  },
  {
   "cell_type": "code",
   "execution_count": 6,
   "id": "156396b0",
   "metadata": {},
   "outputs": [
    {
     "name": "stdout",
     "output_type": "stream",
     "text": [
      "headlines    0\n",
      "text         0\n",
      "dtype: int64\n"
     ]
    }
   ],
   "source": [
    "print(data.isnull().sum())"
   ]
  },
  {
   "cell_type": "code",
   "execution_count": 7,
   "id": "2699fa68",
   "metadata": {},
   "outputs": [
    {
     "name": "stdout",
     "output_type": "stream",
     "text": [
      "전체 샘플수 : 98360\n"
     ]
    }
   ],
   "source": [
    "# Null 값이 있다면 dropna()를 이용해 제거해줍니다. 현재 데이터 샘플수에는 변화가 없습니다\n",
    "data.dropna(axis=0, inplace=True)\n",
    "print('전체 샘플수 :', (len(data)))"
   ]
  },
  {
   "cell_type": "markdown",
   "id": "49f1d260",
   "metadata": {},
   "source": [
    "#### 택스트 정규화와 불용어 제거"
   ]
  },
  {
   "cell_type": "code",
   "execution_count": 8,
   "id": "e431f3ee",
   "metadata": {},
   "outputs": [
    {
     "name": "stdout",
     "output_type": "stream",
     "text": [
      "정규화 사전의 수:  120\n"
     ]
    }
   ],
   "source": [
    "contractions = {\"ain't\": \"is not\", \"aren't\": \"are not\",\"can't\": \"cannot\", \"'cause\": \"because\", \"could've\": \"could have\", \"couldn't\": \"could not\",\n",
    "                           \"didn't\": \"did not\",  \"doesn't\": \"does not\", \"don't\": \"do not\", \"hadn't\": \"had not\", \"hasn't\": \"has not\", \"haven't\": \"have not\",\n",
    "                           \"he'd\": \"he would\",\"he'll\": \"he will\", \"he's\": \"he is\", \"how'd\": \"how did\", \"how'd'y\": \"how do you\", \"how'll\": \"how will\", \"how's\": \"how is\",\n",
    "                           \"I'd\": \"I would\", \"I'd've\": \"I would have\", \"I'll\": \"I will\", \"I'll've\": \"I will have\",\"I'm\": \"I am\", \"I've\": \"I have\", \"i'd\": \"i would\",\n",
    "                           \"i'd've\": \"i would have\", \"i'll\": \"i will\",  \"i'll've\": \"i will have\",\"i'm\": \"i am\", \"i've\": \"i have\", \"isn't\": \"is not\", \"it'd\": \"it would\",\n",
    "                           \"it'd've\": \"it would have\", \"it'll\": \"it will\", \"it'll've\": \"it will have\",\"it's\": \"it is\", \"let's\": \"let us\", \"ma'am\": \"madam\",\n",
    "                           \"mayn't\": \"may not\", \"might've\": \"might have\",\"mightn't\": \"might not\",\"mightn't've\": \"might not have\", \"must've\": \"must have\",\n",
    "                           \"mustn't\": \"must not\", \"mustn't've\": \"must not have\", \"needn't\": \"need not\", \"needn't've\": \"need not have\",\"o'clock\": \"of the clock\",\n",
    "                           \"oughtn't\": \"ought not\", \"oughtn't've\": \"ought not have\", \"shan't\": \"shall not\", \"sha'n't\": \"shall not\", \"shan't've\": \"shall not have\",\n",
    "                           \"she'd\": \"she would\", \"she'd've\": \"she would have\", \"she'll\": \"she will\", \"she'll've\": \"she will have\", \"she's\": \"she is\",\n",
    "                           \"should've\": \"should have\", \"shouldn't\": \"should not\", \"shouldn't've\": \"should not have\", \"so've\": \"so have\",\"so's\": \"so as\",\n",
    "                           \"this's\": \"this is\",\"that'd\": \"that would\", \"that'd've\": \"that would have\", \"that's\": \"that is\", \"there'd\": \"there would\",\n",
    "                           \"there'd've\": \"there would have\", \"there's\": \"there is\", \"here's\": \"here is\",\"they'd\": \"they would\", \"they'd've\": \"they would have\",\n",
    "                           \"they'll\": \"they will\", \"they'll've\": \"they will have\", \"they're\": \"they are\", \"they've\": \"they have\", \"to've\": \"to have\",\n",
    "                           \"wasn't\": \"was not\", \"we'd\": \"we would\", \"we'd've\": \"we would have\", \"we'll\": \"we will\", \"we'll've\": \"we will have\", \"we're\": \"we are\",\n",
    "                           \"we've\": \"we have\", \"weren't\": \"were not\", \"what'll\": \"what will\", \"what'll've\": \"what will have\", \"what're\": \"what are\",\n",
    "                           \"what's\": \"what is\", \"what've\": \"what have\", \"when's\": \"when is\", \"when've\": \"when have\", \"where'd\": \"where did\", \"where's\": \"where is\",\n",
    "                           \"where've\": \"where have\", \"who'll\": \"who will\", \"who'll've\": \"who will have\", \"who's\": \"who is\", \"who've\": \"who have\",\n",
    "                           \"why's\": \"why is\", \"why've\": \"why have\", \"will've\": \"will have\", \"won't\": \"will not\", \"won't've\": \"will not have\",\n",
    "                           \"would've\": \"would have\", \"wouldn't\": \"would not\", \"wouldn't've\": \"would not have\", \"y'all\": \"you all\",\n",
    "                           \"y'all'd\": \"you all would\",\"y'all'd've\": \"you all would have\",\"y'all're\": \"you all are\",\"y'all've\": \"you all have\",\n",
    "                           \"you'd\": \"you would\", \"you'd've\": \"you would have\", \"you'll\": \"you will\", \"you'll've\": \"you will have\",\n",
    "                           \"you're\": \"you are\", \"you've\": \"you have\"}\n",
    "\n",
    "print(\"정규화 사전의 수: \", len(contractions))"
   ]
  },
  {
   "cell_type": "code",
   "execution_count": 9,
   "id": "c41a0612",
   "metadata": {},
   "outputs": [
    {
     "name": "stdout",
     "output_type": "stream",
     "text": [
      "불용어 개수 : 179\n",
      "['i', 'me', 'my', 'myself', 'we', 'our', 'ours', 'ourselves', 'you', \"you're\", \"you've\", \"you'll\", \"you'd\", 'your', 'yours', 'yourself', 'yourselves', 'he', 'him', 'his', 'himself', 'she', \"she's\", 'her', 'hers', 'herself', 'it', \"it's\", 'its', 'itself', 'they', 'them', 'their', 'theirs', 'themselves', 'what', 'which', 'who', 'whom', 'this', 'that', \"that'll\", 'these', 'those', 'am', 'is', 'are', 'was', 'were', 'be', 'been', 'being', 'have', 'has', 'had', 'having', 'do', 'does', 'did', 'doing', 'a', 'an', 'the', 'and', 'but', 'if', 'or', 'because', 'as', 'until', 'while', 'of', 'at', 'by', 'for', 'with', 'about', 'against', 'between', 'into', 'through', 'during', 'before', 'after', 'above', 'below', 'to', 'from', 'up', 'down', 'in', 'out', 'on', 'off', 'over', 'under', 'again', 'further', 'then', 'once', 'here', 'there', 'when', 'where', 'why', 'how', 'all', 'any', 'both', 'each', 'few', 'more', 'most', 'other', 'some', 'such', 'no', 'nor', 'not', 'only', 'own', 'same', 'so', 'than', 'too', 'very', 's', 't', 'can', 'will', 'just', 'don', \"don't\", 'should', \"should've\", 'now', 'd', 'll', 'm', 'o', 're', 've', 'y', 'ain', 'aren', \"aren't\", 'couldn', \"couldn't\", 'didn', \"didn't\", 'doesn', \"doesn't\", 'hadn', \"hadn't\", 'hasn', \"hasn't\", 'haven', \"haven't\", 'isn', \"isn't\", 'ma', 'mightn', \"mightn't\", 'mustn', \"mustn't\", 'needn', \"needn't\", 'shan', \"shan't\", 'shouldn', \"shouldn't\", 'wasn', \"wasn't\", 'weren', \"weren't\", 'won', \"won't\", 'wouldn', \"wouldn't\"]\n"
     ]
    }
   ],
   "source": [
    "print('불용어 개수 :', len(stopwords.words('english') ))\n",
    "print(stopwords.words('english'))"
   ]
  },
  {
   "cell_type": "code",
   "execution_count": 10,
   "id": "3138ccf8",
   "metadata": {},
   "outputs": [
    {
     "name": "stdout",
     "output_type": "stream",
     "text": [
      "불용어 개수 : 179\n",
      "['i', 'me', 'my', 'myself', 'we', 'our', 'ours', 'ourselves', 'you', \"you're\", \"you've\", \"you'll\", \"you'd\", 'your', 'yours', 'yourself', 'yourselves', 'he', 'him', 'his', 'himself', 'she', \"she's\", 'her', 'hers', 'herself', 'it', \"it's\", 'its', 'itself', 'they', 'them', 'their', 'theirs', 'themselves', 'what', 'which', 'who', 'whom', 'this', 'that', \"that'll\", 'these', 'those', 'am', 'is', 'are', 'was', 'were', 'be', 'been', 'being', 'have', 'has', 'had', 'having', 'do', 'does', 'did', 'doing', 'a', 'an', 'the', 'and', 'but', 'if', 'or', 'because', 'as', 'until', 'while', 'of', 'at', 'by', 'for', 'with', 'about', 'against', 'between', 'into', 'through', 'during', 'before', 'after', 'above', 'below', 'to', 'from', 'up', 'down', 'in', 'out', 'on', 'off', 'over', 'under', 'again', 'further', 'then', 'once', 'here', 'there', 'when', 'where', 'why', 'how', 'all', 'any', 'both', 'each', 'few', 'more', 'most', 'other', 'some', 'such', 'no', 'nor', 'not', 'only', 'own', 'same', 'so', 'than', 'too', 'very', 's', 't', 'can', 'will', 'just', 'don', \"don't\", 'should', \"should've\", 'now', 'd', 'll', 'm', 'o', 're', 've', 'y', 'ain', 'aren', \"aren't\", 'couldn', \"couldn't\", 'didn', \"didn't\", 'doesn', \"doesn't\", 'hadn', \"hadn't\", 'hasn', \"hasn't\", 'haven', \"haven't\", 'isn', \"isn't\", 'ma', 'mightn', \"mightn't\", 'mustn', \"mustn't\", 'needn', \"needn't\", 'shan', \"shan't\", 'shouldn', \"shouldn't\", 'wasn', \"wasn't\", 'weren', \"weren't\", 'won', \"won't\", 'wouldn', \"wouldn't\"]\n"
     ]
    }
   ],
   "source": [
    "print('불용어 개수 :', len(stopwords.words('english') ))\n",
    "print(stopwords.words('english'))"
   ]
  },
  {
   "cell_type": "code",
   "execution_count": 11,
   "id": "514ce197",
   "metadata": {},
   "outputs": [],
   "source": [
    "# 데이터 전처리 함수\n",
    "def preprocess_sentence(sentence, remove_stopwords=True):\n",
    "    sentence = sentence.lower() # 텍스트 소문자화\n",
    "    sentence = BeautifulSoup(sentence, \"lxml\").text # <br />, <a href = ...> 등의 html 태그 제거\n",
    "    sentence = re.sub(r'\\([^)]*\\)', '', sentence) # 괄호로 닫힌 문자열 (...) 제거 Ex) my husband (and myself!) for => my husband for\n",
    "    sentence = re.sub('\"','', sentence) # 쌍따옴표 \" 제거\n",
    "    sentence = ' '.join([contractions[t] if t in contractions else t for t in sentence.split(\" \")]) # 약어 정규화\n",
    "    sentence = re.sub(r\"'s\\b\",\"\", sentence) # 소유격 제거. Ex) roland's -> roland\n",
    "    sentence = re.sub(\"[^a-zA-Z]\", \" \", sentence) # 영어 외 문자(숫자, 특수문자 등) 공백으로 변환\n",
    "    sentence = re.sub('[m]{2,}', 'mm', sentence) # m이 3개 이상이면 2개로 변경. Ex) ummmmmmm yeah -> umm yeah\n",
    "    \n",
    "    # 불용어 제거 (Text)\n",
    "    if remove_stopwords:\n",
    "        tokens = ' '.join(word for word in sentence.split() if not word in stopwords.words('english') if len(word) > 1)\n",
    "    # 불용어 미제거 (Summary)\n",
    "    else:\n",
    "        tokens = ' '.join(word for word in sentence.split() if len(word) > 1)\n",
    "    return tokens"
   ]
  },
  {
   "cell_type": "code",
   "execution_count": 12,
   "id": "7a7ba8f4",
   "metadata": {},
   "outputs": [
    {
     "name": "stdout",
     "output_type": "stream",
     "text": [
      "text:  everything bought great infact ordered twice third ordered wasfor mother father\n",
      "summary: great way to start the day\n"
     ]
    }
   ],
   "source": [
    "temp_text = 'Everything I bought was great, infact I ordered twice and the third ordered was<br />for my mother and father.'\n",
    "temp_summary = 'Great way to start (or finish) the day!!!'\n",
    "\n",
    "print(\"text: \", preprocess_sentence(temp_text))\n",
    "print(\"summary:\", preprocess_sentence(temp_summary, False))  # 불용어를 제거하지 않습니다."
   ]
  },
  {
   "cell_type": "markdown",
   "id": "b14269ce",
   "metadata": {},
   "source": [
    "#### 멀티 프로세싱으로 전처리 (속도up)"
   ]
  },
  {
   "cell_type": "code",
   "execution_count": 13,
   "id": "cb2f2c4f",
   "metadata": {
    "scrolled": true
   },
   "outputs": [
    {
     "name": "stdout",
     "output_type": "stream",
     "text": [
      "59.890437841415405  seconds\n",
      "['upgrad learner switches career ml al salary hike'\n",
      " 'delhi techie wins free food swiggy one year cred'\n",
      " 'new zealand end rohit sharma led india match winning streak' ...\n",
      " 'matrix film get reboot reports'\n",
      " 'snoop dogg aims gun clown dressed trump new video'\n",
      " 'madhesi morcha withdraws support nepalese government']\n",
      "11.2523775100708  seconds\n",
      "['saurav kant an alumnus of upgrad and iiit pg program in machine learning and artificial intelligence was sr systems engineer at infosys with almost years of work experience the program and upgrad degree career support helped him transition to data scientist at tech mahindra with salary hike upgrad online power learning has powered lakh careers'\n",
      " 'kunal shah credit card bill payment platform cred gave users chance to win free food from swiggy for one year pranav kaushik delhi techie bagged this reward after spending cred coins users get one cred coin per rupee of bill paid which can be used to avail rewards from brands like ixigo bookmyshow ubereats cult fit and more'\n",
      " 'new zealand defeated india by wickets in the fourth odi at hamilton on thursday to win their first match of the five match odi series india lost an international match under rohit sharma captaincy after consecutive victories dating back to march the match witnessed india getting all out for their seventh lowest total in odi cricket history'\n",
      " ...\n",
      " 'according to reports new version of the science fiction film the matrix is in development michael jordan will reportedly play the lead role in the film screenwriter zak penn is in talks to write the script of the film reports added actor keanu reeves starred in the original film which was followed by two sequels'\n",
      " 'new music video shows rapper snoop dogg aiming toy gun at clown character parodying us president donald trump the video also shows tv airing news conference with the headline ronald klump wants to deport all doggs airing live from the clown house the video is for remixed version of the song lavender'\n",
      " 'madhesi morcha an alliance of seven political parties has withdrawn support to pm pushpa kamal dahal led nepal government after it failed to meet seven day ultimatum to fulfil their demands including endorsement for the revised constitution amendment bill the morcha has seats in the parliament but despite the withdrawal of support there is no immediate threat to the government']\n"
     ]
    }
   ],
   "source": [
    "import multiprocessing as mp   # 멀티 프로세싱으로 전처리 속도를 획기적으로 줄여봅시다\n",
    "from multiprocessing import Pool\n",
    "import numpy as np\n",
    "import time\n",
    "from functools import partial  # map을 할 때 함수에 여러 인자를 넣어줄 수 있도록 합니다\n",
    "\n",
    "start = time.time()\n",
    "\n",
    "# num_cores 만큼 쪼개진 데이터를 전처리하여 반환합니다\n",
    "def appendTexts(sentences, remove_stopwords):\n",
    "  texts = []\n",
    "  for s in sentences:\n",
    "    texts += preprocess_sentence(s, remove_stopwords),\n",
    "  return texts\n",
    "\n",
    "def preprocess_data(data, remove_stopwords=True):\n",
    "  start_time = time.time()\n",
    "  num_cores = mp.cpu_count()  # 컴퓨터의 코어 수를 구합니다\n",
    "\n",
    "  text_data_split = np.array_split(data, num_cores)  # 코어 수만큼 데이터를 배분하여 병렬적으로 처리할 수 있게 합니다\n",
    "  pool = Pool(num_cores)\n",
    "\n",
    "  processed_data = np.concatenate(pool.map(partial(appendTexts, remove_stopwords=remove_stopwords), text_data_split))  # 각자 작업한 데이터를 하나로 합쳐줍니다\n",
    "  pool.close()\n",
    "  pool.join()\n",
    "  print(time.time() - start_time, \" seconds\")\n",
    "  return processed_data\n",
    "\n",
    "clean_headlines = preprocess_data(data['headlines'])  # 클라우드 기준으로 3~4분 정도 소요 됩니다\n",
    "print(clean_headlines)\n",
    "\n",
    "clean_text = preprocess_data(data['text'], remove_stopwords=False) #불용어 제거를 수행하지 않는다는 의미에서 두 번째 인자로 False\n",
    "print(clean_text)"
   ]
  },
  {
   "cell_type": "code",
   "execution_count": 14,
   "id": "cbcc08b6",
   "metadata": {},
   "outputs": [],
   "source": [
    "data['headlines']= clean_headlines\n",
    "data['text']= clean_text\n",
    "data.replace('',np.nan, inplace=True)"
   ]
  },
  {
   "cell_type": "code",
   "execution_count": 15,
   "id": "f635574b",
   "metadata": {
    "scrolled": true
   },
   "outputs": [
    {
     "data": {
      "text/plain": [
       "headlines    0\n",
       "text         0\n",
       "dtype: int64"
      ]
     },
     "execution_count": 15,
     "metadata": {},
     "output_type": "execute_result"
    }
   ],
   "source": [
    "data.isnull().sum()"
   ]
  },
  {
   "cell_type": "markdown",
   "id": "87b4a75c",
   "metadata": {},
   "source": [
    "#### 훈련 데이터와 테스트 데이터 나누기"
   ]
  },
  {
   "cell_type": "code",
   "execution_count": 16,
   "id": "14ee3059",
   "metadata": {},
   "outputs": [
    {
     "name": "stdout",
     "output_type": "stream",
     "text": [
      "텍스트의 최소 길이 : 1\n",
      "텍스트의 최대 길이 : 69\n",
      "텍스트의 평균 길이 : 56.180195201301345\n",
      "요약의 최소 길이 : 1\n",
      "요약의 최대 길이 : 13\n",
      "요약의 평균 길이 : 7.136183407889386\n"
     ]
    },
    {
     "data": {
      "image/png": "[encoded data removed]",
      "text/plain": [
       "<Figure size 432x288 with 2 Axes>"
      ]
     },
     "metadata": {
      "needs_background": "light"
     },
     "output_type": "display_data"
    },
    {
     "data": {
      "image/png": "[encoded data removed]",
      "text/plain": [
       "<Figure size 432x288 with 1 Axes>"
      ]
     },
     "metadata": {
      "needs_background": "light"
     },
     "output_type": "display_data"
    },
    {
     "data": {
      "image/png": "[encoded data removed]",
      "text/plain": [
       "<Figure size 432x288 with 1 Axes>"
      ]
     },
     "metadata": {
      "needs_background": "light"
     },
     "output_type": "display_data"
    }
   ],
   "source": [
    "# 샘플의 최대 길이 분포 출력\n",
    "import matplotlib.pyplot as plt\n",
    "\n",
    "text_len = [len(s.split()) for s in data['text']]\n",
    "headlines_len = [len(s.split()) for s in data['headlines']]ㅠ\n",
    "\n",
    "print('텍스트의 최소 길이 : {}'.format(np.min(text_len)))\n",
    "print('텍스트의 최대 길이 : {}'.format(np.max(text_len)))\n",
    "print('텍스트의 평균 길이 : {}'.format(np.mean(text_len)))\n",
    "print('요약의 최소 길이 : {}'.format(np.min(headlines_len)))\n",
    "print('요약의 최대 길이 : {}'.format(np.max(headlines_len)))\n",
    "print('요약의 평균 길이 : {}'.format(np.mean(headlines_len)))\n",
    "\n",
    "plt.subplot(1,2,1)\n",
    "plt.boxplot(headlines_len)\n",
    "plt.title('headlines')\n",
    "plt.subplot(1,2,2)\n",
    "plt.boxplot(text_len)\n",
    "plt.title('text')\n",
    "plt.tight_layout()\n",
    "plt.show()\n",
    "\n",
    "plt.title('headlines')\n",
    "plt.hist(headlines_len, bins = 40)\n",
    "plt.xlabel('length of samples')\n",
    "plt.ylabel('number of samples')\n",
    "plt.show()\n",
    "\n",
    "plt.title('Text')\n",
    "plt.hist(text_len, bins = 40)\n",
    "plt.xlabel('length of samples')\n",
    "plt.ylabel('number of samples')\n",
    "plt.show()"
   ]
  },
  {
   "cell_type": "code",
   "execution_count": 17,
   "id": "cfabb3b2",
   "metadata": {},
   "outputs": [
    {
     "name": "stdout",
     "output_type": "stream",
     "text": [
      "=3\n"
     ]
    }
   ],
   "source": [
    "text_max_len = 57\n",
    "headlines_max_len = 7\n",
    "print('=3')"
   ]
  },
  {
   "cell_type": "code",
   "execution_count": 18,
   "id": "a827544b",
   "metadata": {},
   "outputs": [],
   "source": [
    "def below_threshold_len(max_len, nested_list):\n",
    "  cnt = 0\n",
    "  for s in nested_list:\n",
    "    if(len(s.split()) <= max_len):\n",
    "        cnt = cnt + 1\n",
    "  print('전체 샘플 중 길이가 %s 이하인 샘플의 비율: %s'%(max_len, (cnt / len(nested_list))))"
   ]
  },
  {
   "cell_type": "code",
   "execution_count": 19,
   "id": "6d6c6f61",
   "metadata": {},
   "outputs": [
    {
     "name": "stdout",
     "output_type": "stream",
     "text": [
      "전체 샘플 중 길이가 57 이하인 샘플의 비율: 0.6258235054900366\n",
      "전체 샘플 중 길이가 7 이하인 샘플의 비율: 0.6264640097600651\n"
     ]
    }
   ],
   "source": [
    "below_threshold_len(text_max_len, data['text'])\n",
    "below_threshold_len(headlines_max_len,  data['headlines'])"
   ]
  },
  {
   "cell_type": "code",
   "execution_count": 20,
   "id": "9f44a222",
   "metadata": {},
   "outputs": [
    {
     "name": "stdout",
     "output_type": "stream",
     "text": [
      "전체 샘플수 : 39924\n"
     ]
    }
   ],
   "source": [
    "data = data[data['text'].apply(lambda x: len(x.split()) <= text_max_len)]\n",
    "data = data[data['headlines'].apply(lambda x: len(x.split()) <= headlines_max_len)]\n",
    "print('전체 샘플수 :', (len(data)))"
   ]
  },
  {
   "cell_type": "markdown",
   "id": "25c5139d",
   "metadata": {},
   "source": [
    "#### 시작 토크과 종료 토큰 추가"
   ]
  },
  {
   "cell_type": "code",
   "execution_count": 21,
   "id": "3c800097",
   "metadata": {
    "scrolled": true
   },
   "outputs": [
    {
     "data": {
      "text/html": [
       "<div>\n",
       "<style scoped>\n",
       "    .dataframe tbody tr th:only-of-type {\n",
       "        vertical-align: middle;\n",
       "    }\n",
       "\n",
       "    .dataframe tbody tr th {\n",
       "        vertical-align: top;\n",
       "    }\n",
       "\n",
       "    .dataframe thead th {\n",
       "        text-align: right;\n",
       "    }\n",
       "</style>\n",
       "<table border=\"1\" class=\"dataframe\">\n",
       "  <thead>\n",
       "    <tr style=\"text-align: right;\">\n",
       "      <th></th>\n",
       "      <th>headlines</th>\n",
       "      <th>text</th>\n",
       "      <th>decoder_input</th>\n",
       "      <th>decoder_target</th>\n",
       "    </tr>\n",
       "  </thead>\n",
       "  <tbody>\n",
       "    <tr>\n",
       "      <th>6</th>\n",
       "      <td>india get lowest odi total new zealand</td>\n",
       "      <td>india recorded their lowest odi total in new z...</td>\n",
       "      <td>sostoken india get lowest odi total new zealand</td>\n",
       "      <td>india get lowest odi total new zealand eostoken</td>\n",
       "    </tr>\n",
       "    <tr>\n",
       "      <th>12</th>\n",
       "      <td>ram krishna smoke ramdev sadhus kumbh</td>\n",
       "      <td>urging saints and seers at the kumbh mela to q...</td>\n",
       "      <td>sostoken ram krishna smoke ramdev sadhus kumbh</td>\n",
       "      <td>ram krishna smoke ramdev sadhus kumbh eostoken</td>\n",
       "    </tr>\n",
       "    <tr>\n",
       "      <th>18</th>\n",
       "      <td>long tolerate congress leaders potshots taka cm</td>\n",
       "      <td>days after he threatened to step down from his...</td>\n",
       "      <td>sostoken long tolerate congress leaders potsho...</td>\n",
       "      <td>long tolerate congress leaders potshots taka c...</td>\n",
       "    </tr>\n",
       "    <tr>\n",
       "      <th>20</th>\n",
       "      <td>think opposition even dreams pm modi</td>\n",
       "      <td>claiming there is dearth of ideas among opposi...</td>\n",
       "      <td>sostoken think opposition even dreams pm modi</td>\n",
       "      <td>think opposition even dreams pm modi eostoken</td>\n",
       "    </tr>\n",
       "    <tr>\n",
       "      <th>22</th>\n",
       "      <td>killed injured saudi arabia floods</td>\n",
       "      <td>at least people have been killed and others ha...</td>\n",
       "      <td>sostoken killed injured saudi arabia floods</td>\n",
       "      <td>killed injured saudi arabia floods eostoken</td>\n",
       "    </tr>\n",
       "  </tbody>\n",
       "</table>\n",
       "</div>"
      ],
      "text/plain": [
       "                                          headlines  \\\n",
       "6            india get lowest odi total new zealand   \n",
       "12            ram krishna smoke ramdev sadhus kumbh   \n",
       "18  long tolerate congress leaders potshots taka cm   \n",
       "20             think opposition even dreams pm modi   \n",
       "22               killed injured saudi arabia floods   \n",
       "\n",
       "                                                 text  \\\n",
       "6   india recorded their lowest odi total in new z...   \n",
       "12  urging saints and seers at the kumbh mela to q...   \n",
       "18  days after he threatened to step down from his...   \n",
       "20  claiming there is dearth of ideas among opposi...   \n",
       "22  at least people have been killed and others ha...   \n",
       "\n",
       "                                        decoder_input  \\\n",
       "6     sostoken india get lowest odi total new zealand   \n",
       "12     sostoken ram krishna smoke ramdev sadhus kumbh   \n",
       "18  sostoken long tolerate congress leaders potsho...   \n",
       "20      sostoken think opposition even dreams pm modi   \n",
       "22        sostoken killed injured saudi arabia floods   \n",
       "\n",
       "                                       decoder_target  \n",
       "6     india get lowest odi total new zealand eostoken  \n",
       "12     ram krishna smoke ramdev sadhus kumbh eostoken  \n",
       "18  long tolerate congress leaders potshots taka c...  \n",
       "20      think opposition even dreams pm modi eostoken  \n",
       "22        killed injured saudi arabia floods eostoken  "
      ]
     },
     "execution_count": 21,
     "metadata": {},
     "output_type": "execute_result"
    }
   ],
   "source": [
    "data['decoder_input'] = data['headlines'].apply(lambda x : 'sostoken '+ x)\n",
    "data['decoder_target'] = data['headlines'].apply(lambda x : x + ' eostoken')\n",
    "data.head()"
   ]
  },
  {
   "cell_type": "markdown",
   "id": "abc1a5a1",
   "metadata": {},
   "source": [
    "#### np타입으로 저장"
   ]
  },
  {
   "cell_type": "code",
   "execution_count": 22,
   "id": "11e54bdd",
   "metadata": {},
   "outputs": [],
   "source": [
    "encoder_input = np.array(data['text']) # 인코더의 입력\n",
    "decoder_input = np.array(data['decoder_input']) # 디코더의 입력\n",
    "decoder_target = np.array(data['decoder_target']) # 디코더의 레이블"
   ]
  },
  {
   "cell_type": "code",
   "execution_count": 23,
   "id": "430797b4",
   "metadata": {},
   "outputs": [
    {
     "name": "stdout",
     "output_type": "stream",
     "text": [
      "[ 6876 33649 26096 ... 39837 28290 17891]\n"
     ]
    }
   ],
   "source": [
    "# 훈련 데이터와 테스트 데이터 분리\n",
    "\n",
    "indices = np.arange(encoder_input.shape[0])\n",
    "np.random.shuffle(indices)\n",
    "print(indices)"
   ]
  },
  {
   "cell_type": "code",
   "execution_count": 24,
   "id": "b0bafa8c",
   "metadata": {},
   "outputs": [],
   "source": [
    "encoder_input = encoder_input[indices]\n",
    "decoder_input = decoder_input[indices]\n",
    "decoder_target = decoder_target[indices]"
   ]
  },
  {
   "cell_type": "markdown",
   "id": "fcd572ae",
   "metadata": {},
   "source": [
    "#### 훈련 데이터와 테스트 데이터 8:2 비율로 분리"
   ]
  },
  {
   "cell_type": "code",
   "execution_count": 25,
   "id": "f4cd6f0d",
   "metadata": {},
   "outputs": [
    {
     "name": "stdout",
     "output_type": "stream",
     "text": [
      "테스트 데이터의 수 : 7984\n"
     ]
    }
   ],
   "source": [
    "n_of_val = int(len(encoder_input)*0.2)\n",
    "print('테스트 데이터의 수 :', n_of_val)"
   ]
  },
  {
   "cell_type": "code",
   "execution_count": 26,
   "id": "51ce6e62",
   "metadata": {},
   "outputs": [
    {
     "name": "stdout",
     "output_type": "stream",
     "text": [
      "훈련 데이터의 개수 : 31940\n",
      "훈련 레이블의 개수 : 31940\n",
      "테스트 데이터의 개수 : 7984\n",
      "테스트 레이블의 개수 : 7984\n"
     ]
    }
   ],
   "source": [
    "encoder_input_train = encoder_input[:-n_of_val]\n",
    "decoder_input_train = decoder_input[:-n_of_val]\n",
    "decoder_target_train = decoder_target[:-n_of_val]\n",
    "\n",
    "encoder_input_test = encoder_input[-n_of_val:]\n",
    "decoder_input_test = decoder_input[-n_of_val:]\n",
    "decoder_target_test = decoder_target[-n_of_val:]\n",
    "\n",
    "print('훈련 데이터의 개수 :', len(encoder_input_train))\n",
    "print('훈련 레이블의 개수 :', len(decoder_input_train))\n",
    "print('테스트 데이터의 개수 :', len(encoder_input_test))\n",
    "print('테스트 레이블의 개수 :', len(decoder_input_test))"
   ]
  },
  {
   "cell_type": "markdown",
   "id": "638bf39d",
   "metadata": {},
   "source": [
    "#### 단어 집합 만들기 및 정수 인코딩"
   ]
  },
  {
   "cell_type": "code",
   "execution_count": 27,
   "id": "6dde26a4",
   "metadata": {},
   "outputs": [
    {
     "name": "stdout",
     "output_type": "stream",
     "text": [
      "=3\n"
     ]
    }
   ],
   "source": [
    "src_tokenizer = Tokenizer() # 토크나이저 정의\n",
    "src_tokenizer.fit_on_texts(encoder_input_train) # 입력된 데이터로부터 단어 집합 생성\n",
    "print('=3')"
   ]
  },
  {
   "cell_type": "code",
   "execution_count": 28,
   "id": "29c36de6",
   "metadata": {},
   "outputs": [
    {
     "name": "stdout",
     "output_type": "stream",
     "text": [
      "단어 집합(vocabulary)의 크기 : 48028\n",
      "등장 빈도가 6번 이하인 희귀 단어의 수: 33995\n",
      "단어 집합에서 희귀 단어를 제외시킬 경우의 단어 집합의 크기 14033\n",
      "단어 집합에서 희귀 단어의 비율: 70.78162738402598\n",
      "전체 등장 빈도에서 희귀 단어 등장 빈도 비율: 4.00591690704823\n"
     ]
    }
   ],
   "source": [
    "threshold = 7\n",
    "total_cnt = len(src_tokenizer.word_index) # 단어의 수\n",
    "rare_cnt = 0 # 등장 빈도수가 threshold보다 작은 단어의 개수를 카운트\n",
    "total_freq = 0 # 훈련 데이터의 전체 단어 빈도수 총 합\n",
    "rare_freq = 0 # 등장 빈도수가 threshold보다 작은 단어의 등장 빈도수의 총 합\n",
    "\n",
    "# 단어와 빈도수의 쌍(pair)을 key와 value로 받는다.\n",
    "for key, value in src_tokenizer.word_counts.items():\n",
    "    total_freq = total_freq + value\n",
    "\n",
    "    # 단어의 등장 빈도수가 threshold보다 작으면\n",
    "    if(value < threshold):\n",
    "        rare_cnt = rare_cnt + 1\n",
    "        rare_freq = rare_freq + value\n",
    "\n",
    "print('단어 집합(vocabulary)의 크기 :', total_cnt)\n",
    "print('등장 빈도가 %s번 이하인 희귀 단어의 수: %s'%(threshold - 1, rare_cnt))\n",
    "print('단어 집합에서 희귀 단어를 제외시킬 경우의 단어 집합의 크기 %s'%(total_cnt - rare_cnt))\n",
    "print(\"단어 집합에서 희귀 단어의 비율:\", (rare_cnt / total_cnt)*100)\n",
    "print(\"전체 등장 빈도에서 희귀 단어 등장 빈도 비율:\", (rare_freq / total_freq)*100)"
   ]
  },
  {
   "cell_type": "code",
   "execution_count": 29,
   "id": "66d5cba9",
   "metadata": {},
   "outputs": [
    {
     "name": "stdout",
     "output_type": "stream",
     "text": [
      "=3\n"
     ]
    }
   ],
   "source": [
    "src_vocab = 8000\n",
    "src_tokenizer = Tokenizer(num_words=src_vocab) # 단어 집합의 크기를 8,000으로 제한\n",
    "src_tokenizer.fit_on_texts(encoder_input_train) # 단어 집합 재생성\n",
    "print('=3')"
   ]
  },
  {
   "cell_type": "code",
   "execution_count": 30,
   "id": "187f0d84",
   "metadata": {},
   "outputs": [
    {
     "name": "stdout",
     "output_type": "stream",
     "text": [
      "[[34, 4699, 2, 44, 1462, 3196, 90, 94, 256, 34, 33, 572, 80, 3, 180, 199, 13, 1, 60, 381, 79, 6, 105, 1, 1146, 677, 2983, 30, 1648, 5, 1065, 37, 212, 23, 5492, 1, 180, 587, 10, 2067, 768, 4700, 1, 4699, 268, 197, 3832], [382, 3, 455, 292, 113, 3528, 1648, 358, 2, 563, 5, 37, 415, 1336, 143, 3633, 37, 70, 4, 482, 1, 1648, 11, 264, 3, 3291, 524, 830, 5, 221, 88, 11, 816, 3122, 5, 11, 881, 3, 4870, 6, 1, 1756, 8, 319, 1, 46, 9, 1, 205, 11, 4, 573, 774], [86, 46, 1641, 6859, 7, 214, 67, 238, 3326, 3, 1, 750, 4, 5388, 8, 6860, 3, 1660, 1871, 2, 1, 283, 41, 1, 750, 4, 4004, 5388, 8, 1, 3634, 81, 196, 95, 53, 3, 78, 181, 23, 238, 1992, 12, 466, 3, 25, 807, 344, 319]]\n"
     ]
    }
   ],
   "source": [
    "# 텍스트 시퀀스를 정수 시퀀스로 변환\n",
    "encoder_input_train = src_tokenizer.texts_to_sequences(encoder_input_train) \n",
    "encoder_input_test = src_tokenizer.texts_to_sequences(encoder_input_test)\n",
    "\n",
    "# 잘 진행되었는지 샘플 출력\n",
    "print(encoder_input_train[:3])"
   ]
  },
  {
   "cell_type": "code",
   "execution_count": 31,
   "id": "ea429083",
   "metadata": {},
   "outputs": [
    {
     "name": "stdout",
     "output_type": "stream",
     "text": [
      "=3\n"
     ]
    }
   ],
   "source": [
    "tar_tokenizer = Tokenizer()\n",
    "tar_tokenizer.fit_on_texts(decoder_input_train)\n",
    "print('=3')"
   ]
  },
  {
   "cell_type": "code",
   "execution_count": 32,
   "id": "a8e566da",
   "metadata": {},
   "outputs": [
    {
     "name": "stdout",
     "output_type": "stream",
     "text": [
      "단어 집합(vocabulary)의 크기 : 20920\n",
      "등장 빈도가 5번 이하인 희귀 단어의 수: 15048\n",
      "단어 집합에서 희귀 단어를 제외시킬 경우의 단어 집합의 크기 5872\n",
      "단어 집합에서 희귀 단어의 비율: 71.93116634799235\n",
      "전체 등장 빈도에서 희귀 단어 등장 빈도 비율: 12.00509828165889\n"
     ]
    }
   ],
   "source": [
    "threshold = 6\n",
    "total_cnt = len(tar_tokenizer.word_index) # 단어의 수\n",
    "rare_cnt = 0 # 등장 빈도수가 threshold보다 작은 단어의 개수를 카운트\n",
    "total_freq = 0 # 훈련 데이터의 전체 단어 빈도수 총 합\n",
    "rare_freq = 0 # 등장 빈도수가 threshold보다 작은 단어의 등장 빈도수의 총 합\n",
    "\n",
    "# 단어와 빈도수의 쌍(pair)을 key와 value로 받는다.\n",
    "for key, value in tar_tokenizer.word_counts.items():\n",
    "    total_freq = total_freq + value\n",
    "\n",
    "    # 단어의 등장 빈도수가 threshold보다 작으면\n",
    "    if(value < threshold):\n",
    "        rare_cnt = rare_cnt + 1\n",
    "        rare_freq = rare_freq + value\n",
    "\n",
    "print('단어 집합(vocabulary)의 크기 :', total_cnt)\n",
    "print('등장 빈도가 %s번 이하인 희귀 단어의 수: %s'%(threshold - 1, rare_cnt))\n",
    "print('단어 집합에서 희귀 단어를 제외시킬 경우의 단어 집합의 크기 %s'%(total_cnt - rare_cnt))\n",
    "print(\"단어 집합에서 희귀 단어의 비율:\", (rare_cnt / total_cnt)*100)\n",
    "print(\"전체 등장 빈도에서 희귀 단어 등장 빈도 비율:\", (rare_freq / total_freq)*100)"
   ]
  },
  {
   "cell_type": "code",
   "execution_count": 33,
   "id": "5eeba457",
   "metadata": {},
   "outputs": [
    {
     "name": "stdout",
     "output_type": "stream",
     "text": [
      "input\n",
      "input  [[1, 5, 131, 1069, 242], [1, 691, 975, 1193, 145, 253], [1, 570, 9, 542, 152], [1, 21, 642, 643], [1, 283, 543, 314, 107]]\n",
      "target\n",
      "decoder  [[5, 131, 1069, 242, 2], [691, 975, 1193, 145, 253, 2], [570, 9, 542, 152, 2], [21, 642, 643, 2], [283, 543, 314, 107, 2]]\n"
     ]
    }
   ],
   "source": [
    "tar_vocab = 2000\n",
    "tar_tokenizer = Tokenizer(num_words=tar_vocab) \n",
    "tar_tokenizer.fit_on_texts(decoder_input_train)\n",
    "tar_tokenizer.fit_on_texts(decoder_target_train)\n",
    "\n",
    "# 텍스트 시퀀스를 정수 시퀀스로 변환\n",
    "decoder_input_train = tar_tokenizer.texts_to_sequences(decoder_input_train) \n",
    "decoder_target_train = tar_tokenizer.texts_to_sequences(decoder_target_train)\n",
    "decoder_input_test = tar_tokenizer.texts_to_sequences(decoder_input_test)\n",
    "decoder_target_test = tar_tokenizer.texts_to_sequences(decoder_target_test)\n",
    "\n",
    "# 잘 변환되었는지 확인\n",
    "print('input')\n",
    "print('input ',decoder_input_train[:5])\n",
    "print('target')\n",
    "print('decoder ',decoder_target_train[:5])"
   ]
  },
  {
   "cell_type": "code",
   "execution_count": 34,
   "id": "27c50145",
   "metadata": {},
   "outputs": [
    {
     "name": "stdout",
     "output_type": "stream",
     "text": [
      "삭제할 훈련 데이터의 개수 : 123\n",
      "삭제할 테스트 데이터의 개수 : 35\n",
      "훈련 데이터의 개수 : 31817\n",
      "훈련 레이블의 개수 : 31817\n",
      "테스트 데이터의 개수 : 7949\n",
      "테스트 레이블의 개수 : 7949\n"
     ]
    }
   ],
   "source": [
    "drop_train = [index for index, sentence in enumerate(decoder_input_train) if len(sentence) == 1]\n",
    "drop_test = [index for index, sentence in enumerate(decoder_input_test) if len(sentence) == 1]\n",
    "\n",
    "print('삭제할 훈련 데이터의 개수 :', len(drop_train))\n",
    "print('삭제할 테스트 데이터의 개수 :', len(drop_test))\n",
    "\n",
    "encoder_input_train = [sentence for index, sentence in enumerate(encoder_input_train) if index not in drop_train]\n",
    "decoder_input_train = [sentence for index, sentence in enumerate(decoder_input_train) if index not in drop_train]\n",
    "decoder_target_train = [sentence for index, sentence in enumerate(decoder_target_train) if index not in drop_train]\n",
    "\n",
    "encoder_input_test = [sentence for index, sentence in enumerate(encoder_input_test) if index not in drop_test]\n",
    "decoder_input_test = [sentence for index, sentence in enumerate(decoder_input_test) if index not in drop_test]\n",
    "decoder_target_test = [sentence for index, sentence in enumerate(decoder_target_test) if index not in drop_test]\n",
    "\n",
    "print('훈련 데이터의 개수 :', len(encoder_input_train))\n",
    "print('훈련 레이블의 개수 :', len(decoder_input_train))\n",
    "print('테스트 데이터의 개수 :', len(encoder_input_test))\n",
    "print('테스트 레이블의 개수 :', len(decoder_input_test))"
   ]
  },
  {
   "cell_type": "markdown",
   "id": "a0646e4e",
   "metadata": {},
   "source": [
    "#### 패딩하기"
   ]
  },
  {
   "cell_type": "code",
   "execution_count": 35,
   "id": "8bb71b3f",
   "metadata": {},
   "outputs": [],
   "source": [
    "encoder_input_train = pad_sequences(encoder_input_train, maxlen=text_max_len, padding='post')\n",
    "encoder_input_test = pad_sequences(encoder_input_test, maxlen=text_max_len, padding='post')\n",
    "decoder_input_train = pad_sequences(decoder_input_train, maxlen=headlines_max_len, padding='post')\n",
    "decoder_target_train = pad_sequences(decoder_target_train, maxlen=headlines_max_len, padding='post')\n",
    "decoder_input_test = pad_sequences(decoder_input_test, maxlen=headlines_max_len, padding='post')\n",
    "decoder_target_test = pad_sequences(decoder_target_test, maxlen=headlines_max_len, padding='post')"
   ]
  },
  {
   "cell_type": "markdown",
   "id": "8215cefa",
   "metadata": {},
   "source": [
    "#### 어텐션 메커니즘 사용하기 (추상적 요약)"
   ]
  },
  {
   "cell_type": "code",
   "execution_count": 36,
   "id": "ba3879c2",
   "metadata": {},
   "outputs": [
    {
     "name": "stdout",
     "output_type": "stream",
     "text": [
      "WARNING:tensorflow:Layer lstm will not use cuDNN kernels since it doesn't meet the criteria. It will use a generic GPU kernel as fallback when running on GPU.\n",
      "WARNING:tensorflow:Layer lstm_1 will not use cuDNN kernels since it doesn't meet the criteria. It will use a generic GPU kernel as fallback when running on GPU.\n",
      "WARNING:tensorflow:Layer lstm_2 will not use cuDNN kernels since it doesn't meet the criteria. It will use a generic GPU kernel as fallback when running on GPU.\n"
     ]
    }
   ],
   "source": [
    "from tensorflow.keras.layers import Input, LSTM, Embedding, Dense, Concatenate, TimeDistributed\n",
    "from tensorflow.keras.models import Model\n",
    "from tensorflow.keras.callbacks import EarlyStopping, ModelCheckpoint\n",
    "\n",
    "\n",
    "# 인코더 설계 시작\n",
    "embedding_dim = 128\n",
    "hidden_size = 256\n",
    "\n",
    "# 인코더\n",
    "encoder_inputs = Input(shape=(text_max_len,))\n",
    "\n",
    "# 인코더의 임베딩 층\n",
    "enc_emb = Embedding(src_vocab, embedding_dim)(encoder_inputs)\n",
    "\n",
    "# 인코더의 LSTM 1\n",
    "encoder_lstm1 = LSTM(hidden_size, return_sequences=True, return_state=True ,dropout = 0.4, recurrent_dropout = 0.4)\n",
    "encoder_output1, state_h1, state_c1 = encoder_lstm1(enc_emb)\n",
    "\n",
    "# 인코더의 LSTM 2\n",
    "encoder_lstm2 = LSTM(hidden_size, return_sequences=True, return_state=True, dropout=0.4, recurrent_dropout=0.4)\n",
    "encoder_output2, state_h2, state_c2 = encoder_lstm2(encoder_output1)\n",
    "\n",
    "# 인코더의 LSTM 3\n",
    "encoder_lstm3 = LSTM(hidden_size, return_state=True, return_sequences=True, dropout=0.4, recurrent_dropout=0.4)\n",
    "encoder_outputs, state_h, state_c= encoder_lstm3(encoder_output2)"
   ]
  },
  {
   "cell_type": "markdown",
   "id": "1a07ed46",
   "metadata": {},
   "source": [
    "#### 디코더 설계"
   ]
  },
  {
   "cell_type": "code",
   "execution_count": 37,
   "id": "c264ff62",
   "metadata": {},
   "outputs": [
    {
     "name": "stdout",
     "output_type": "stream",
     "text": [
      "WARNING:tensorflow:Layer lstm_3 will not use cuDNN kernels since it doesn't meet the criteria. It will use a generic GPU kernel as fallback when running on GPU.\n"
     ]
    }
   ],
   "source": [
    "# 디코더 설계\n",
    "decoder_inputs = Input(shape=(None,))\n",
    "\n",
    "# 디코더의 임베딩 층\n",
    "dec_emb_layer = Embedding(tar_vocab, embedding_dim)\n",
    "dec_emb = dec_emb_layer(decoder_inputs)\n",
    "\n",
    "# 디코더의 LSTM\n",
    "decoder_lstm = LSTM(hidden_size, return_sequences=True, return_state=True, dropout=0.4, recurrent_dropout=0.2)\n",
    "decoder_outputs, _, _ = decoder_lstm(dec_emb, initial_state=[state_h, state_c])"
   ]
  },
  {
   "cell_type": "code",
   "execution_count": 38,
   "id": "e8308eac",
   "metadata": {},
   "outputs": [
    {
     "name": "stdout",
     "output_type": "stream",
     "text": [
      "Model: \"model\"\n",
      "__________________________________________________________________________________________________\n",
      "Layer (type)                    Output Shape         Param #     Connected to                     \n",
      "==================================================================================================\n",
      "input_1 (InputLayer)            [(None, 57)]         0                                            \n",
      "__________________________________________________________________________________________________\n",
      "embedding (Embedding)           (None, 57, 128)      1024000     input_1[0][0]                    \n",
      "__________________________________________________________________________________________________\n",
      "lstm (LSTM)                     [(None, 57, 256), (N 394240      embedding[0][0]                  \n",
      "__________________________________________________________________________________________________\n",
      "input_2 (InputLayer)            [(None, None)]       0                                            \n",
      "__________________________________________________________________________________________________\n",
      "lstm_1 (LSTM)                   [(None, 57, 256), (N 525312      lstm[0][0]                       \n",
      "__________________________________________________________________________________________________\n",
      "embedding_1 (Embedding)         (None, None, 128)    256000      input_2[0][0]                    \n",
      "__________________________________________________________________________________________________\n",
      "lstm_2 (LSTM)                   [(None, 57, 256), (N 525312      lstm_1[0][0]                     \n",
      "__________________________________________________________________________________________________\n",
      "lstm_3 (LSTM)                   [(None, None, 256),  394240      embedding_1[0][0]                \n",
      "                                                                 lstm_2[0][1]                     \n",
      "                                                                 lstm_2[0][2]                     \n",
      "__________________________________________________________________________________________________\n",
      "dense (Dense)                   (None, None, 2000)   514000      lstm_3[0][0]                     \n",
      "==================================================================================================\n",
      "Total params: 3,633,104\n",
      "Trainable params: 3,633,104\n",
      "Non-trainable params: 0\n",
      "__________________________________________________________________________________________________\n"
     ]
    }
   ],
   "source": [
    "# 디코더의 출력층\n",
    "decoder_softmax_layer = Dense(tar_vocab, activation='softmax')\n",
    "decoder_softmax_outputs = decoder_softmax_layer(decoder_outputs) \n",
    "\n",
    "# 모델 정의\n",
    "model = Model([encoder_inputs, decoder_inputs], decoder_softmax_outputs)\n",
    "model.summary()"
   ]
  },
  {
   "cell_type": "markdown",
   "id": "84d17df7",
   "metadata": {},
   "source": [
    "#### 어텐션 매커니즘"
   ]
  },
  {
   "cell_type": "code",
   "execution_count": 39,
   "id": "5c29ad77",
   "metadata": {},
   "outputs": [
    {
     "name": "stdout",
     "output_type": "stream",
     "text": [
      "Model: \"model_1\"\n",
      "__________________________________________________________________________________________________\n",
      "Layer (type)                    Output Shape         Param #     Connected to                     \n",
      "==================================================================================================\n",
      "input_1 (InputLayer)            [(None, 57)]         0                                            \n",
      "__________________________________________________________________________________________________\n",
      "embedding (Embedding)           (None, 57, 128)      1024000     input_1[0][0]                    \n",
      "__________________________________________________________________________________________________\n",
      "lstm (LSTM)                     [(None, 57, 256), (N 394240      embedding[0][0]                  \n",
      "__________________________________________________________________________________________________\n",
      "input_2 (InputLayer)            [(None, None)]       0                                            \n",
      "__________________________________________________________________________________________________\n",
      "lstm_1 (LSTM)                   [(None, 57, 256), (N 525312      lstm[0][0]                       \n",
      "__________________________________________________________________________________________________\n",
      "embedding_1 (Embedding)         (None, None, 128)    256000      input_2[0][0]                    \n",
      "__________________________________________________________________________________________________\n",
      "lstm_2 (LSTM)                   [(None, 57, 256), (N 525312      lstm_1[0][0]                     \n",
      "__________________________________________________________________________________________________\n",
      "lstm_3 (LSTM)                   [(None, None, 256),  394240      embedding_1[0][0]                \n",
      "                                                                 lstm_2[0][1]                     \n",
      "                                                                 lstm_2[0][2]                     \n",
      "__________________________________________________________________________________________________\n",
      "attention_layer (AdditiveAttent (None, None, 256)    256         lstm_3[0][0]                     \n",
      "                                                                 lstm_2[0][0]                     \n",
      "__________________________________________________________________________________________________\n",
      "concat_layer (Concatenate)      (None, None, 512)    0           lstm_3[0][0]                     \n",
      "                                                                 attention_layer[0][0]            \n",
      "__________________________________________________________________________________________________\n",
      "dense_1 (Dense)                 (None, None, 2000)   1026000     concat_layer[0][0]               \n",
      "==================================================================================================\n",
      "Total params: 4,145,360\n",
      "Trainable params: 4,145,360\n",
      "Non-trainable params: 0\n",
      "__________________________________________________________________________________________________\n"
     ]
    }
   ],
   "source": [
    "from tensorflow.keras.layers import AdditiveAttention\n",
    "\n",
    "# 어텐션 층(어텐션 함수)\n",
    "attn_layer = AdditiveAttention(name='attention_layer')\n",
    "\n",
    "# 인코더와 디코더의 모든 time step의 hidden state를 어텐션 층에 전달하고 결과를 리턴\n",
    "attn_out = attn_layer([decoder_outputs, encoder_outputs])\n",
    "\n",
    "\n",
    "# 어텐션의 결과와 디코더의 hidden state들을 연결\n",
    "decoder_concat_input = Concatenate(axis=-1, name='concat_layer')([decoder_outputs, attn_out])\n",
    "\n",
    "# 디코더의 출력층\n",
    "decoder_softmax_layer = Dense(tar_vocab, activation='softmax')\n",
    "decoder_softmax_outputs = decoder_softmax_layer(decoder_concat_input)\n",
    "\n",
    "# 모델 정의\n",
    "model = Model([encoder_inputs, decoder_inputs], decoder_softmax_outputs)\n",
    "model.summary()"
   ]
  },
  {
   "cell_type": "markdown",
   "id": "8b9dc0f4",
   "metadata": {},
   "source": [
    "#### 훈련시키기"
   ]
  },
  {
   "cell_type": "code",
   "execution_count": 40,
   "id": "40cd38ec",
   "metadata": {
    "scrolled": true
   },
   "outputs": [
    {
     "name": "stdout",
     "output_type": "stream",
     "text": [
      "Epoch 1/50\n",
      "125/125 [==============================] - 110s 754ms/step - loss: 4.7391 - val_loss: 4.4430\n",
      "Epoch 2/50\n",
      "125/125 [==============================] - 92s 738ms/step - loss: 4.4085 - val_loss: 4.2668\n",
      "Epoch 3/50\n",
      "125/125 [==============================] - 92s 737ms/step - loss: 4.2327 - val_loss: 4.1008\n",
      "Epoch 4/50\n",
      "125/125 [==============================] - 93s 745ms/step - loss: 4.0365 - val_loss: 3.9567\n",
      "Epoch 5/50\n",
      "125/125 [==============================] - 93s 747ms/step - loss: 3.8614 - val_loss: 3.8161\n",
      "Epoch 6/50\n",
      "125/125 [==============================] - 94s 751ms/step - loss: 3.7090 - val_loss: 3.7138\n",
      "Epoch 7/50\n",
      "125/125 [==============================] - 92s 737ms/step - loss: 3.5718 - val_loss: 3.6035\n",
      "Epoch 8/50\n",
      "125/125 [==============================] - 91s 729ms/step - loss: 3.4452 - val_loss: 3.5195\n",
      "Epoch 9/50\n",
      "125/125 [==============================] - 92s 736ms/step - loss: 3.3314 - val_loss: 3.4922\n",
      "Epoch 10/50\n",
      "125/125 [==============================] - 92s 735ms/step - loss: 3.2295 - val_loss: 3.4380\n",
      "Epoch 11/50\n",
      "125/125 [==============================] - 92s 733ms/step - loss: 3.1361 - val_loss: 3.3740\n",
      "Epoch 12/50\n",
      "125/125 [==============================] - 91s 731ms/step - loss: 3.0504 - val_loss: 3.3332\n",
      "Epoch 13/50\n",
      "125/125 [==============================] - 92s 732ms/step - loss: 2.9707 - val_loss: 3.3040\n",
      "Epoch 14/50\n",
      "125/125 [==============================] - 92s 735ms/step - loss: 2.8939 - val_loss: 3.2746\n",
      "Epoch 15/50\n",
      "125/125 [==============================] - 92s 733ms/step - loss: 2.8214 - val_loss: 3.2644\n",
      "Epoch 16/50\n",
      "125/125 [==============================] - 92s 735ms/step - loss: 2.7538 - val_loss: 3.2493\n",
      "Epoch 17/50\n",
      "125/125 [==============================] - 92s 740ms/step - loss: 2.6912 - val_loss: 3.2285\n",
      "Epoch 18/50\n",
      "125/125 [==============================] - 91s 732ms/step - loss: 2.6283 - val_loss: 3.2150\n",
      "Epoch 19/50\n",
      "125/125 [==============================] - 92s 735ms/step - loss: 2.5691 - val_loss: 3.2231\n",
      "Epoch 20/50\n",
      "125/125 [==============================] - 92s 739ms/step - loss: 2.5133 - val_loss: 3.2062\n",
      "Epoch 21/50\n",
      "125/125 [==============================] - 92s 735ms/step - loss: 2.4567 - val_loss: 3.1904\n",
      "Epoch 22/50\n",
      "125/125 [==============================] - 91s 732ms/step - loss: 2.4038 - val_loss: 3.2012\n",
      "Epoch 23/50\n",
      "125/125 [==============================] - 92s 739ms/step - loss: 2.3522 - val_loss: 3.2054\n",
      "Epoch 00023: early stopping\n"
     ]
    }
   ],
   "source": [
    "model.compile(optimizer='rmsprop', loss='sparse_categorical_crossentropy')\n",
    "es = EarlyStopping(monitor='val_loss', patience=2, verbose=1)\n",
    "history = model.fit(x=[encoder_input_train, decoder_input_train], y=decoder_target_train, \\\n",
    "          validation_data=([encoder_input_test, decoder_input_test], decoder_target_test), \\\n",
    "          batch_size=256, callbacks=[es], epochs=50)"
   ]
  },
  {
   "cell_type": "markdown",
   "id": "73302b1c",
   "metadata": {},
   "source": [
    "#### 훈련 데이터의 손실과 검증 데이터의 손실이 줄어드는 과정을 시각화"
   ]
  },
  {
   "cell_type": "code",
   "execution_count": 41,
   "id": "1eb3a374",
   "metadata": {},
   "outputs": [
    {
     "data": {
      "image/png": "[encoded data removed]",
      "text/plain": [
       "<Figure size 432x288 with 1 Axes>"
      ]
     },
     "metadata": {
      "needs_background": "light"
     },
     "output_type": "display_data"
    }
   ],
   "source": [
    "plt.plot(history.history['loss'], label='train')\n",
    "plt.plot(history.history['val_loss'], label='test')\n",
    "plt.legend()\n",
    "plt.show()"
   ]
  },
  {
   "cell_type": "markdown",
   "id": "b0ab9dcb",
   "metadata": {},
   "source": [
    "#### 인퍼런스 모델 구현하기"
   ]
  },
  {
   "cell_type": "code",
   "execution_count": 42,
   "id": "5edd42b8",
   "metadata": {},
   "outputs": [],
   "source": [
    "src_index_to_word = src_tokenizer.index_word # 원문 단어 집합에서 정수 -> 단어를 얻음\n",
    "tar_word_to_index = tar_tokenizer.word_index # 요약 단어 집합에서 단어 -> 정수를 얻음\n",
    "tar_index_to_word = tar_tokenizer.index_word # 요약 단어 집합에서 정수 -> 단어를 얻음"
   ]
  },
  {
   "cell_type": "markdown",
   "id": "d8dabbdc",
   "metadata": {},
   "source": [
    "#### 인코더 설계"
   ]
  },
  {
   "cell_type": "code",
   "execution_count": 43,
   "id": "ad255d16",
   "metadata": {},
   "outputs": [],
   "source": [
    "# 인코더 설계\n",
    "encoder_model = Model(inputs=encoder_inputs, outputs=[encoder_outputs, state_h, state_c])\n",
    "\n",
    "# 이전 시점의 상태들을 저장하는 텐서\n",
    "decoder_state_input_h = Input(shape=(hidden_size,))\n",
    "decoder_state_input_c = Input(shape=(hidden_size,))\n",
    "\n",
    "dec_emb2 = dec_emb_layer(decoder_inputs)\n",
    "\n",
    "# 문장의 다음 단어를 예측하기 위해서 초기 상태(initial_state)를 이전 시점의 상태로 사용. 이는 뒤의 함수 decode_sequence()에 구현\n",
    "# 훈련 과정에서와 달리 LSTM의 리턴하는 은닉 상태와 셀 상태인 state_h와 state_c를 버리지 않음.\n",
    "decoder_outputs2, state_h2, state_c2 = decoder_lstm(dec_emb2, initial_state=[decoder_state_input_h, decoder_state_input_c])"
   ]
  },
  {
   "cell_type": "markdown",
   "id": "13c1af8f",
   "metadata": {},
   "source": [
    "#### 어텐션 매커니즘을 사용하는 출력층"
   ]
  },
  {
   "cell_type": "code",
   "execution_count": 44,
   "id": "6bf65095",
   "metadata": {},
   "outputs": [],
   "source": [
    "# 어텐션 함수\n",
    "decoder_hidden_state_input = Input(shape=(text_max_len, hidden_size))\n",
    "attn_out_inf = attn_layer([decoder_outputs2, decoder_hidden_state_input])\n",
    "decoder_inf_concat = Concatenate(axis=-1, name='concat')([decoder_outputs2, attn_out_inf])\n",
    "\n",
    "# 디코더의 출력층\n",
    "decoder_outputs2 = decoder_softmax_layer(decoder_inf_concat) \n",
    "\n",
    "# 최종 디코더 모델\n",
    "decoder_model = Model(\n",
    "    [decoder_inputs] + [decoder_hidden_state_input,decoder_state_input_h, decoder_state_input_c],\n",
    "    [decoder_outputs2] + [state_h2, state_c2])"
   ]
  },
  {
   "cell_type": "code",
   "execution_count": 45,
   "id": "bb8049de",
   "metadata": {},
   "outputs": [],
   "source": [
    "def decode_sequence(input_seq):\n",
    "    # 입력으로부터 인코더의 상태를 얻음\n",
    "    e_out, e_h, e_c = encoder_model.predict(input_seq)\n",
    "\n",
    "     # <SOS>에 해당하는 토큰 생성\n",
    "    target_seq = np.zeros((1,1))\n",
    "    target_seq[0, 0] = tar_word_to_index['sostoken']\n",
    "\n",
    "    stop_condition = False\n",
    "    decoded_sentence = ''\n",
    "    while not stop_condition: # stop_condition이 True가 될 때까지 루프 반복\n",
    "\n",
    "        output_tokens, h, c = decoder_model.predict([target_seq] + [e_out, e_h, e_c])\n",
    "        sampled_token_index = np.argmax(output_tokens[0, -1, :])\n",
    "        sampled_token = tar_index_to_word[sampled_token_index]\n",
    "\n",
    "        if (sampled_token!='eostoken'):\n",
    "            decoded_sentence += ' '+sampled_token\n",
    "\n",
    "        #  <eos>에 도달하거나 최대 길이를 넘으면 중단.\n",
    "        if (sampled_token == 'eostoken'  or len(decoded_sentence.split()) >= (headlines_max_len-1)):\n",
    "            stop_condition = True\n",
    "\n",
    "        # 길이가 1인 타겟 시퀀스를 업데이트\n",
    "        target_seq = np.zeros((1,1))\n",
    "        target_seq[0, 0] = sampled_token_index\n",
    "\n",
    "        # 상태를 업데이트 합니다.\n",
    "        e_h, e_c = h, c\n",
    "\n",
    "    return decoded_sentence"
   ]
  },
  {
   "cell_type": "markdown",
   "id": "bd2e83db",
   "metadata": {},
   "source": [
    "#### 모델 테스트하기"
   ]
  },
  {
   "cell_type": "code",
   "execution_count": 46,
   "id": "ba6f8370",
   "metadata": {},
   "outputs": [],
   "source": [
    "# 원문의 정수 시퀀스를 텍스트 시퀀스로 변환\n",
    "def seq2text(input_seq):\n",
    "    temp=''\n",
    "    for i in input_seq:\n",
    "        if (i!=0):\n",
    "            temp = temp + src_index_to_word[i]+' '\n",
    "    return temp\n",
    "\n",
    "# 요약문의 정수 시퀀스를 텍스트 시퀀스로 변환\n",
    "def seq2summary(input_seq):\n",
    "    temp=''\n",
    "    for i in input_seq:\n",
    "        if ((i!=0 and i!=tar_word_to_index['sostoken']) and i!=tar_word_to_index['eostoken']):\n",
    "            temp = temp + tar_index_to_word[i] + ' '\n",
    "    return temp"
   ]
  },
  {
   "cell_type": "code",
   "execution_count": 47,
   "id": "4945701e",
   "metadata": {},
   "outputs": [
    {
     "name": "stdout",
     "output_type": "stream",
     "text": [
      "원문 : year old man was shot dead by the belgian army on friday after he attacked two soldiers with knife in brussels while shouting akbar officials have said belgian authorities have launched twin investigations into the attack considering it an act of terrorism notably the attacker was known to the police but not for terrorist activities \n",
      "실제 요약 : terrorist shot dead attack \n",
      "예측 요약 :  man killed shooting shooting\n",
      "\n",
      "\n",
      "원문 : the record for the most sixes hit in match was set in the kabul match on sunday as many as sixes were hit breaking the previous record of sixes smashed sixes while kabul slammed \n",
      "실제 요약 : sixes hit afghanistan league match \n",
      "예측 요약 :  player scores balls\n",
      "\n",
      "\n",
      "원문 : apple will soon start publicly foreign government requests to remove apps from the app store the company pledged in its transparency reports the requests will to alleged violations of legal and or policy provisions in the second half of the company received government requests to access devices while data was provided in of cases \n",
      "실제 요약 : apple app \n",
      "예측 요약 :  apple may data iphones\n",
      "\n",
      "\n",
      "원문 : an artificial intelligence researcher at google scott has been accused of inappropriately woman at conference in and taking advantage of another on two separate occasions according to reports scott has reportedly been suspended from the company while google the issue the woman alleged that scott also her friend to have sex with him \n",
      "실제 요약 : google ai accused sexual harassment reports \n",
      "예측 요약 :  chinese man sexually phone\n",
      "\n",
      "\n",
      "원문 : telangana sessions court judge has been arrested by the anti corruption bureau for allegedly taking lakh bribe to grant bail to an student in narcotics case the arrest came based upon an investigation ordered by the hyderabad high court after an advocate accused judge murthy of corruption two lawyers were also arrested in the case \n",
      "실제 요약 : telangana judge arrested taking bail \n",
      "예측 요약 :  cbi files chargesheet case\n",
      "\n",
      "\n",
      "원문 : the fear of being without mobile phone is known as which is short for no mobile phone people who suffer from the often feel when they run out of battery or balance lose their phone or have no network coverage the term and was reportedly first identified in \n",
      "실제 요약 : fear without mobile phone called \n",
      "예측 요약 :  website website\n",
      "\n",
      "\n",
      "원문 : former pakistan test captain ul has been awarded honorary life membership by the lord based cricket club the year old who led pakistan in record tests became the nd pakistani cricketer to be awarded the membership the last pakistani to receive the honour was raja who was given the membership in \n",
      "실제 요약 : awarded life cricket club \n",
      "예측 요약 :  pakistan captain pakistan\n",
      "\n",
      "\n",
      "원문 : actress sundar has said that if people are talking about actresses in bikini they should also talk about actor hrithik roshan body am mother of two and here am after hrithik body added while the fact that the has to change \n",
      "실제 요약 : hrithik body \n",
      "예측 요약 :  tiger\n",
      "\n",
      "\n",
      "원문 : slamming china for failing to influence north korea us president donald trump on thursday said the chinese envoy who just returned from north korea seems to have had no impact on little rocket man china had sent special envoy to north korea earlier this month after trump meeting with chinese president xi jinping \n",
      "실제 요약 : chinese korea trump \n",
      "예측 요약 :  us trump kim us\n",
      "\n",
      "\n",
      "원문 : ranbir kapoor on being asked about indian cricket team captain virat kohli and actress anushka sharma wedding jokingly said was waiting to attend with on my hands but they did not call me felt sad because had no idea about it but felt happy because have never seen her so happy and beautiful he added \n",
      "실제 요약 : ranbir virat anushka wedding \n",
      "예측 요약 :  anushka wishes ranveer alia\n",
      "\n",
      "\n",
      "원문 : several scientists working at russia top secret nuclear facility have been arrested for using its for private purposes including bitcoin mining the were not supposed to be connected to the internet in order to prevent however when the scientists attempted to do so the facility authorities were alerted who launched criminal case against them \n",
      "실제 요약 : arrested bitcoin nuclear \n",
      "예측 요약 :  trump million\n",
      "\n",
      "\n",
      "원문 : the rbi had kept ready stock of new and notes before the announcement of demonetisation governor patel has said however no records of discussion between the rbi and the government on demonetisation were maintained because of he added patel also said discussions had begun in early when raghuram rajan was the rbi governor \n",
      "실제 요약 : stock notes ready note ban rbi \n",
      "예측 요약 :  rbi rbi\n",
      "\n",
      "\n",
      "원문 : single ticket won the nearly million on wednesday the second largest in the history of the us the winning numbers were and the final number called the number was notably the of winning the are one in million \n",
      "실제 요약 : single ticket wins crore lottery \n",
      "예측 요약 :  crore\n",
      "\n",
      "\n",
      "원문 : the annual racing sport has been in karnataka after president pranab mukherjee approved the prevention of cruelty to animals ordinance in february the karnataka government had passed the bill to legalise claiming that no cruelty was involved in the sport the centre had recently approved to karnataka bill \n",
      "실제 요약 : president karnataka \n",
      "예측 요약 :  india union minister\n",
      "\n",
      "\n",
      "원문 : days ahead of the first anniversary of demonetisation the government has revealed that cash deposits worth over crore were made and later withdrawn post demonetisation by companies which are now it also revealed that company which had negative opening balance on november deposited and withdrew crore post demonetisation \n",
      "실제 요약 : companies cr post note ban \n",
      "예측 요약 :  crore cash\n",
      "\n",
      "\n",
      "원문 : speaking about the demise of veteran actor shashi kapoor actress parekh said he was the last of my heroes now they are all gone what lovely and kind person shashi kapoor was she added parekh further said she has come across more and hero \n",
      "실제 요약 : last \n",
      "예측 요약 :  anil kapoor\n",
      "\n",
      "\n",
      "원문 : all the police stations in bihar will be fruit bearing saplings in the premises from april to create awareness against liquor and promote in the state according to state director general of police thakur boy ratan had proposed the idea of ek ke \n",
      "실제 요약 : bihar police stations plant trees \n",
      "예측 요약 :  maha village\n",
      "\n",
      "\n",
      "원문 : us president donald trump has called the world trade organisation accusing the trade body of making it tough for the us to do business trump further cited the north american free trade agreement between the us canada and mexico saying it could not impose higher import tariffs on the two countries due to the rules \n",
      "실제 요약 : trump calls world trade \n",
      "예측 요약 :  us nuclear deal\n",
      "\n",
      "\n",
      "원문 : francisco one of spain most wanted drug surrendered to the police after he appeared in music video the cameo by who had been on the run for two years was purportedly to mock the police over their failure to find him he allegedly runs trafficking network between and southern spain \n",
      "실제 요약 : drug lord arrested music video \n",
      "예측 요약 :  hitler\n",
      "\n",
      "\n",
      "원문 : addressing public gathering in poll bound rajasthan congress president rahul gandhi on saturday questioned pm narendra modi knowledge of hinduism saying what kind of hindu is he our pm says he is hindu but he does not understand foundation of hinduism he further said gandhi further slammed pm modi for turning the surgical strikes into political assets \n",
      "실제 요약 : hindu pm rahul \n",
      "예측 요약 :  pm modi\n",
      "\n",
      "\n",
      "원문 : uk based researchers have revealed how small dinosaur which lived million years ago used its colour including mask like across its eyes to avoid being detected by its and had dark light which allowed it to and survive in open with said the researchers \n",
      "실제 요약 : dinosaur using \n",
      "예측 요약 :  scientists create\n",
      "\n",
      "\n",
      "원문 : israeli culture minister was slammed for wearing gown that had the of jerusalem old city printed along the at this year cannes film festival this year we are celebrating years since the liberation and of jerusalem said her choice was called scene from the horror movie in news report \n",
      "실제 요약 : israeli minister slammed \n",
      "예측 요약 :  uk pm\n",
      "\n",
      "\n",
      "원문 : amid the ongoing anti government protests in iran us president donald trump on wednesday said that the us would provide great support to the people of iran at the appropriate time such respect for the people of iran as they try to take back their corrupt government trump tweeted earlier trump called the iranian regime \n",
      "실제 요약 : support time trump \n",
      "예측 요약 :  us may trump\n",
      "\n",
      "\n",
      "원문 : mumbai all rounder who slammed five sixes in an over against baroda in ranji trophy on monday was bought by rcb in the ipl auction for crore times his base price of lakh rcb also bought kerala born batsman for lakh further khan was bought by kxip for lakh \n",
      "실제 요약 : player sixes sold crore \n",
      "예측 요약 :  ipl auction auction\n",
      "\n",
      "\n",
      "원문 : members of the revolutionary youth front in tamil nadu reportedly attempted to sanitary to prime minister narendra modi and union finance minister arun jaitley in protest against the gst imposed on it adding that the tax was only earlier protesters slammed the increased tax as violation of women rights \n",
      "실제 요약 : send pm gst \n",
      "예측 요약 :  tamil nadu gst\n",
      "\n",
      "\n",
      "원문 : the congress on sunday presented of its gujarat mlas before the media in bengaluru and alleged that the bjp had offered them crore each ahead of the rajya sabha elections adding that the decision to fly to bengaluru was taken collectively by the legislators the party said its leaders were being regularly threatened by the bjp \n",
      "실제 요약 : bjp offered cr gujarat mlas congress \n",
      "예측 요약 :  congress congress list\n",
      "\n",
      "\n",
      "원문 : mumbai based twins and rahul have scored the same marks in class examinations have same too they always fall ill together and feel at the same time their mother revealed the twins who studied at the same school and prepared for exams together plan to pursue career in science \n",
      "실제 요약 : twins score marks class exam \n",
      "예측 요약 :  mumbai boy\n",
      "\n",
      "\n",
      "원문 : two recently militants belonging to hizbul mujahideen were arrested on friday from in jammu and kashmir senior police officer said on questioning the two revealed that they had left their home on march and joined hizbul mujahideen after they were by some local two of their alleged were also arrested later \n",
      "실제 요약 : two militants arrested \n",
      "예측 요약 :  militants killed\n",
      "\n",
      "\n",
      "원문 : bangladesh has agreed to provide land to shelter rohingya muslims fleeing the ongoing violence in myanmar rakhine state prime minister sheikh has offered acres of land to build temporary shelters for the rohingya officials said over lakh rohingya refugees have crossed into bangladesh since myanmar security forces began crackdown on rohingya militants last month \n",
      "실제 요약 : bangladesh give land rohingyas myanmar \n",
      "예측 요약 :  bangladesh myanmar rohingya rohingyas rohingyas\n",
      "\n",
      "\n",
      "원문 : sachin tendulkar once fielded for pakistan in festival match against india at mumbai during the season two years before his international debut sachin who retired from international cricket on november recalled in his that javed and abdul had left the field during lunch after which he was asked to field for pakistan \n",
      "실제 요약 : sachin pakistan making india debut \n",
      "예측 요약 :  sachin tendulkar gets runs\n",
      "\n",
      "\n",
      "원문 : women football match in australia capital was delayed for around minutes after the pitch on sunday players and officials initially tried to drive the away by balls at it but it did not leave the animal left the ground after being chased by coach in truck \n",
      "실제 요약 : football match min \n",
      "예측 요약 :  player match\n",
      "\n",
      "\n",
      "원문 : forward on monday scored his th premier league goal becoming the only player to have scored over goals and made more than in premier league history out of the goals scored for manchester united in appearances while he scored the remaining for in games \n",
      "실제 요약 : player \n",
      "예측 요약 :  win scores goal\n",
      "\n",
      "\n",
      "원문 : intercontinental exchange which owns the new york stock exchange has announced it is launching new company that aims to create an open and global ecosystem for digital assets it has partnered with starbucks and microsoft for this venture to allow contracts on bitcoin and take crypto from investment to of global commerce \n",
      "실제 요약 : owner announces bitcoin \n",
      "예측 요약 :  website claims\n",
      "\n",
      "\n",
      "원문 : elon musk led carmaker tesla chief accounting officer resigned just after month on friday shortly after the announcement of departure tesla head of human resources said she will not the firm after being on leave of absence tesla shares fell as much as on friday the intraday drop since june \n",
      "실제 요약 : tesla resign day \n",
      "예측 요약 :  tesla rajinikanth\n",
      "\n",
      "\n",
      "원문 : video showing man beating up muslim labourer and then burning him alive over an alleged case of love jihad in rajasthan district has surfaced online the alleged of the crime also released another video wherein he claims that he committed the act in bid to save girl from love jihad \n",
      "실제 요약 : muslim man alive rajasthan love \n",
      "예측 요약 :  video woman accuses video\n",
      "\n",
      "\n",
      "원문 : harvard researchers have developed device that lets men check their at home with their smartphone it includes chip with tiny for sample which is put on the back of the phone where dedicated app it using the phone camera the device takes less than five seconds to complete test \n",
      "실제 요약 : smartphone test developed men check \n",
      "예측 요약 :  researchers use\n",
      "\n",
      "\n",
      "원문 : india highest paid executive in was tech mahindra ceo who took home crore according to available data reliance industries executive directors and drew crore each higher than mukesh ambani who has capped his pay at crore in itc anand saw the pay cut of to crore \n",
      "실제 요약 : salary india top paid \n",
      "예측 요약 :  india profit rises cr\n",
      "\n",
      "\n",
      "원문 : union home minister rajnath singh on monday said that the bjp led government at the centre will not go against the sentiments of the people of jammu and kashmir on articles and the government did not initiate anything on this or go to court rajnath said during his ongoing four day tour to the valley \n",
      "실제 요약 : go wishes rajnath \n",
      "예측 요약 :  politics cm\n",
      "\n",
      "\n",
      "원문 : journalist sandeep sharma who had been reporting on the sand mafia died on monday after he was hit by in madhya pradesh the year old journalist had reported threat to his life from police officer after he conducted operation against the officer accusing him of being involved with the sand mafia \n",
      "실제 요약 : journo dies hit \n",
      "예측 요약 :  journalist commits suicide\n",
      "\n",
      "\n",
      "원문 : google has partnered us based blockchain startup digital asset its second blockchain partnership within week to boost its cloud services google first partnership was with startup that helps people make apps google said its cloud customers can now explore ways they might use distributed technology by using both digital asset and \n",
      "실제 요약 : google second firm within week \n",
      "예측 요약 :  google ai ai\n",
      "\n",
      "\n",
      "원문 : facebook has launched its marketplace to buy and sell used goods and services across categories such as electronics entertainment and housing in india for used goods it allows sellers to register by including details like price category location and images the platform also allows buyers to see details like product condition usage and time of purchase \n",
      "실제 요약 : facebook launches buy sell india \n",
      "예측 요약 :  facebook data service\n",
      "\n",
      "\n",
      "원문 : minor girl was allegedly raped by her uncle in madhya pradesh district when her mother had gone to visit temple the police said today the police added that the year old girl later the to her mother following which complaint was filed and her uncle was arrested \n",
      "실제 요약 : man arrested raping minor madhya pradesh \n",
      "예측 요약 :  girl raped bihar woman\n",
      "\n",
      "\n",
      "원문 : goa police on monday said no music parties will be allowed in goa after pm due to the alleged use of drugs sold at late night events this comes after meeting on drugs and alcohol consumption chaired by chief minister manohar parrikar police added they will adopt approach to not let goa earn bad name \n",
      "실제 요약 : music party allowed goa pm police \n",
      "예측 요약 :  goa cm\n",
      "\n",
      "\n",
      "원문 : the federation of indian export organisations has written to rbi and finance ministry seeking of letters of the rbi had banned after the billion pnb fraud where nirav modi and mehul choksi raised overseas credit using fake said that the for like bank increase the costs making exports \n",
      "실제 요약 : body rbi \n",
      "예측 요약 :  govt approves crore loans\n",
      "\n",
      "\n",
      "원문 : amid reports that us president donald trump may get involved in india pakistan issues the indian government has said that its position seeking bilateral of all issues with pakistan has not changed we of course expect international community to enforce international and terrorism from pakistan the external affairs ministry said \n",
      "실제 요약 : india firm issues pak \n",
      "예측 요약 :  trump pakistan pakistan\n",
      "\n",
      "\n",
      "원문 : fintech startup has raised debt of crore from yes bank had earlier raised an undisclosed amount of debt from bank and is in talks with other banks for more founded in the startup that to small and medium businesses has raised more than crore in debt from two banks and various \n",
      "실제 요약 : raises crore debt bank \n",
      "예측 요약 :  raises crore debt\n",
      "\n",
      "\n",
      "원문 : after albert einstein death on april researcher thomas harvey removed his brain without prior permission during autopsy einstein family learned about it the next day from the new york times but later gave approval to conduct research in canadian study claimed einstein unusual in the brain part associated with ability \n",
      "실제 요약 : einstein brain stolen death \n",
      "예측 요약 :  found\n",
      "\n",
      "\n",
      "원문 : from britain crown were hidden in and buried in castle during the second world war an upcoming bbc documentary has revealed the were buried below secret exit of the castle on the orders of queen elizabeth ii father king george to prevent the from falling into nazi hands nn \n",
      "실제 요약 : british \n",
      "예측 요약 :  first ever\n",
      "\n",
      "\n",
      "원문 : salman ali from haryana was named the winner of indian idol on sunday the roof of my house needs to be fixed we had taken loan also so would like to use the money for all this said salman who won lakh cash prize bhardwaj and ray were first and second runners up respectively \n",
      "실제 요약 : salman ali named winner indian \n",
      "예측 요약 :  salman khan\n",
      "\n",
      "\n",
      "원문 : actor jackie shroff while speaking about actor shah rukh khan completing years in bollywood on sunday said he has seen life and now he is sitting on the top as jackie added that shah rukh is fantastic actor and has earned everything the hard way notably shah rukh debut bollywood film released today in \n",
      "실제 요약 : srk seen life top \n",
      "예측 요약 :  srk first look srk srk\n",
      "\n",
      "\n"
     ]
    }
   ],
   "source": [
    "for i in range(50, 100):\n",
    "    print(\"원문 :\", seq2text(encoder_input_test[i]))\n",
    "    print(\"실제 요약 :\", seq2summary(decoder_input_test[i]))\n",
    "    print(\"예측 요약 :\", decode_sequence(encoder_input_test[i].reshape(1, text_max_len)))\n",
    "    print(\"\\n\")"
   ]
  },
  {
   "cell_type": "markdown",
   "id": "11fe94fa",
   "metadata": {},
   "source": [
    "#### 데이터 다운로드하기(추출적 요약하기)"
   ]
  },
  {
   "cell_type": "code",
   "execution_count": 48,
   "id": "47aacc52",
   "metadata": {},
   "outputs": [],
   "source": [
    "import requests\n",
    "from summa.summarizer import summarize"
   ]
  },
  {
   "cell_type": "code",
   "execution_count": 49,
   "id": "2bb06c01",
   "metadata": {},
   "outputs": [
    {
     "data": {
      "text/plain": [
       "0        Saurav Kant, an alumnus of upGrad and IIIT-B's...\n",
       "1        Kunal Shah's credit card bill payment platform...\n",
       "2        New Zealand defeated India by 8 wickets in the...\n",
       "3        With Aegon Life iTerm Insurance plan, customer...\n",
       "4        Speaking about the sexual harassment allegatio...\n",
       "                               ...                        \n",
       "98396    A CRPF jawan was on Tuesday axed to death with...\n",
       "98397    'Uff Yeh', the first song from the Sonakshi Si...\n",
       "98398    According to reports, a new version of the 199...\n",
       "98399    A new music video shows rapper Snoop Dogg aimi...\n",
       "98400    Madhesi Morcha, an alliance of seven political...\n",
       "Name: text, Length: 98401, dtype: object"
      ]
     },
     "execution_count": 49,
     "metadata": {},
     "output_type": "execute_result"
    }
   ],
   "source": [
    "data_news = pd.read_csv('news_summary_more.csv', encoding='iso-8859-1')\n",
    "data_news[\"text\"]"
   ]
  },
  {
   "cell_type": "code",
   "execution_count": 51,
   "id": "f8907dd9",
   "metadata": {
    "scrolled": true
   },
   "outputs": [
    {
     "name": "stdout",
     "output_type": "stream",
     "text": [
      "                                              headlines  \\\n",
      "0     upGrad learner switches to career in ML & Al w...   \n",
      "1     Delhi techie wins free food from Swiggy for on...   \n",
      "2     New Zealand end Rohit Sharma-led India's 12-ma...   \n",
      "3     Aegon life iTerm insurance plan helps customer...   \n",
      "4     Have known Hirani for yrs, what if MeToo claim...   \n",
      "...                                                 ...   \n",
      "1495  Have seen Sachin Tendulkar get angry but not M...   \n",
      "1496  Player ensures wife stays dry in rain during A...   \n",
      "1497  Federer denied entry into locker room by secur...   \n",
      "1498  42/42 seats in West Bengal: CM Mamata's cutout...   \n",
      "1499  Court refuses chargesheet by Delhi Police agai...   \n",
      "\n",
      "                                                   text  \n",
      "0     Saurav Kant, an alumnus of upGrad and IIIT-B's...  \n",
      "1     Kunal Shah's credit card bill payment platform...  \n",
      "2     New Zealand defeated India by 8 wickets in the...  \n",
      "3     With Aegon Life iTerm Insurance plan, customer...  \n",
      "4     Speaking about the sexual harassment allegatio...  \n",
      "...                                                 ...  \n",
      "1495  India head coach Ravi Shastri has said that he...  \n",
      "1496  Italian tennis player Andreas Seppi ensured hi...  \n",
      "1497  World number three Roger Federer was stopped b...  \n",
      "1498  A cutout of TMC chief and West Bengal CM Mamat...  \n",
      "1499  A Delhi court on Saturday pulled up Delhi Poli...  \n",
      "\n",
      "[1500 rows x 2 columns]\n"
     ]
    }
   ],
   "source": [
    "print(data_news[:1500])"
   ]
  },
  {
   "cell_type": "markdown",
   "id": "fe33cdd1",
   "metadata": {},
   "source": [
    "#### summarize 사용하기"
   ]
  },
  {
   "cell_type": "code",
   "execution_count": 52,
   "id": "18ae2dc4",
   "metadata": {},
   "outputs": [
    {
     "name": "stdout",
     "output_type": "stream",
     "text": [
      "Summary:\n",
      "He added decisions like demonetisation and RERA have put a check on black money that used to be \"parked in the real estate sector\".\n"
     ]
    }
   ],
   "source": [
    "print('Summary:')\n",
    "print(summarize(data_news[\"text\"][i], ratio=0.5))"
   ]
  },
  {
   "cell_type": "code",
   "execution_count": 53,
   "id": "7a60f1ba",
   "metadata": {},
   "outputs": [
    {
     "name": "stdout",
     "output_type": "stream",
     "text": [
      "Summary:\n",
      "['He added decisions like demonetisation and RERA have put a check on black money that used to be \"parked in the real estate sector\".']\n"
     ]
    }
   ],
   "source": [
    "print('Summary:')\n",
    "print(summarize(data_news[\"text\"][i], ratio=0.5, split=True))\n"
   ]
  },
  {
   "cell_type": "code",
   "execution_count": 54,
   "id": "25475d9e",
   "metadata": {},
   "outputs": [
    {
     "name": "stdout",
     "output_type": "stream",
     "text": [
      "Summary:\n",
      "Prime Minister Narendra Modi on Wednesday said his government's demonetisation decision made houses affordable for the aspiring youth.\n",
      "He added decisions like demonetisation and RERA have put a check on black money that used to be \"parked in the real estate sector\".\n"
     ]
    }
   ],
   "source": [
    "print('Summary:')\n",
    "print(summarize(data_news[\"text\"][i], words=50))"
   ]
  },
  {
   "cell_type": "markdown",
   "id": "9f1c85ea",
   "metadata": {},
   "source": [
    "## 회고"
   ]
  },
  {
   "cell_type": "markdown",
   "id": "af6326f5",
   "metadata": {},
   "source": [
    "#### 이번 프로잭트를 진행하면서 어려웠던점은 계속 nlp 노드를 할때 마다 느끼는 생각이지만 코드를 진행할때 전체적으로 전처리든 에폭이든            시간이 너무 많이 소요된다는 점 이있는데 이 단점을 조금이나마 줄여보고 싶어서 전처리 , 에폭을 진행할때 걸리는 시간을 단축하는 방법을          찾아보던중에 전처리할때 멀티프로세싱 별도의 프로세스를 생성하여 병렬 처리를 해주면 진행속도가 빨라진다는 방법을 알게되었고                    그 방법을 이용해서 코드를 진행해 봤더니 확실히 속도가 빨라진걸 느낄수있었습니다. 다음번 nlp 노드가 나오면 다시 또 이러한 방법을                사용해서 코드 진행을 하면 좋겠다는 생각이 들었습니다."
   ]
  },
  {
   "cell_type": "code",
   "execution_count": null,
   "id": "aab47527",
   "metadata": {},
   "outputs": [],
   "source": []
  },
  {
   "cell_type": "code",
   "execution_count": null,
   "id": "1fa4b71e",
   "metadata": {},
   "outputs": [],
   "source": []
  },
  {
   "cell_type": "code",
   "execution_count": null,
   "id": "d6c0f466",
   "metadata": {},
   "outputs": [],
   "source": []
  },
  {
   "cell_type": "code",
   "execution_count": null,
   "id": "472a43c6",
   "metadata": {},
   "outputs": [],
   "source": []
  },
  {
   "cell_type": "code",
   "execution_count": null,
   "id": "7295ef08",
   "metadata": {},
   "outputs": [],
   "source": []
  },
  {
   "cell_type": "code",
   "execution_count": null,
   "id": "cdd4cf3f",
   "metadata": {},
   "outputs": [],
   "source": []
  },
  {
   "cell_type": "code",
   "execution_count": null,
   "id": "28b30e5d",
   "metadata": {},
   "outputs": [],
   "source": []
  },
  {
   "cell_type": "code",
   "execution_count": null,
   "id": "4c9c7a83",
   "metadata": {},
   "outputs": [],
   "source": []
  },
  {
   "cell_type": "code",
   "execution_count": null,
   "id": "99069f83",
   "metadata": {},
   "outputs": [],
   "source": []
  },
  {
   "cell_type": "code",
   "execution_count": null,
   "id": "37beb446",
   "metadata": {},
   "outputs": [],
   "source": []
  },
  {
   "cell_type": "code",
   "execution_count": null,
   "id": "f5eb41d9",
   "metadata": {},
   "outputs": [],
   "source": []
  }
 ],
 "metadata": {
  "kernelspec": {
   "display_name": "Python 3 (ipykernel)",
   "language": "python",
   "name": "python3"
  },
  "language_info": {
   "codemirror_mode": {
    "name": "ipython",
    "version": 3
   },
   "file_extension": ".py",
   "mimetype": "text/x-python",
   "name": "python",
   "nbconvert_exporter": "python",
   "pygments_lexer": "ipython3",
   "version": "3.9.7"
  }
 },
 "nbformat": 4,
 "nbformat_minor": 5
}
