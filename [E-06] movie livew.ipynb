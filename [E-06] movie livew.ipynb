{
 "cells": [
  {
   "cell_type": "code",
   "execution_count": 1,
   "id": "78eedd52",
   "metadata": {
    "scrolled": true
   },
   "outputs": [
    {
     "name": "stdout",
     "output_type": "stream",
     "text": [
      "Requirement already satisfied: gensim in /opt/conda/lib/python3.9/site-packages (3.8.3)\n",
      "Requirement already satisfied: numpy>=1.11.3 in /opt/conda/lib/python3.9/site-packages (from gensim) (1.21.4)\n",
      "Requirement already satisfied: smart-open>=1.8.1 in /opt/conda/lib/python3.9/site-packages (from gensim) (5.2.1)\n",
      "Requirement already satisfied: six>=1.5.0 in /opt/conda/lib/python3.9/site-packages (from gensim) (1.16.0)\n",
      "Requirement already satisfied: scipy>=0.18.1 in /opt/conda/lib/python3.9/site-packages (from gensim) (1.7.1)\n",
      "\u001b[33mWARNING: Running pip as the 'root' user can result in broken permissions and conflicting behaviour with the system package manager. It is recommended to use a virtual environment instead: https://pip.pypa.io/warnings/venv\u001b[0m\n",
      "Requirement already satisfied: gensim==3.8.3 in /opt/conda/lib/python3.9/site-packages (3.8.3)\n",
      "Requirement already satisfied: numpy>=1.11.3 in /opt/conda/lib/python3.9/site-packages (from gensim==3.8.3) (1.21.4)\n",
      "Requirement already satisfied: six>=1.5.0 in /opt/conda/lib/python3.9/site-packages (from gensim==3.8.3) (1.16.0)\n",
      "Requirement already satisfied: smart-open>=1.8.1 in /opt/conda/lib/python3.9/site-packages (from gensim==3.8.3) (5.2.1)\n",
      "Requirement already satisfied: scipy>=0.18.1 in /opt/conda/lib/python3.9/site-packages (from gensim==3.8.3) (1.7.1)\n",
      "\u001b[33mWARNING: Running pip as the 'root' user can result in broken permissions and conflicting behaviour with the system package manager. It is recommended to use a virtual environment instead: https://pip.pypa.io/warnings/venv\u001b[0m\n"
     ]
    }
   ],
   "source": [
    "!pip install gensim\n",
    "\n",
    "!pip install --upgrade gensim==3.8.3"
   ]
  },
  {
   "cell_type": "code",
   "execution_count": 2,
   "id": "a761ff94",
   "metadata": {},
   "outputs": [
    {
     "data": {
      "text/plain": [
       "'3.8.3'"
      ]
     },
     "execution_count": 2,
     "metadata": {},
     "output_type": "execute_result"
    }
   ],
   "source": [
    "import gensim\n",
    "\n",
    "gensim.__version__"
   ]
  },
  {
   "cell_type": "markdown",
   "id": "10441bdd",
   "metadata": {},
   "source": [
    "### 필요한 데이터 준비하고 확인하기"
   ]
  },
  {
   "cell_type": "code",
   "execution_count": 3,
   "id": "029601ac",
   "metadata": {},
   "outputs": [],
   "source": [
    "import pandas as pd\n",
    "import urllib.request\n",
    "%matplotlib inline\n",
    "import matplotlib.pyplot as plt\n",
    "import re\n",
    "from konlpy.tag import Okt\n",
    "import numpy as np\n",
    "from tensorflow.keras.preprocessing.sequence import pad_sequences\n",
    "from collections import Counter\n",
    "from tensorflow import keras\n",
    "from tensorflow.keras.preprocessing.text import Tokenizer\n",
    "\n",
    "# 데이터 파일 읽기\n",
    "train_data = pd.read_table('~/aiffel/sentiment_classification/data/ratings_train.txt')\n",
    "test_data = pd.read_table('~/aiffel/sentiment_classification/data/ratings_test.txt')\n"
   ]
  },
  {
   "cell_type": "markdown",
   "id": "a2eb73d3",
   "metadata": {},
   "source": [
    "### 데이터 불러오기"
   ]
  },
  {
   "cell_type": "code",
   "execution_count": 4,
   "id": "a08a8d9b",
   "metadata": {},
   "outputs": [],
   "source": [
    "from konlpy.tag import Mecab\n",
    "tokenizer = Mecab()\n",
    "stopwords = ['의','가','이','은','들','는','좀','잘','걍','과','도','를','으로','자','에','와','한','하다']\n",
    "\n",
    "def load_data(train_data, test_data, num_words=10000):\n",
    "    train_data.drop_duplicates(subset=['document'], inplace=True)  # 중복 제거\n",
    "    train_data = train_data.dropna(how = 'any') \n",
    "    test_data.drop_duplicates(subset=['document'], inplace=True)   # 중복 제거\n",
    "    test_data = test_data.dropna(how = 'any') \n",
    "    \n",
    "    X_train = []\n",
    "    for sentence in train_data['document']:\n",
    "        temp_X = tokenizer.morphs(sentence) # 토큰화\n",
    "        temp_X = [word for word in temp_X if not word in stopwords] \n",
    "        X_train.append(temp_X)\n",
    "\n",
    "    X_test = []\n",
    "    for sentence in test_data['document']:\n",
    "        temp_X = tokenizer.morphs(sentence) # 토큰화\n",
    "        temp_X = [word for word in temp_X if not word in stopwords]\n",
    "        X_test.append(temp_X)\n",
    "    \n",
    "    words = np.concatenate(X_train).tolist()\n",
    "    counter = Counter(words)\n",
    "    counter = counter.most_common(10000-4)\n",
    "    vocab = ['<PAD>', '<BOS>', '<UNK>', '<UNUSED>'] + [key for key, _ in counter]\n",
    "    word_to_index = {word:index for index, word in enumerate(vocab)}    # {단어:숫자} 딕셔너리 생성\n",
    "        \n",
    "    def wordlist_to_indexlist(wordlist):\n",
    "        return [word_to_index[word] if word in word_to_index else word_to_index['<UNK>'] for word in wordlist]\n",
    "        \n",
    "    X_train = list(map(wordlist_to_indexlist, X_train))\n",
    "    X_test = list(map(wordlist_to_indexlist, X_test))\n",
    "        \n",
    "    return X_train, np.array(list(train_data['label'])), X_test, np.array(list(test_data['label'])), word_to_index"
   ]
  },
  {
   "cell_type": "markdown",
   "id": "96a306a8",
   "metadata": {},
   "source": [
    "### 학습 데이터 테스트 데이터 개수 확인"
   ]
  },
  {
   "cell_type": "code",
   "execution_count": 5,
   "id": "63a5c06b",
   "metadata": {},
   "outputs": [
    {
     "name": "stdout",
     "output_type": "stream",
     "text": [
      "train data 개수: 146182, test data 개수: 49157\n"
     ]
    }
   ],
   "source": [
    "X_train, y_train, X_test, y_test, word_to_index = load_data(train_data, test_data) \n",
    "print(f'train data 개수: {len(X_train)}, test data 개수: {len(X_test)}')"
   ]
  },
  {
   "cell_type": "code",
   "execution_count": 6,
   "id": "4457f879",
   "metadata": {},
   "outputs": [],
   "source": [
    "index_to_word = {index:word for word, index in word_to_index.items()}"
   ]
  },
  {
   "cell_type": "markdown",
   "id": "8dd2f9f6",
   "metadata": {},
   "source": [
    "#### get_encoded_sentence : 문장 1개를 활용할 딕셔너리와 함께 주면, 단어 인덱스 리스트 벡터로 변환해 주는 함수   get_encoded_sentences : 여러 개의 문장 리스트를 한꺼번에 단어 인덱스 리스트 벡터로 encode해 주는 함수                          get_decoded_sentence : 숫자 벡터로 encode된 문장을 원래대로 decode하는 함수                                                                  get_decoded_sentences : 여러 개의 숫자 벡터로 encode된 문장을 한꺼번에 원래대로 decode하는 함수"
   ]
  },
  {
   "cell_type": "code",
   "execution_count": 7,
   "id": "015460bb",
   "metadata": {},
   "outputs": [],
   "source": [
    "# 문장 1개를 활용할 딕셔너리와 함께 주면, 단어 인덱스 리스트 벡터로 변환해 주는 함수\n",
    "def get_encoded_sentence(sentence, word_to_index):\n",
    "    return [word_to_index['<BOS>']]+[word_to_index[word] if word in word_to_index else word_to_index['<UNK>'] for word in sentence.split()]\n",
    "\n",
    "# 여러 개의 문장 리스트를 한꺼번에 단어 인덱스 리스트 벡터로 encode해 주는 함수\n",
    "def get_encoded_sentences(sentences, word_to_index):\n",
    "    return [get_encoded_sentence(sentence, word_to_index) for sentence in sentences]\n",
    "\n",
    "# 숫자 벡터로 encode된 문장을 원래대로 decode하는 함수\n",
    "def get_decoded_sentence(encoded_sentence, index_to_word):\n",
    "    return ' '.join(index_to_word[index] if index in index_to_word else '<UNK>' for index in encoded_sentence[1:])  #[1:]를 통해 <BOS>를 제외\n",
    "\n",
    "# 여러 개의 숫자 벡터로 encode된 문장을 한꺼번에 원래대로 decode하는 함수 \n",
    "def get_decoded_sentences(encoded_sentences, index_to_word):\n",
    "    return [get_decoded_sentence(encoded_sentence, index_to_word) for encoded_sentence in encoded_sentences]"
   ]
  },
  {
   "cell_type": "markdown",
   "id": "63f781aa",
   "metadata": {},
   "source": [
    "### encode된 텍스트가 정상적으로 decode되는지 확인해보기"
   ]
  },
  {
   "cell_type": "code",
   "execution_count": 8,
   "id": "8f3b1861",
   "metadata": {},
   "outputs": [
    {
     "name": "stdout",
     "output_type": "stream",
     "text": [
      "[32, 74, 919, 4, 4, 39, 228, 20, 33, 748]\n",
      "더 빙 . . 진짜 짜증 나 네요 목소리\n",
      "라벨:  0\n"
     ]
    }
   ],
   "source": [
    "print(X_train[0])\n",
    "print(get_decoded_sentence(X_train[0], index_to_word))\n",
    "print('라벨: ', y_train[0])  "
   ]
  },
  {
   "cell_type": "markdown",
   "id": "0306b54e",
   "metadata": {},
   "source": [
    "### 문장 길이 지정하기"
   ]
  },
  {
   "cell_type": "code",
   "execution_count": 9,
   "id": "afc31a58",
   "metadata": {},
   "outputs": [
    {
     "name": "stdout",
     "output_type": "stream",
     "text": [
      "문장길이 평균 :  15.96940191154864\n",
      "문장길이 최대 :  116\n",
      "문장길이 표준편차 :  12.843571191092\n",
      "pad_sequences maxlen :  41\n",
      "전체 문장의 0.9342988343341575%가 maxlen 설정값 이내에 포함됩니다. \n"
     ]
    }
   ],
   "source": [
    "total_data_text = list(X_train) + list(X_test)\n",
    "num_tokens = [len(tokens) for tokens in total_data_text]\n",
    "num_tokens = np.array(num_tokens)\n",
    "# 문장길이의 평균값, 최대값, 표준편차를 계산\n",
    "print('문장길이 평균 : ', np.mean(num_tokens))\n",
    "print('문장길이 최대 : ', np.max(num_tokens))\n",
    "print('문장길이 표준편차 : ', np.std(num_tokens))  \n",
    "max_tokens = np.mean(num_tokens) + 2 * np.std(num_tokens)\n",
    "maxlen = int(max_tokens)\n",
    "print('pad_sequences maxlen : ', maxlen)\n",
    "print('전체 문장의 {}%가 maxlen 설정값 이내에 포함됩니다. '.format(np.sum(num_tokens < max_tokens) / len(num_tokens)))"
   ]
  },
  {
   "cell_type": "markdown",
   "id": "7339e79f",
   "metadata": {},
   "source": [
    "### 패딩 적용하기"
   ]
  },
  {
   "cell_type": "code",
   "execution_count": 10,
   "id": "b5ccdf73",
   "metadata": {},
   "outputs": [
    {
     "name": "stdout",
     "output_type": "stream",
     "text": [
      "(146182, 41)\n"
     ]
    }
   ],
   "source": [
    "X_train_pre = keras.preprocessing.sequence.pad_sequences(X_train,\n",
    "                                                        value=word_to_index[\"<PAD>\"],\n",
    "                                                        padding='pre', # 혹은 'post'\n",
    "                                                        maxlen=maxlen)\n",
    "\n",
    "X_test_pre = keras.preprocessing.sequence.pad_sequences(X_test,\n",
    "                                                       value=word_to_index[\"<PAD>\"],\n",
    "                                                       padding='pre', # 혹은 'post'\n",
    "                                                       maxlen=maxlen)\n",
    "\n",
    "print(X_train_pre.shape)"
   ]
  },
  {
   "cell_type": "code",
   "execution_count": 11,
   "id": "7fa96a04",
   "metadata": {},
   "outputs": [
    {
     "name": "stdout",
     "output_type": "stream",
     "text": [
      "[  0   0   0   0   0   0   0   0   0   0   0   0   0   0   0   0   0   0\n",
      "   0   0   0   0   0   0   0   0   0   0   0   0   0  32  74 919   4   4\n",
      "  39 228  20  33 748]\n",
      "<PAD> <PAD> <PAD> <PAD> <PAD> <PAD> <PAD> <PAD> <PAD> <PAD> <PAD> <PAD> <PAD> <PAD> <PAD> <PAD> <PAD> <PAD> <PAD> <PAD> <PAD> <PAD> <PAD> <PAD> <PAD> <PAD> <PAD> <PAD> <PAD> <PAD> 아 더 빙 . . 진짜 짜증 나 네요 목소리\n",
      "라벨:  0\n"
     ]
    }
   ],
   "source": [
    "print(X_train_pre[0])\n",
    "print(get_decoded_sentence(X_train_pre[0], index_to_word))\n",
    "print('라벨: ', y_train[0])  # 1번째 리뷰데이터의 라벨"
   ]
  },
  {
   "cell_type": "markdown",
   "id": "4d7a467a",
   "metadata": {},
   "source": [
    "### 벨리데이션 set 분리"
   ]
  },
  {
   "cell_type": "code",
   "execution_count": 12,
   "id": "dc29339a",
   "metadata": {},
   "outputs": [
    {
     "name": "stdout",
     "output_type": "stream",
     "text": [
      "(45000, 41)\n",
      "(45000,)\n",
      "(101182, 41)\n",
      "(101182,)\n"
     ]
    }
   ],
   "source": [
    "# validation set 10000건 분리\n",
    "X_val_pre = X_train_pre[:45000]\n",
    "y_val = y_train[:45000]\n",
    "\n",
    "# validation set을 제외한 나머지\n",
    "partial_X_train_pre = X_train_pre[45000:]\n",
    "partial_y_train = y_train[45000:]\n",
    "\n",
    "\n",
    "# validation set 갯수\n",
    "print(X_val_pre.shape)\n",
    "print(y_val.shape)\n",
    "\n",
    "# 나머지 train set 갯수\n",
    "print(partial_X_train_pre.shape)\n",
    "print(partial_y_train.shape)"
   ]
  },
  {
   "cell_type": "markdown",
   "id": "0aad2a44",
   "metadata": {},
   "source": [
    "#### 텍스트 데이터를 다루는 다양한 모델 구성하기"
   ]
  },
  {
   "cell_type": "code",
   "execution_count": 13,
   "id": "50820bf5",
   "metadata": {},
   "outputs": [
    {
     "name": "stdout",
     "output_type": "stream",
     "text": [
      "Model: \"sequential\"\n",
      "_________________________________________________________________\n",
      "Layer (type)                 Output Shape              Param #   \n",
      "=================================================================\n",
      "embedding (Embedding)        (None, None, 16)          160000    \n",
      "_________________________________________________________________\n",
      "lstm (LSTM)                  (None, 8)                 800       \n",
      "_________________________________________________________________\n",
      "dense (Dense)                (None, 8)                 72        \n",
      "_________________________________________________________________\n",
      "dense_1 (Dense)              (None, 1)                 9         \n",
      "=================================================================\n",
      "Total params: 160,881\n",
      "Trainable params: 160,881\n",
      "Non-trainable params: 0\n",
      "_________________________________________________________________\n"
     ]
    }
   ],
   "source": [
    "vocab_size = 10000   \n",
    "word_vector_dim = 16  # 단어 하나를 표현하는 임베딩 벡터의 차원수 (변경가능)\n",
    "\n",
    "# LSTM 레이어로 모델 설계\n",
    "model_rnn_pre = keras.Sequential()\n",
    "model_rnn_pre.add(keras.layers.Embedding(vocab_size, word_vector_dim, input_shape=(None,)))\n",
    "model_rnn_pre.add(keras.layers.LSTM(8)) \n",
    "model_rnn_pre.add(keras.layers.Dense(8, activation='relu'))\n",
    "model_rnn_pre.add(keras.layers.Dense(1, activation='sigmoid'))  # 최종 출력은 긍정/부정을 나타내는 1dim\n",
    "\n",
    "model_rnn_pre.summary()"
   ]
  },
  {
   "cell_type": "code",
   "execution_count": 14,
   "id": "1716e905",
   "metadata": {},
   "outputs": [
    {
     "name": "stdout",
     "output_type": "stream",
     "text": [
      "Model: \"sequential_1\"\n",
      "_________________________________________________________________\n",
      "Layer (type)                 Output Shape              Param #   \n",
      "=================================================================\n",
      "embedding_1 (Embedding)      (None, None, 16)          160000    \n",
      "_________________________________________________________________\n",
      "conv1d (Conv1D)              (None, None, 16)          784       \n",
      "_________________________________________________________________\n",
      "max_pooling1d (MaxPooling1D) (None, None, 16)          0         \n",
      "_________________________________________________________________\n",
      "conv1d_1 (Conv1D)            (None, None, 16)          784       \n",
      "_________________________________________________________________\n",
      "global_max_pooling1d (Global (None, 16)                0         \n",
      "_________________________________________________________________\n",
      "dense_2 (Dense)              (None, 8)                 136       \n",
      "_________________________________________________________________\n",
      "dense_3 (Dense)              (None, 1)                 9         \n",
      "=================================================================\n",
      "Total params: 161,713\n",
      "Trainable params: 161,713\n",
      "Non-trainable params: 0\n",
      "_________________________________________________________________\n"
     ]
    }
   ],
   "source": [
    "vocab_size = 10000    # 어휘 사전의 크기(10,000개의 단어)\n",
    "word_vector_dim = 16  # 단어 하나를 표현하는 임베딩 벡터의 차원수 (변경가능)\n",
    "\n",
    "# 1-D CNN 모델 설계\n",
    "model_1dcnn_pre = keras.Sequential()\n",
    "model_1dcnn_pre.add(keras.layers.Embedding(vocab_size, word_vector_dim, input_shape=(None,)))\n",
    "model_1dcnn_pre.add(keras.layers.Conv1D(16, 3, activation='relu'))\n",
    "model_1dcnn_pre.add(keras.layers.MaxPooling1D(5))\n",
    "model_1dcnn_pre.add(keras.layers.Conv1D(16, 3, activation='relu'))\n",
    "model_1dcnn_pre.add(keras.layers.GlobalMaxPooling1D())\n",
    "model_1dcnn_pre.add(keras.layers.Dense(8, activation='relu'))\n",
    "model_1dcnn_pre.add(keras.layers.Dense(1, activation='sigmoid'))  # 최종 출력은 긍정/부정을 나타내는 1dim\n",
    "\n",
    "model_1dcnn_pre.summary()"
   ]
  },
  {
   "cell_type": "code",
   "execution_count": 15,
   "id": "32f7e981",
   "metadata": {},
   "outputs": [
    {
     "name": "stdout",
     "output_type": "stream",
     "text": [
      "Model: \"sequential_2\"\n",
      "_________________________________________________________________\n",
      "Layer (type)                 Output Shape              Param #   \n",
      "=================================================================\n",
      "embedding_2 (Embedding)      (None, None, 16)          160000    \n",
      "_________________________________________________________________\n",
      "global_max_pooling1d_1 (Glob (None, 16)                0         \n",
      "_________________________________________________________________\n",
      "dense_4 (Dense)              (None, 8)                 136       \n",
      "_________________________________________________________________\n",
      "dense_5 (Dense)              (None, 1)                 9         \n",
      "=================================================================\n",
      "Total params: 160,145\n",
      "Trainable params: 160,145\n",
      "Non-trainable params: 0\n",
      "_________________________________________________________________\n"
     ]
    }
   ],
   "source": [
    "vocab_size = 10000    # 어휘 사전의 크기(10,000개의 단어)\n",
    "word_vector_dim = 16  # 단어 하나를 표현하는 임베딩 벡터의 차원수 (변경가능)\n",
    "\n",
    "# GlobalMaxPooling1D() 레이어 하나만 사용하여 모델 설계\n",
    "model_gmp_pre = keras.Sequential()\n",
    "model_gmp_pre.add(keras.layers.Embedding(vocab_size, word_vector_dim, input_shape=(None,)))\n",
    "model_gmp_pre.add(keras.layers.GlobalMaxPooling1D())\n",
    "model_gmp_pre.add(keras.layers.Dense(8, activation='relu'))\n",
    "model_gmp_pre.add(keras.layers.Dense(1, activation='sigmoid'))  # 최종 출력은 긍정/부정을 나타내는 1dim\n",
    "\n",
    "model_gmp_pre.summary()"
   ]
  },
  {
   "cell_type": "markdown",
   "id": "123d56db",
   "metadata": {},
   "source": [
    "#### 모델 학습 , 학습 시각화 , 평가하기"
   ]
  },
  {
   "cell_type": "code",
   "execution_count": 16,
   "id": "ccb19ca8",
   "metadata": {},
   "outputs": [
    {
     "name": "stdout",
     "output_type": "stream",
     "text": [
      "Epoch 1/5\n",
      "198/198 [==============================] - 21s 8ms/step - loss: 0.5596 - accuracy: 0.7317 - val_loss: 0.4144 - val_accuracy: 0.8301\n",
      "Epoch 2/5\n",
      "198/198 [==============================] - 1s 6ms/step - loss: 0.3647 - accuracy: 0.8496 - val_loss: 0.3556 - val_accuracy: 0.8478\n",
      "Epoch 3/5\n",
      "198/198 [==============================] - 1s 6ms/step - loss: 0.3243 - accuracy: 0.8667 - val_loss: 0.3525 - val_accuracy: 0.8487\n",
      "Epoch 4/5\n",
      "198/198 [==============================] - 1s 6ms/step - loss: 0.3087 - accuracy: 0.8735 - val_loss: 0.3508 - val_accuracy: 0.8488\n",
      "Epoch 5/5\n",
      "198/198 [==============================] - 1s 6ms/step - loss: 0.2967 - accuracy: 0.8802 - val_loss: 0.3596 - val_accuracy: 0.8458\n"
     ]
    }
   ],
   "source": [
    "model_rnn_pre.compile(optimizer='adam',\n",
    "              loss='binary_crossentropy',\n",
    "              metrics=['accuracy'])\n",
    "              \n",
    "epochs=5\n",
    "\n",
    "history_rnn_pre = model_rnn_pre.fit(partial_X_train_pre,\n",
    "                    partial_y_train,\n",
    "                    epochs=epochs,\n",
    "                    batch_size=512,\n",
    "                    validation_data=(X_val_pre, y_val),\n",
    "                    verbose=1)"
   ]
  },
  {
   "cell_type": "code",
   "execution_count": 17,
   "id": "9d3e49f9",
   "metadata": {},
   "outputs": [
    {
     "data": {
      "image/png": "[encoded data removed]",
      "text/plain": [
       "<Figure size 864x576 with 2 Axes>"
      ]
     },
     "metadata": {
      "needs_background": "light"
     },
     "output_type": "display_data"
    }
   ],
   "source": [
    "history_rnn_pre_dict = history_rnn_pre.history\n",
    "\n",
    "acc = history_rnn_pre_dict['accuracy']\n",
    "val_acc = history_rnn_pre_dict['val_accuracy']\n",
    "loss = history_rnn_pre_dict['loss']\n",
    "val_loss = history_rnn_pre_dict['val_loss']\n",
    "\n",
    "epochs = range(1, len(acc) + 1)\n",
    "\n",
    "plt.figure(figsize=(12,8))\n",
    "\n",
    "# loss 그래프\n",
    "plt.subplot(1,2,1)\n",
    "plt.plot(epochs, loss, 'bo', label='Training loss')\n",
    "plt.plot(epochs, val_loss, 'b', label='Validation loss')\n",
    "plt.title('Training , validation loss')\n",
    "plt.xlabel('Epochs')\n",
    "plt.ylabel('Loss')\n",
    "plt.legend()\n",
    "\n",
    "# accuracy 그래프\n",
    "plt.subplot(1,2,2)\n",
    "plt.plot(epochs, acc, 'ro', label='Training acc')\n",
    "plt.plot(epochs, val_acc, 'r', label='Validation acc')\n",
    "plt.title('Training , validation accuracy')\n",
    "plt.xlabel('Epochs')\n",
    "plt.ylabel('Accuracy')\n",
    "plt.legend()\n",
    "\n",
    "plt.show()"
   ]
  },
  {
   "cell_type": "code",
   "execution_count": 18,
   "id": "4e832cf3",
   "metadata": {},
   "outputs": [
    {
     "name": "stdout",
     "output_type": "stream",
     "text": [
      "1537/1537 - 3s - loss: 0.3712 - accuracy: 0.8395\n",
      "[0.3712218105792999, 0.8395141959190369]\n"
     ]
    }
   ],
   "source": [
    "results = model_rnn_pre.evaluate(X_test_pre,  y_test, verbose=2)\n",
    "\n",
    "print(results)"
   ]
  },
  {
   "cell_type": "code",
   "execution_count": 19,
   "id": "7a87480a",
   "metadata": {},
   "outputs": [
    {
     "name": "stdout",
     "output_type": "stream",
     "text": [
      "Epoch 1/5\n",
      "198/198 [==============================] - 12s 7ms/step - loss: 0.5873 - accuracy: 0.6920 - val_loss: 0.4756 - val_accuracy: 0.7574\n",
      "Epoch 2/5\n",
      "198/198 [==============================] - 1s 5ms/step - loss: 0.4401 - accuracy: 0.7840 - val_loss: 0.4576 - val_accuracy: 0.7705\n",
      "Epoch 3/5\n",
      "198/198 [==============================] - 1s 5ms/step - loss: 0.4027 - accuracy: 0.8045 - val_loss: 0.4594 - val_accuracy: 0.7712\n",
      "Epoch 4/5\n",
      "198/198 [==============================] - 1s 5ms/step - loss: 0.3746 - accuracy: 0.8218 - val_loss: 0.4684 - val_accuracy: 0.7668\n",
      "Epoch 5/5\n",
      "198/198 [==============================] - 1s 5ms/step - loss: 0.3462 - accuracy: 0.8371 - val_loss: 0.4832 - val_accuracy: 0.7650\n"
     ]
    }
   ],
   "source": [
    "model_1dcnn_pre.compile(optimizer='adam',\n",
    "              loss='binary_crossentropy',\n",
    "              metrics=['accuracy'])\n",
    "              \n",
    "epochs=5\n",
    "\n",
    "history_1dcnn_pre = model_1dcnn_pre.fit(partial_X_train_pre,\n",
    "                                       partial_y_train,\n",
    "                                       epochs=epochs,\n",
    "                                       batch_size=512,\n",
    "                                       validation_data=(X_val_pre, y_val),\n",
    "                                       verbose=1)"
   ]
  },
  {
   "cell_type": "code",
   "execution_count": 20,
   "id": "f287217b",
   "metadata": {},
   "outputs": [
    {
     "data": {
      "image/png": "[encoded data removed]",
      "text/plain": [
       "<Figure size 864x576 with 2 Axes>"
      ]
     },
     "metadata": {
      "needs_background": "light"
     },
     "output_type": "display_data"
    }
   ],
   "source": [
    "history_1dcnn_pre_dict = history_1dcnn_pre.history\n",
    "\n",
    "acc = history_1dcnn_pre_dict['accuracy']\n",
    "val_acc = history_1dcnn_pre_dict['val_accuracy']\n",
    "loss = history_1dcnn_pre_dict['loss']\n",
    "val_loss = history_1dcnn_pre_dict['val_loss']\n",
    "\n",
    "epochs = range(1, len(acc) + 1)\n",
    "\n",
    "plt.figure(figsize=(12,8))\n",
    "\n",
    "# loss 그래프\n",
    "plt.subplot(1,2,1)\n",
    "plt.plot(epochs, loss, 'bo', label='Training loss')\n",
    "plt.plot(epochs, val_loss, 'b', label='Validation loss')\n",
    "plt.title('Training , validation loss')\n",
    "plt.xlabel('Epochs')\n",
    "plt.ylabel('Loss')\n",
    "plt.legend()\n",
    "\n",
    "# accuracy 그래프\n",
    "plt.subplot(1,2,2)\n",
    "plt.plot(epochs, acc, 'ro', label='Training acc')\n",
    "plt.plot(epochs, val_acc, 'r', label='Validation acc')\n",
    "plt.title('Training , validation accuracy')\n",
    "plt.xlabel('Epochs')\n",
    "plt.ylabel('Accuracy')\n",
    "plt.legend()\n",
    "\n",
    "plt.show()"
   ]
  },
  {
   "cell_type": "code",
   "execution_count": 21,
   "id": "ae0df0ed",
   "metadata": {},
   "outputs": [
    {
     "name": "stdout",
     "output_type": "stream",
     "text": [
      "1537/1537 - 3s - loss: 0.4886 - accuracy: 0.7604\n",
      "[0.48860666155815125, 0.7604206800460815]\n"
     ]
    }
   ],
   "source": [
    "results = model_1dcnn_pre.evaluate(X_test_pre,  y_test, verbose=2)\n",
    "\n",
    "print(results)"
   ]
  },
  {
   "cell_type": "code",
   "execution_count": 22,
   "id": "ae4b9f3d",
   "metadata": {},
   "outputs": [
    {
     "name": "stdout",
     "output_type": "stream",
     "text": [
      "Epoch 1/5\n",
      "198/198 [==============================] - 1s 4ms/step - loss: 0.6018 - accuracy: 0.7407 - val_loss: 0.4517 - val_accuracy: 0.8203\n",
      "Epoch 2/5\n",
      "198/198 [==============================] - 1s 4ms/step - loss: 0.3894 - accuracy: 0.8369 - val_loss: 0.3658 - val_accuracy: 0.8394\n",
      "Epoch 3/5\n",
      "198/198 [==============================] - 1s 4ms/step - loss: 0.3318 - accuracy: 0.8602 - val_loss: 0.3518 - val_accuracy: 0.8469\n",
      "Epoch 4/5\n",
      "198/198 [==============================] - 1s 4ms/step - loss: 0.3003 - accuracy: 0.8758 - val_loss: 0.3494 - val_accuracy: 0.8485\n",
      "Epoch 5/5\n",
      "198/198 [==============================] - 1s 4ms/step - loss: 0.2767 - accuracy: 0.8875 - val_loss: 0.3531 - val_accuracy: 0.8482\n"
     ]
    }
   ],
   "source": [
    "model_gmp_pre.compile(optimizer='adam',\n",
    "              loss='binary_crossentropy',\n",
    "              metrics=['accuracy'])\n",
    "              \n",
    "epochs=5\n",
    "\n",
    "history_gmp_pre = model_gmp_pre.fit(partial_X_train_pre,\n",
    "                                       partial_y_train,\n",
    "                                       epochs=epochs,\n",
    "                                       batch_size=512,\n",
    "                                       validation_data=(X_val_pre, y_val),\n",
    "                                       verbose=1)"
   ]
  },
  {
   "cell_type": "code",
   "execution_count": 23,
   "id": "8a4f8142",
   "metadata": {},
   "outputs": [
    {
     "data": {
      "image/png": "[encoded data removed]",
      "text/plain": [
       "<Figure size 864x576 with 2 Axes>"
      ]
     },
     "metadata": {
      "needs_background": "light"
     },
     "output_type": "display_data"
    }
   ],
   "source": [
    "history_gmp_pre_dict = history_gmp_pre.history\n",
    "\n",
    "acc = history_gmp_pre_dict['accuracy']\n",
    "val_acc = history_gmp_pre_dict['val_accuracy']\n",
    "loss = history_gmp_pre_dict['loss']\n",
    "val_loss = history_gmp_pre_dict['val_loss']\n",
    "\n",
    "epochs = range(1, len(acc) + 1)\n",
    "\n",
    "plt.figure(figsize=(12,8))\n",
    "\n",
    "# loss 그래프\n",
    "plt.subplot(1,2,1)\n",
    "plt.plot(epochs, loss, 'bo', label='Training loss')\n",
    "plt.plot(epochs, val_loss, 'b', label='Validation loss')\n",
    "plt.title('Training , validation loss')\n",
    "plt.xlabel('Epochs')\n",
    "plt.ylabel('Loss')\n",
    "plt.legend()\n",
    "\n",
    "# accuracy 그래프\n",
    "plt.subplot(1,2,2)\n",
    "plt.plot(epochs, acc, 'ro', label='Training acc')\n",
    "plt.plot(epochs, val_acc, 'r', label='Validation acc')\n",
    "plt.title('Training a, validation accuracy')\n",
    "plt.xlabel('Epochs')\n",
    "plt.ylabel('Accuracy')\n",
    "plt.legend()\n",
    "\n",
    "plt.show()"
   ]
  },
  {
   "cell_type": "code",
   "execution_count": 24,
   "id": "94fca6ed",
   "metadata": {},
   "outputs": [
    {
     "name": "stdout",
     "output_type": "stream",
     "text": [
      "1537/1537 - 2s - loss: 0.3650 - accuracy: 0.8433\n",
      "[0.3649848699569702, 0.8433183431625366]\n"
     ]
    }
   ],
   "source": [
    "results = model_gmp_pre.evaluate(X_test_pre,  y_test, verbose=2)\n",
    "\n",
    "print(results)"
   ]
  },
  {
   "cell_type": "markdown",
   "id": "914702b7",
   "metadata": {},
   "source": [
    "### 임베딩 레이어 분석(가장 정확도가 높게나온 RNN모델)"
   ]
  },
  {
   "cell_type": "code",
   "execution_count": 25,
   "id": "d4de7031",
   "metadata": {},
   "outputs": [
    {
     "name": "stdout",
     "output_type": "stream",
     "text": [
      "(10000, 16)\n"
     ]
    }
   ],
   "source": [
    "embedding_layer = model_rnn_pre.layers[0]\n",
    "weights = embedding_layer.get_weights()[0]\n",
    "print(weights.shape)   "
   ]
  },
  {
   "cell_type": "code",
   "execution_count": 26,
   "id": "5d170690",
   "metadata": {},
   "outputs": [],
   "source": [
    "import os\n",
    "\n",
    "# 학습한 Embedding 파라미터를 파일에 써서 저장\n",
    "word2vec_file_path = os.getenv('HOME')+'/aiffel/sentiment_classification/data/word2vec.txt'\n",
    "f = open(word2vec_file_path, 'w')\n",
    "f.write('{} {}\\n'.format(vocab_size-4, word_vector_dim))  # 몇개의 벡터를 얼마 사이즈로 기재할지 타이틀을 씁니다.\n",
    "\n",
    "# 단어 개수(특수문자 4개는 제외)만큼의 워드 벡터를 파일에 기록\n",
    "vectors = model_rnn_pre.get_weights()[0]\n",
    "for i in range(4,vocab_size):\n",
    "    f.write('{} {}\\n'.format(index_to_word[i], ' '.join(map(str, list(vectors[i, :])))))\n",
    "f.close()"
   ]
  },
  {
   "cell_type": "code",
   "execution_count": 27,
   "id": "38b06467",
   "metadata": {},
   "outputs": [
    {
     "data": {
      "text/plain": [
       "(10000, 16)"
      ]
     },
     "execution_count": 27,
     "metadata": {},
     "output_type": "execute_result"
    }
   ],
   "source": [
    "vectors.shape "
   ]
  },
  {
   "cell_type": "markdown",
   "id": "fc5757ba",
   "metadata": {},
   "source": [
    "####  워드 벡터가 의미 벡터 공간상에 유의미하게 학습되었는지 확인하기"
   ]
  },
  {
   "cell_type": "code",
   "execution_count": 28,
   "id": "31945ef8",
   "metadata": {},
   "outputs": [
    {
     "data": {
      "text/plain": [
       "[('귀여움', 0.9785929918289185),\n",
       " ('앓', 0.9738229513168335),\n",
       " ('괜찮', 0.9716129302978516),\n",
       " ('퍼펙트', 0.9703009128570557),\n",
       " ('쏠쏠', 0.9702550768852234),\n",
       " ('알콩달콩', 0.9701334834098816),\n",
       " ('밀리', 0.9696062803268433),\n",
       " ('꾀', 0.9679185152053833),\n",
       " ('조음', 0.9677662253379822),\n",
       " ('레전드', 0.9677280187606812)]"
      ]
     },
     "execution_count": 28,
     "metadata": {},
     "output_type": "execute_result"
    }
   ],
   "source": [
    "from gensim.models.keyedvectors import Word2VecKeyedVectors\n",
    "# Word2Vec 불러오기\n",
    "word2vec = Word2VecKeyedVectors.load_word2vec_format(word2vec_file_path, binary=False)\n",
    "\n",
    "word2vec.similar_by_word(\"사랑\")"
   ]
  },
  {
   "cell_type": "code",
   "execution_count": 29,
   "id": "da7a78f2",
   "metadata": {},
   "outputs": [
    {
     "data": {
      "text/plain": [
       "[('리얼리즘', 0.979936957359314),\n",
       " ('쿵', 0.9749221801757812),\n",
       " ('야호', 0.9745858311653137),\n",
       " ('재미있', 0.9741607308387756),\n",
       " ('뗄', 0.9729707837104797),\n",
       " ('여사', 0.9728869199752808),\n",
       " ('사악', 0.9726501703262329),\n",
       " ('중독자', 0.9713877439498901),\n",
       " ('미남', 0.9711669683456421),\n",
       " ('걸작', 0.9708935022354126)]"
      ]
     },
     "execution_count": 29,
     "metadata": {},
     "output_type": "execute_result"
    }
   ],
   "source": [
    "word2vec.similar_by_word(\"슬픔\")"
   ]
  },
  {
   "cell_type": "markdown",
   "id": "6976edfb",
   "metadata": {},
   "source": [
    "#### 한국어 word2vec불러오기"
   ]
  },
  {
   "cell_type": "code",
   "execution_count": 30,
   "id": "dd44af06",
   "metadata": {},
   "outputs": [
    {
     "name": "stderr",
     "output_type": "stream",
     "text": [
      "/tmp/ipykernel_133/1005516468.py:7: DeprecationWarning: Call to deprecated `__getitem__` (Method will be removed in 4.0.0, use self.wv.__getitem__() instead).\n",
      "  vector = word2vec['사랑']\n"
     ]
    },
    {
     "data": {
      "text/plain": [
       "(200,)"
      ]
     },
     "execution_count": 30,
     "metadata": {},
     "output_type": "execute_result"
    }
   ],
   "source": [
    "import gensim\n",
    "from gensim.models import KeyedVectors\n",
    "\n",
    "word2vec_path = os.getenv('HOME')+'/aiffel/sentiment_classification/data/ko.bin'\n",
    "\n",
    "word2vec = gensim.models.Word2Vec.load(word2vec_path)\n",
    "vector = word2vec['사랑']\n",
    "vector.shape     # 200dim의 워드 벡터"
   ]
  },
  {
   "cell_type": "code",
   "execution_count": 31,
   "id": "05eb7a78",
   "metadata": {},
   "outputs": [
    {
     "name": "stderr",
     "output_type": "stream",
     "text": [
      "/tmp/ipykernel_133/1360476464.py:1: DeprecationWarning: Call to deprecated `similar_by_word` (Method will be removed in 4.0.0, use self.wv.similar_by_word() instead).\n",
      "  word2vec.similar_by_word(\"사랑\")\n"
     ]
    },
    {
     "data": {
      "text/plain": [
       "[('슬픔', 0.7216662764549255),\n",
       " ('행복', 0.6759077310562134),\n",
       " ('절망', 0.6468985080718994),\n",
       " ('기쁨', 0.6458414196968079),\n",
       " ('이별', 0.6334798336029053),\n",
       " ('추억', 0.6320937275886536),\n",
       " ('인생', 0.6216273307800293),\n",
       " ('애정', 0.6206069588661194),\n",
       " ('연인', 0.6186063289642334),\n",
       " ('유혹', 0.5965287685394287)]"
      ]
     },
     "execution_count": 31,
     "metadata": {},
     "output_type": "execute_result"
    }
   ],
   "source": [
    "word2vec.similar_by_word(\"사랑\")"
   ]
  },
  {
   "cell_type": "code",
   "execution_count": 32,
   "id": "39e895ce",
   "metadata": {},
   "outputs": [
    {
     "name": "stderr",
     "output_type": "stream",
     "text": [
      "/tmp/ipykernel_133/1281145983.py:1: DeprecationWarning: Call to deprecated `similar_by_word` (Method will be removed in 4.0.0, use self.wv.similar_by_word() instead).\n",
      "  word2vec.similar_by_word(\"슬픔\")\n"
     ]
    },
    {
     "data": {
      "text/plain": [
       "[('기쁨', 0.7767106294631958),\n",
       " ('절망', 0.7710496783256531),\n",
       " ('아픔', 0.7430999279022217),\n",
       " ('비탄', 0.7297681570053101),\n",
       " ('고독', 0.7251476049423218),\n",
       " ('사랑', 0.7216662168502808),\n",
       " ('외로움', 0.7195188999176025),\n",
       " ('추억', 0.6951203346252441),\n",
       " ('이별', 0.6873862147331238),\n",
       " ('괴로움', 0.6854110956192017)]"
      ]
     },
     "execution_count": 32,
     "metadata": {},
     "output_type": "execute_result"
    }
   ],
   "source": [
    "word2vec.similar_by_word(\"슬픔\")"
   ]
  },
  {
   "cell_type": "code",
   "execution_count": 33,
   "id": "3e5e9c42",
   "metadata": {},
   "outputs": [
    {
     "name": "stderr",
     "output_type": "stream",
     "text": [
      "/tmp/ipykernel_133/3778977091.py:10: DeprecationWarning: Call to deprecated `__contains__` (Method will be removed in 4.0.0, use self.wv.__contains__() instead).\n",
      "  if index_to_word[i] in word2vec:\n",
      "/tmp/ipykernel_133/3778977091.py:11: DeprecationWarning: Call to deprecated `__getitem__` (Method will be removed in 4.0.0, use self.wv.__getitem__() instead).\n",
      "  embedding_matrix[i] = word2vec[index_to_word[i]]\n"
     ]
    }
   ],
   "source": [
    "from tensorflow.keras.initializers import Constant\n",
    "\n",
    "vocab_size = 10000    # 어휘 사전의 크기입니다(10,000개의 단어)\n",
    "word_vector_dim = 200  # 워드 벡터의 차원수 (변경가능한 하이퍼파라미터)\n",
    "\n",
    "embedding_matrix = np.random.rand(vocab_size, word_vector_dim)\n",
    "\n",
    "# embedding_matrix에 Word2Vec 워드 벡터를 단어 하나씩마다 차례차례 카피한다.\n",
    "for i in range(4,vocab_size):\n",
    "    if index_to_word[i] in word2vec:\n",
    "        embedding_matrix[i] = word2vec[index_to_word[i]]"
   ]
  },
  {
   "cell_type": "code",
   "execution_count": 34,
   "id": "2110aa63",
   "metadata": {},
   "outputs": [
    {
     "name": "stdout",
     "output_type": "stream",
     "text": [
      "Model: \"sequential_3\"\n",
      "_________________________________________________________________\n",
      "Layer (type)                 Output Shape              Param #   \n",
      "=================================================================\n",
      "embedding_3 (Embedding)      (None, 41, 200)           2000000   \n",
      "_________________________________________________________________\n",
      "lstm_1 (LSTM)                (None, 128)               168448    \n",
      "_________________________________________________________________\n",
      "dense_6 (Dense)              (None, 8)                 1032      \n",
      "_________________________________________________________________\n",
      "dense_7 (Dense)              (None, 1)                 9         \n",
      "=================================================================\n",
      "Total params: 2,169,489\n",
      "Trainable params: 2,169,489\n",
      "Non-trainable params: 0\n",
      "_________________________________________________________________\n"
     ]
    }
   ],
   "source": [
    "# LSTM 레이어로 모델 설계\n",
    "model_ko = keras.Sequential()\n",
    "model_ko.add(keras.layers.Embedding(vocab_size, \n",
    "                                 word_vector_dim, \n",
    "                                 embeddings_initializer=Constant(embedding_matrix),  # 카피한 임베딩을 여기서 활용\n",
    "                                 input_length=maxlen, \n",
    "                                 trainable=True))   # trainable을 True로 주면 Fine-tuning\n",
    "model_ko.add(keras.layers.LSTM(128))  # LSTM state 벡터의 차원수 (변경가능)\n",
    "model_ko.add(keras.layers.Dense(8, activation='relu'))\n",
    "model_ko.add(keras.layers.Dense(1, activation='sigmoid'))  # 최종 출력은 긍정/부정을 나타내는 1dim\n",
    "\n",
    "model_ko.summary()"
   ]
  },
  {
   "cell_type": "markdown",
   "id": "651a2b3d",
   "metadata": {},
   "source": [
    "### 모델 학습 및 학습 과정 시각화하기"
   ]
  },
  {
   "cell_type": "code",
   "execution_count": 35,
   "id": "ded458c6",
   "metadata": {},
   "outputs": [
    {
     "name": "stdout",
     "output_type": "stream",
     "text": [
      "Epoch 1/5\n",
      "1581/1581 [==============================] - 12s 7ms/step - loss: 0.4052 - accuracy: 0.8132 - val_loss: 0.3360 - val_accuracy: 0.8529\n",
      "Epoch 2/5\n",
      "1581/1581 [==============================] - 10s 7ms/step - loss: 0.2950 - accuracy: 0.8756 - val_loss: 0.3227 - val_accuracy: 0.8612\n",
      "Epoch 3/5\n",
      "1581/1581 [==============================] - 10s 6ms/step - loss: 0.2492 - accuracy: 0.8975 - val_loss: 0.3141 - val_accuracy: 0.8664\n",
      "Epoch 4/5\n",
      "1581/1581 [==============================] - 10s 7ms/step - loss: 0.2075 - accuracy: 0.9164 - val_loss: 0.3403 - val_accuracy: 0.8626\n",
      "Epoch 5/5\n",
      "1581/1581 [==============================] - 10s 7ms/step - loss: 0.1670 - accuracy: 0.9353 - val_loss: 0.3676 - val_accuracy: 0.8635\n"
     ]
    }
   ],
   "source": [
    "model_ko.compile(optimizer='adam',\n",
    "              loss='binary_crossentropy',\n",
    "              metrics=['accuracy'])\n",
    "              \n",
    "epochs=5   \n",
    "\n",
    "history_ko = model_ko.fit(partial_X_train_pre,\n",
    "                    partial_y_train,\n",
    "                    epochs=epochs,\n",
    "                    batch_size=64,\n",
    "                    validation_data=(X_val_pre, y_val),\n",
    "                    verbose=1)"
   ]
  },
  {
   "cell_type": "code",
   "execution_count": 36,
   "id": "f1bafdc9",
   "metadata": {},
   "outputs": [
    {
     "data": {
      "image/png": "[encoded data removed]",
      "text/plain": [
       "<Figure size 864x576 with 2 Axes>"
      ]
     },
     "metadata": {
      "needs_background": "light"
     },
     "output_type": "display_data"
    }
   ],
   "source": [
    "history_ko_dict = history_ko.history\n",
    "\n",
    "acc = history_ko_dict['accuracy']\n",
    "val_acc = history_ko_dict['val_accuracy']\n",
    "loss = history_ko_dict['loss']\n",
    "val_loss = history_ko_dict['val_loss']\n",
    "\n",
    "epochs = range(1, len(acc) + 1)\n",
    "\n",
    "plt.figure(figsize=(12,8))\n",
    "\n",
    "# loss 그래프\n",
    "plt.subplot(1,2,1)\n",
    "plt.plot(epochs, loss, 'bo', label='Training loss')\n",
    "plt.plot(epochs, val_loss, 'b', label='Validation loss')\n",
    "plt.title('Training and validation loss')\n",
    "plt.xlabel('Epochs')\n",
    "plt.ylabel('Loss')\n",
    "plt.legend()\n",
    "\n",
    "# accuracy 그래프\n",
    "plt.subplot(1,2,2)\n",
    "plt.plot(epochs, acc, 'ro', label='Training acc')\n",
    "plt.plot(epochs, val_acc, 'r', label='Validation acc')\n",
    "plt.title('Training and validation accuracy')\n",
    "plt.xlabel('Epochs')\n",
    "plt.ylabel('Accuracy')\n",
    "plt.legend()\n",
    "\n",
    "plt.show()"
   ]
  },
  {
   "cell_type": "markdown",
   "id": "86003758",
   "metadata": {},
   "source": [
    "#### 정확도 확인하기"
   ]
  },
  {
   "cell_type": "code",
   "execution_count": 37,
   "id": "2dcf3e72",
   "metadata": {},
   "outputs": [
    {
     "name": "stdout",
     "output_type": "stream",
     "text": [
      "1537/1537 - 3s - loss: 0.3749 - accuracy: 0.8583\n",
      "[0.3748621642589569, 0.858250081539154]\n"
     ]
    }
   ],
   "source": [
    "results = model_ko.evaluate(X_test_pre,  y_test, verbose=2)\n",
    "\n",
    "print(results)"
   ]
  },
  {
   "cell_type": "markdown",
   "id": "db9e421a",
   "metadata": {},
   "source": [
    "## 회고"
   ]
  },
  {
   "cell_type": "markdown",
   "id": "e65d0e6a",
   "metadata": {},
   "source": [
    "#### 이번 프로잭트를 진행하면서 어렸웠던점은 여전히 코드 진행하는것과 코드를 직접 짜는것도 힘들었지만                                                                  한국어 word2vec 파일 찾는것과 버전 낮추는 방법이 찾는게 어려웠던것 같습니다. 방법을 찾으려고 구글링도 해보고 했지만 잘 모르겠어서          다른 분들께 여쭤봤더니 해결방법을 잘 알려주셔서 무사히 해결한거 같습니다. 정말 다음에 또 버전을 낮춰야하는 상황이 오면 절대 안까먹          을수 있을꺼같습니다. 그리고 이번 프로잭트에서는 루브릭 평가기준을 맞추게되서 기분이 좋습니다. 이 기세를 이어서 다음 프로잭트도 루            평가를 달성할수있도록 하겠습니다.!!!"
   ]
  }
 ],
 "metadata": {
  "kernelspec": {
   "display_name": "Python 3 (ipykernel)",
   "language": "python",
   "name": "python3"
  },
  "language_info": {
   "codemirror_mode": {
    "name": "ipython",
    "version": 3
   },
   "file_extension": ".py",
   "mimetype": "text/x-python",
   "name": "python",
   "nbconvert_exporter": "python",
   "pygments_lexer": "ipython3",
   "version": "3.9.7"
  }
 },
 "nbformat": 4,
 "nbformat_minor": 5
}
