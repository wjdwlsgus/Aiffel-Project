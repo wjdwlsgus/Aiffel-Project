{
 "cells": [
  {
   "cell_type": "markdown",
   "id": "11892f9d",
   "metadata": {},
   "source": [
    "### [E14] Movie Recommendation"
   ]
  },
  {
   "cell_type": "markdown",
   "id": "c41395f0",
   "metadata": {},
   "source": [
    "#### 목차"
   ]
  },
  {
   "cell_type": "markdown",
   "id": "59659888",
   "metadata": {},
   "source": [
    "1. 데이터 준비 및 전처리\n",
    "2. 데이터 분석\n",
    "3. 선호하는 영화 추가\n",
    "4. CSR matrix 생성\n",
    "5. 모델 설계 및 훈련\n",
    "6. 훈련된 모델이 예측한 나의 선호도\n",
    "7. 내가 좋아하는 영화와 비슷한 영화 추천 \n",
    "8. 내가 좋아할만한 영화 추천 \n",
    "9. 회고"
   ]
  },
  {
   "cell_type": "markdown",
   "id": "8e57c1b4",
   "metadata": {},
   "source": [
    "## 데이터 준비 및 전처리"
   ]
  },
  {
   "cell_type": "code",
   "execution_count": 1,
   "id": "cafeac3f",
   "metadata": {},
   "outputs": [
    {
     "data": {
      "text/html": [
       "<div>\n",
       "<style scoped>\n",
       "    .dataframe tbody tr th:only-of-type {\n",
       "        vertical-align: middle;\n",
       "    }\n",
       "\n",
       "    .dataframe tbody tr th {\n",
       "        vertical-align: top;\n",
       "    }\n",
       "\n",
       "    .dataframe thead th {\n",
       "        text-align: right;\n",
       "    }\n",
       "</style>\n",
       "<table border=\"1\" class=\"dataframe\">\n",
       "  <thead>\n",
       "    <tr style=\"text-align: right;\">\n",
       "      <th></th>\n",
       "      <th>user_id</th>\n",
       "      <th>movie_id</th>\n",
       "      <th>rating</th>\n",
       "      <th>timestamp</th>\n",
       "    </tr>\n",
       "  </thead>\n",
       "  <tbody>\n",
       "    <tr>\n",
       "      <th>0</th>\n",
       "      <td>1</td>\n",
       "      <td>1193</td>\n",
       "      <td>5</td>\n",
       "      <td>978300760</td>\n",
       "    </tr>\n",
       "    <tr>\n",
       "      <th>1</th>\n",
       "      <td>1</td>\n",
       "      <td>661</td>\n",
       "      <td>3</td>\n",
       "      <td>978302109</td>\n",
       "    </tr>\n",
       "    <tr>\n",
       "      <th>2</th>\n",
       "      <td>1</td>\n",
       "      <td>914</td>\n",
       "      <td>3</td>\n",
       "      <td>978301968</td>\n",
       "    </tr>\n",
       "    <tr>\n",
       "      <th>3</th>\n",
       "      <td>1</td>\n",
       "      <td>3408</td>\n",
       "      <td>4</td>\n",
       "      <td>978300275</td>\n",
       "    </tr>\n",
       "    <tr>\n",
       "      <th>4</th>\n",
       "      <td>1</td>\n",
       "      <td>2355</td>\n",
       "      <td>5</td>\n",
       "      <td>978824291</td>\n",
       "    </tr>\n",
       "  </tbody>\n",
       "</table>\n",
       "</div>"
      ],
      "text/plain": [
       "   user_id  movie_id  rating  timestamp\n",
       "0        1      1193       5  978300760\n",
       "1        1       661       3  978302109\n",
       "2        1       914       3  978301968\n",
       "3        1      3408       4  978300275\n",
       "4        1      2355       5  978824291"
      ]
     },
     "execution_count": 1,
     "metadata": {},
     "output_type": "execute_result"
    }
   ],
   "source": [
    "import pandas as pd\n",
    "import os\n",
    "\n",
    "rating_file_path=os.getenv('HOME') + '/aiffel/recommendata_iu/data/ml-1m/ratings.dat'\n",
    "ratings_cols = ['user_id', 'movie_id', 'rating', 'timestamp']\n",
    "ratings = pd.read_csv(rating_file_path, sep='::', names=ratings_cols, engine='python', encoding = \"ISO-8859-1\")\n",
    "orginal_data_size = len(ratings)\n",
    "ratings.head()"
   ]
  },
  {
   "cell_type": "markdown",
   "id": "a9ed95fb",
   "metadata": {},
   "source": [
    "- 평점이 3점 이상인 movie들만 남김\n",
    "- 1,000,209개의 영화 중, 836,478개의 영화만 평점이 3점 이상 (약 83.63%)"
   ]
  },
  {
   "cell_type": "code",
   "execution_count": 2,
   "id": "97106edb",
   "metadata": {},
   "outputs": [
    {
     "name": "stdout",
     "output_type": "stream",
     "text": [
      "orginal_data_size: 1000209, filtered_data_size: 836478\n",
      "Ratio of Remaining Data is 83.63%\n"
     ]
    }
   ],
   "source": [
    "ratings = ratings[ratings['rating']>=3]\n",
    "filtered_data_size = len(ratings)\n",
    "\n",
    "print(f'orginal_data_size: {orginal_data_size}, filtered_data_size: {filtered_data_size}')\n",
    "print(f'Ratio of Remaining Data is {filtered_data_size / orginal_data_size:.2%}')"
   ]
  },
  {
   "cell_type": "markdown",
   "id": "5ccf2a18",
   "metadata": {},
   "source": [
    "- rating column의 이름을 count로 변경"
   ]
  },
  {
   "cell_type": "code",
   "execution_count": 3,
   "id": "64800610",
   "metadata": {
    "scrolled": true
   },
   "outputs": [
    {
     "data": {
      "text/plain": [
       "0          5\n",
       "1          3\n",
       "2          3\n",
       "3          4\n",
       "4          5\n",
       "          ..\n",
       "1000203    3\n",
       "1000205    5\n",
       "1000206    5\n",
       "1000207    4\n",
       "1000208    4\n",
       "Name: count, Length: 836478, dtype: int64"
      ]
     },
     "execution_count": 3,
     "metadata": {},
     "output_type": "execute_result"
    }
   ],
   "source": [
    "ratings.rename(columns={'rating':'count'}, inplace=True)\n",
    "ratings['count']"
   ]
  },
  {
   "cell_type": "code",
   "execution_count": 4,
   "id": "16511a72",
   "metadata": {},
   "outputs": [
    {
     "data": {
      "text/html": [
       "<div>\n",
       "<style scoped>\n",
       "    .dataframe tbody tr th:only-of-type {\n",
       "        vertical-align: middle;\n",
       "    }\n",
       "\n",
       "    .dataframe tbody tr th {\n",
       "        vertical-align: top;\n",
       "    }\n",
       "\n",
       "    .dataframe thead th {\n",
       "        text-align: right;\n",
       "    }\n",
       "</style>\n",
       "<table border=\"1\" class=\"dataframe\">\n",
       "  <thead>\n",
       "    <tr style=\"text-align: right;\">\n",
       "      <th></th>\n",
       "      <th>movie_id</th>\n",
       "      <th>title</th>\n",
       "      <th>genre</th>\n",
       "    </tr>\n",
       "  </thead>\n",
       "  <tbody>\n",
       "    <tr>\n",
       "      <th>0</th>\n",
       "      <td>1</td>\n",
       "      <td>Toy Story (1995)</td>\n",
       "      <td>Animation|Children's|Comedy</td>\n",
       "    </tr>\n",
       "    <tr>\n",
       "      <th>1</th>\n",
       "      <td>2</td>\n",
       "      <td>Jumanji (1995)</td>\n",
       "      <td>Adventure|Children's|Fantasy</td>\n",
       "    </tr>\n",
       "    <tr>\n",
       "      <th>2</th>\n",
       "      <td>3</td>\n",
       "      <td>Grumpier Old Men (1995)</td>\n",
       "      <td>Comedy|Romance</td>\n",
       "    </tr>\n",
       "    <tr>\n",
       "      <th>3</th>\n",
       "      <td>4</td>\n",
       "      <td>Waiting to Exhale (1995)</td>\n",
       "      <td>Comedy|Drama</td>\n",
       "    </tr>\n",
       "    <tr>\n",
       "      <th>4</th>\n",
       "      <td>5</td>\n",
       "      <td>Father of the Bride Part II (1995)</td>\n",
       "      <td>Comedy</td>\n",
       "    </tr>\n",
       "  </tbody>\n",
       "</table>\n",
       "</div>"
      ],
      "text/plain": [
       "   movie_id                               title                         genre\n",
       "0         1                    Toy Story (1995)   Animation|Children's|Comedy\n",
       "1         2                      Jumanji (1995)  Adventure|Children's|Fantasy\n",
       "2         3             Grumpier Old Men (1995)                Comedy|Romance\n",
       "3         4            Waiting to Exhale (1995)                  Comedy|Drama\n",
       "4         5  Father of the Bride Part II (1995)                        Comedy"
      ]
     },
     "execution_count": 4,
     "metadata": {},
     "output_type": "execute_result"
    }
   ],
   "source": [
    "movie_file_path=os.getenv('HOME') + '/aiffel/recommendata_iu/data/ml-1m/movies.dat'\n",
    "cols = ['movie_id', 'title', 'genre'] \n",
    "movies = pd.read_csv(movie_file_path, sep='::', names=cols, engine='python', encoding='ISO-8859-1')\n",
    "movies.head()"
   ]
  },
  {
   "cell_type": "markdown",
   "id": "0c9fb483",
   "metadata": {},
   "source": [
    "- ratings dataframe과 movies dataframe 합치기"
   ]
  },
  {
   "cell_type": "code",
   "execution_count": 5,
   "id": "451de126",
   "metadata": {
    "scrolled": false
   },
   "outputs": [
    {
     "data": {
      "text/html": [
       "<div>\n",
       "<style scoped>\n",
       "    .dataframe tbody tr th:only-of-type {\n",
       "        vertical-align: middle;\n",
       "    }\n",
       "\n",
       "    .dataframe tbody tr th {\n",
       "        vertical-align: top;\n",
       "    }\n",
       "\n",
       "    .dataframe thead th {\n",
       "        text-align: right;\n",
       "    }\n",
       "</style>\n",
       "<table border=\"1\" class=\"dataframe\">\n",
       "  <thead>\n",
       "    <tr style=\"text-align: right;\">\n",
       "      <th></th>\n",
       "      <th>user_id</th>\n",
       "      <th>movie_id</th>\n",
       "      <th>count</th>\n",
       "      <th>timestamp</th>\n",
       "      <th>title</th>\n",
       "      <th>genre</th>\n",
       "    </tr>\n",
       "  </thead>\n",
       "  <tbody>\n",
       "    <tr>\n",
       "      <th>0</th>\n",
       "      <td>1</td>\n",
       "      <td>1193</td>\n",
       "      <td>5</td>\n",
       "      <td>978300760</td>\n",
       "      <td>One Flew Over the Cuckoo's Nest (1975)</td>\n",
       "      <td>Drama</td>\n",
       "    </tr>\n",
       "    <tr>\n",
       "      <th>1</th>\n",
       "      <td>1</td>\n",
       "      <td>661</td>\n",
       "      <td>3</td>\n",
       "      <td>978302109</td>\n",
       "      <td>James and the Giant Peach (1996)</td>\n",
       "      <td>Animation|Children's|Musical</td>\n",
       "    </tr>\n",
       "    <tr>\n",
       "      <th>2</th>\n",
       "      <td>1</td>\n",
       "      <td>914</td>\n",
       "      <td>3</td>\n",
       "      <td>978301968</td>\n",
       "      <td>My Fair Lady (1964)</td>\n",
       "      <td>Musical|Romance</td>\n",
       "    </tr>\n",
       "    <tr>\n",
       "      <th>3</th>\n",
       "      <td>1</td>\n",
       "      <td>3408</td>\n",
       "      <td>4</td>\n",
       "      <td>978300275</td>\n",
       "      <td>Erin Brockovich (2000)</td>\n",
       "      <td>Drama</td>\n",
       "    </tr>\n",
       "    <tr>\n",
       "      <th>4</th>\n",
       "      <td>1</td>\n",
       "      <td>2355</td>\n",
       "      <td>5</td>\n",
       "      <td>978824291</td>\n",
       "      <td>Bug's Life, A (1998)</td>\n",
       "      <td>Animation|Children's|Comedy</td>\n",
       "    </tr>\n",
       "  </tbody>\n",
       "</table>\n",
       "</div>"
      ],
      "text/plain": [
       "   user_id  movie_id  count  timestamp  \\\n",
       "0        1      1193      5  978300760   \n",
       "1        1       661      3  978302109   \n",
       "2        1       914      3  978301968   \n",
       "3        1      3408      4  978300275   \n",
       "4        1      2355      5  978824291   \n",
       "\n",
       "                                    title                         genre  \n",
       "0  One Flew Over the Cuckoo's Nest (1975)                         Drama  \n",
       "1        James and the Giant Peach (1996)  Animation|Children's|Musical  \n",
       "2                     My Fair Lady (1964)               Musical|Romance  \n",
       "3                  Erin Brockovich (2000)                         Drama  \n",
       "4                    Bug's Life, A (1998)   Animation|Children's|Comedy  "
      ]
     },
     "execution_count": 5,
     "metadata": {},
     "output_type": "execute_result"
    }
   ],
   "source": [
    "ratings = ratings.join(movies.set_index('movie_id'), on='movie_id')\n",
    "ratings.head()"
   ]
  },
  {
   "cell_type": "markdown",
   "id": "d85af2bc",
   "metadata": {},
   "source": [
    "- timestamp, gerne column은 불필요하므로, 삭제"
   ]
  },
  {
   "cell_type": "code",
   "execution_count": 6,
   "id": "cb18993c",
   "metadata": {
    "scrolled": false
   },
   "outputs": [
    {
     "data": {
      "text/html": [
       "<div>\n",
       "<style scoped>\n",
       "    .dataframe tbody tr th:only-of-type {\n",
       "        vertical-align: middle;\n",
       "    }\n",
       "\n",
       "    .dataframe tbody tr th {\n",
       "        vertical-align: top;\n",
       "    }\n",
       "\n",
       "    .dataframe thead th {\n",
       "        text-align: right;\n",
       "    }\n",
       "</style>\n",
       "<table border=\"1\" class=\"dataframe\">\n",
       "  <thead>\n",
       "    <tr style=\"text-align: right;\">\n",
       "      <th></th>\n",
       "      <th>user_id</th>\n",
       "      <th>movie_id</th>\n",
       "      <th>count</th>\n",
       "      <th>title</th>\n",
       "    </tr>\n",
       "  </thead>\n",
       "  <tbody>\n",
       "    <tr>\n",
       "      <th>0</th>\n",
       "      <td>1</td>\n",
       "      <td>1193</td>\n",
       "      <td>5</td>\n",
       "      <td>One Flew Over the Cuckoo's Nest (1975)</td>\n",
       "    </tr>\n",
       "    <tr>\n",
       "      <th>1</th>\n",
       "      <td>1</td>\n",
       "      <td>661</td>\n",
       "      <td>3</td>\n",
       "      <td>James and the Giant Peach (1996)</td>\n",
       "    </tr>\n",
       "    <tr>\n",
       "      <th>2</th>\n",
       "      <td>1</td>\n",
       "      <td>914</td>\n",
       "      <td>3</td>\n",
       "      <td>My Fair Lady (1964)</td>\n",
       "    </tr>\n",
       "    <tr>\n",
       "      <th>3</th>\n",
       "      <td>1</td>\n",
       "      <td>3408</td>\n",
       "      <td>4</td>\n",
       "      <td>Erin Brockovich (2000)</td>\n",
       "    </tr>\n",
       "    <tr>\n",
       "      <th>4</th>\n",
       "      <td>1</td>\n",
       "      <td>2355</td>\n",
       "      <td>5</td>\n",
       "      <td>Bug's Life, A (1998)</td>\n",
       "    </tr>\n",
       "  </tbody>\n",
       "</table>\n",
       "</div>"
      ],
      "text/plain": [
       "   user_id  movie_id  count                                   title\n",
       "0        1      1193      5  One Flew Over the Cuckoo's Nest (1975)\n",
       "1        1       661      3        James and the Giant Peach (1996)\n",
       "2        1       914      3                     My Fair Lady (1964)\n",
       "3        1      3408      4                  Erin Brockovich (2000)\n",
       "4        1      2355      5                    Bug's Life, A (1998)"
      ]
     },
     "execution_count": 6,
     "metadata": {},
     "output_type": "execute_result"
    }
   ],
   "source": [
    "ratings = ratings.drop(columns=['timestamp', 'genre'])\n",
    "ratings.head()"
   ]
  },
  {
   "cell_type": "markdown",
   "id": "dd52f7f4",
   "metadata": {},
   "source": [
    "## 2. 데이터 분석"
   ]
  },
  {
   "cell_type": "markdown",
   "id": "f2896113",
   "metadata": {},
   "source": [
    "- ratings에 존재하는 유니크한 영화 갯수, 영화 제목 수, 사용자 수를 출력"
   ]
  },
  {
   "cell_type": "code",
   "execution_count": 7,
   "id": "48d484f0",
   "metadata": {
    "scrolled": false
   },
   "outputs": [
    {
     "name": "stdout",
     "output_type": "stream",
     "text": [
      "# of movie_id:  3628\n",
      "# of title   :  3628\n",
      "# of user_id :  6039\n"
     ]
    }
   ],
   "source": [
    "print('# of movie_id: ', ratings['movie_id'].nunique())\n",
    "print('# of title   : ', ratings['title'].nunique())\n",
    "print('# of user_id : ', ratings['user_id'].nunique())"
   ]
  },
  {
   "cell_type": "markdown",
   "id": "fe12a559",
   "metadata": {},
   "source": [
    "- 사용자들이 많이 본 영화 30개 출력"
   ]
  },
  {
   "cell_type": "markdown",
   "id": "26e63c5c",
   "metadata": {},
   "source": [
    "- 가장 인기 있는 영화로 판단"
   ]
  },
  {
   "cell_type": "code",
   "execution_count": 8,
   "id": "20c63722",
   "metadata": {},
   "outputs": [
    {
     "data": {
      "text/plain": [
       "title\n",
       "American Beauty (1999)                                   3211\n",
       "Star Wars: Episode IV - A New Hope (1977)                2910\n",
       "Star Wars: Episode V - The Empire Strikes Back (1980)    2885\n",
       "Star Wars: Episode VI - Return of the Jedi (1983)        2716\n",
       "Saving Private Ryan (1998)                               2561\n",
       "Terminator 2: Judgment Day (1991)                        2509\n",
       "Silence of the Lambs, The (1991)                         2498\n",
       "Raiders of the Lost Ark (1981)                           2473\n",
       "Back to the Future (1985)                                2460\n",
       "Matrix, The (1999)                                       2434\n",
       "Jurassic Park (1993)                                     2413\n",
       "Sixth Sense, The (1999)                                  2385\n",
       "Fargo (1996)                                             2371\n",
       "Braveheart (1995)                                        2314\n",
       "Men in Black (1997)                                      2297\n",
       "Schindler's List (1993)                                  2257\n",
       "Princess Bride, The (1987)                               2252\n",
       "Shakespeare in Love (1998)                               2213\n",
       "L.A. Confidential (1997)                                 2210\n",
       "Shawshank Redemption, The (1994)                         2194\n",
       "Godfather, The (1972)                                    2167\n",
       "Groundhog Day (1993)                                     2121\n",
       "E.T. the Extra-Terrestrial (1982)                        2102\n",
       "Being John Malkovich (1999)                              2066\n",
       "Ghostbusters (1984)                                      2051\n",
       "Pulp Fiction (1994)                                      2030\n",
       "Forrest Gump (1994)                                      2022\n",
       "Terminator, The (1984)                                   2019\n",
       "Toy Story (1995)                                         2000\n",
       "Fugitive, The (1993)                                     1941\n",
       "Name: user_id, dtype: int64"
      ]
     },
     "execution_count": 8,
     "metadata": {},
     "output_type": "execute_result"
    }
   ],
   "source": [
    "movie_count = ratings.groupby('title')['user_id'].count()\n",
    "movie_count.sort_values(ascending=False).head(30)"
   ]
  },
  {
   "cell_type": "code",
   "execution_count": 9,
   "id": "3b215b6d",
   "metadata": {},
   "outputs": [
    {
     "data": {
      "text/plain": [
       "count    6039.000000\n",
       "mean      138.512668\n",
       "std       156.241599\n",
       "min         1.000000\n",
       "25%        38.000000\n",
       "50%        81.000000\n",
       "75%       177.000000\n",
       "max      1968.000000\n",
       "Name: movie_id, dtype: float64"
      ]
     },
     "execution_count": 9,
     "metadata": {},
     "output_type": "execute_result"
    }
   ],
   "source": [
    "user_count = ratings.groupby('user_id')['movie_id'].count()\n",
    "user_count.describe()"
   ]
  },
  {
   "cell_type": "markdown",
   "id": "575b1c5b",
   "metadata": {},
   "source": [
    "## 3. 선호하는 영화 추가"
   ]
  },
  {
   "cell_type": "markdown",
   "id": "e7c56aeb",
   "metadata": {},
   "source": [
    "- 영화 제목을 키워드로 검색\n"
   ]
  },
  {
   "cell_type": "code",
   "execution_count": 10,
   "id": "efe8a4e2",
   "metadata": {
    "scrolled": true
   },
   "outputs": [
    {
     "data": {
      "text/html": [
       "<div>\n",
       "<style scoped>\n",
       "    .dataframe tbody tr th:only-of-type {\n",
       "        vertical-align: middle;\n",
       "    }\n",
       "\n",
       "    .dataframe tbody tr th {\n",
       "        vertical-align: top;\n",
       "    }\n",
       "\n",
       "    .dataframe thead th {\n",
       "        text-align: right;\n",
       "    }\n",
       "</style>\n",
       "<table border=\"1\" class=\"dataframe\">\n",
       "  <thead>\n",
       "    <tr style=\"text-align: right;\">\n",
       "      <th></th>\n",
       "      <th>movie_id</th>\n",
       "      <th>title</th>\n",
       "      <th>genre</th>\n",
       "    </tr>\n",
       "  </thead>\n",
       "  <tbody>\n",
       "    <tr>\n",
       "      <th>516</th>\n",
       "      <td>520</td>\n",
       "      <td>Robin Hood: Men in Tights (1993)</td>\n",
       "      <td>Comedy</td>\n",
       "    </tr>\n",
       "    <tr>\n",
       "      <th>1539</th>\n",
       "      <td>1580</td>\n",
       "      <td>Men in Black (1997)</td>\n",
       "      <td>Action|Adventure|Comedy|Sci-Fi</td>\n",
       "    </tr>\n",
       "  </tbody>\n",
       "</table>\n",
       "</div>"
      ],
      "text/plain": [
       "      movie_id                             title  \\\n",
       "516        520  Robin Hood: Men in Tights (1993)   \n",
       "1539      1580               Men in Black (1997)   \n",
       "\n",
       "                               genre  \n",
       "516                           Comedy  \n",
       "1539  Action|Adventure|Comedy|Sci-Fi  "
      ]
     },
     "execution_count": 10,
     "metadata": {},
     "output_type": "execute_result"
    }
   ],
   "source": [
    "movies[movies['title'].str.lower().str.contains('men in', regex=False)]"
   ]
  },
  {
   "cell_type": "markdown",
   "id": "925362d5",
   "metadata": {},
   "source": [
    "- 내가 좋아하는 영화 5편을 선정하여 id와 title 리스트 만들기"
   ]
  },
  {
   "cell_type": "markdown",
   "id": "dd771162",
   "metadata": {},
   "source": [
    "- user_id = lil_park, 각각의 영화를 5번씩 봤다고 가정"
   ]
  },
  {
   "cell_type": "code",
   "execution_count": 11,
   "id": "e4db68e2",
   "metadata": {},
   "outputs": [
    {
     "data": {
      "text/html": [
       "<div>\n",
       "<style scoped>\n",
       "    .dataframe tbody tr th:only-of-type {\n",
       "        vertical-align: middle;\n",
       "    }\n",
       "\n",
       "    .dataframe tbody tr th {\n",
       "        vertical-align: top;\n",
       "    }\n",
       "\n",
       "    .dataframe thead th {\n",
       "        text-align: right;\n",
       "    }\n",
       "</style>\n",
       "<table border=\"1\" class=\"dataframe\">\n",
       "  <thead>\n",
       "    <tr style=\"text-align: right;\">\n",
       "      <th></th>\n",
       "      <th>user_id</th>\n",
       "      <th>movie_id</th>\n",
       "      <th>count</th>\n",
       "      <th>title</th>\n",
       "    </tr>\n",
       "  </thead>\n",
       "  <tbody>\n",
       "    <tr>\n",
       "      <th>0</th>\n",
       "      <td>jinhyun</td>\n",
       "      <td>1240</td>\n",
       "      <td>5</td>\n",
       "      <td>Terminator, The (1984)</td>\n",
       "    </tr>\n",
       "    <tr>\n",
       "      <th>1</th>\n",
       "      <td>jinhyun</td>\n",
       "      <td>2571</td>\n",
       "      <td>5</td>\n",
       "      <td>Matrix, The (1999)</td>\n",
       "    </tr>\n",
       "    <tr>\n",
       "      <th>2</th>\n",
       "      <td>jinhyun</td>\n",
       "      <td>1580</td>\n",
       "      <td>5</td>\n",
       "      <td>Men in Black (1997)</td>\n",
       "    </tr>\n",
       "    <tr>\n",
       "      <th>3</th>\n",
       "      <td>jinhyun</td>\n",
       "      <td>648</td>\n",
       "      <td>5</td>\n",
       "      <td>Mission: Impossible (1996)</td>\n",
       "    </tr>\n",
       "    <tr>\n",
       "      <th>4</th>\n",
       "      <td>jinhyun</td>\n",
       "      <td>3623</td>\n",
       "      <td>5</td>\n",
       "      <td>Mission: Impossible 2 (2000)</td>\n",
       "    </tr>\n",
       "  </tbody>\n",
       "</table>\n",
       "</div>"
      ],
      "text/plain": [
       "   user_id  movie_id  count                         title\n",
       "0  jinhyun      1240      5        Terminator, The (1984)\n",
       "1  jinhyun      2571      5            Matrix, The (1999)\n",
       "2  jinhyun      1580      5           Men in Black (1997)\n",
       "3  jinhyun       648      5    Mission: Impossible (1996)\n",
       "4  jinhyun      3623      5  Mission: Impossible 2 (2000)"
      ]
     },
     "execution_count": 11,
     "metadata": {},
     "output_type": "execute_result"
    }
   ],
   "source": [
    "my_favorite_id = [1240, 2571, 1580 , 648, 3623]\n",
    "\n",
    "my_favorite_title = []\n",
    "for i in my_favorite_id:\n",
    "    my_favorite_title.extend(list(movies[movies['movie_id'] == i]['title']))\n",
    "\n",
    "my_movielist = pd.DataFrame({'user_id': ['jinhyun내가 좋아하는 영화 5편을 선정하여 id와 title 리스트 만들기']*5, 'movie_id': my_favorite_id, 'count': [5]*5, 'title': my_favorite_title})\n",
    "my_movielist"
   ]
  },
  {
   "cell_type": "markdown",
   "id": "36753ab7",
   "metadata": {},
   "source": [
    "- 기존의 ratings dataframe에 새로운 데이터를 추가 (my_movielist)"
   ]
  },
  {
   "cell_type": "code",
   "execution_count": 12,
   "id": "81f292db",
   "metadata": {
    "scrolled": true
   },
   "outputs": [
    {
     "data": {
      "text/html": [
       "<div>\n",
       "<style scoped>\n",
       "    .dataframe tbody tr th:only-of-type {\n",
       "        vertical-align: middle;\n",
       "    }\n",
       "\n",
       "    .dataframe tbody tr th {\n",
       "        vertical-align: top;\n",
       "    }\n",
       "\n",
       "    .dataframe thead th {\n",
       "        text-align: right;\n",
       "    }\n",
       "</style>\n",
       "<table border=\"1\" class=\"dataframe\">\n",
       "  <thead>\n",
       "    <tr style=\"text-align: right;\">\n",
       "      <th></th>\n",
       "      <th>user_id</th>\n",
       "      <th>movie_id</th>\n",
       "      <th>count</th>\n",
       "      <th>title</th>\n",
       "    </tr>\n",
       "  </thead>\n",
       "  <tbody>\n",
       "    <tr>\n",
       "      <th>836473</th>\n",
       "      <td>6040</td>\n",
       "      <td>1090</td>\n",
       "      <td>3</td>\n",
       "      <td>Platoon (1986)</td>\n",
       "    </tr>\n",
       "    <tr>\n",
       "      <th>836474</th>\n",
       "      <td>6040</td>\n",
       "      <td>1094</td>\n",
       "      <td>5</td>\n",
       "      <td>Crying Game, The (1992)</td>\n",
       "    </tr>\n",
       "    <tr>\n",
       "      <th>836475</th>\n",
       "      <td>6040</td>\n",
       "      <td>562</td>\n",
       "      <td>5</td>\n",
       "      <td>Welcome to the Dollhouse (1995)</td>\n",
       "    </tr>\n",
       "    <tr>\n",
       "      <th>836476</th>\n",
       "      <td>6040</td>\n",
       "      <td>1096</td>\n",
       "      <td>4</td>\n",
       "      <td>Sophie's Choice (1982)</td>\n",
       "    </tr>\n",
       "    <tr>\n",
       "      <th>836477</th>\n",
       "      <td>6040</td>\n",
       "      <td>1097</td>\n",
       "      <td>4</td>\n",
       "      <td>E.T. the Extra-Terrestrial (1982)</td>\n",
       "    </tr>\n",
       "    <tr>\n",
       "      <th>836478</th>\n",
       "      <td>jinhyun</td>\n",
       "      <td>1240</td>\n",
       "      <td>5</td>\n",
       "      <td>Terminator, The (1984)</td>\n",
       "    </tr>\n",
       "    <tr>\n",
       "      <th>836479</th>\n",
       "      <td>jinhyun</td>\n",
       "      <td>2571</td>\n",
       "      <td>5</td>\n",
       "      <td>Matrix, The (1999)</td>\n",
       "    </tr>\n",
       "    <tr>\n",
       "      <th>836480</th>\n",
       "      <td>jinhyun</td>\n",
       "      <td>1580</td>\n",
       "      <td>5</td>\n",
       "      <td>Men in Black (1997)</td>\n",
       "    </tr>\n",
       "    <tr>\n",
       "      <th>836481</th>\n",
       "      <td>jinhyun</td>\n",
       "      <td>648</td>\n",
       "      <td>5</td>\n",
       "      <td>Mission: Impossible (1996)</td>\n",
       "    </tr>\n",
       "    <tr>\n",
       "      <th>836482</th>\n",
       "      <td>jinhyun</td>\n",
       "      <td>3623</td>\n",
       "      <td>5</td>\n",
       "      <td>Mission: Impossible 2 (2000)</td>\n",
       "    </tr>\n",
       "  </tbody>\n",
       "</table>\n",
       "</div>"
      ],
      "text/plain": [
       "        user_id  movie_id  count                              title\n",
       "836473     6040      1090      3                     Platoon (1986)\n",
       "836474     6040      1094      5            Crying Game, The (1992)\n",
       "836475     6040       562      5    Welcome to the Dollhouse (1995)\n",
       "836476     6040      1096      4             Sophie's Choice (1982)\n",
       "836477     6040      1097      4  E.T. the Extra-Terrestrial (1982)\n",
       "836478  jinhyun      1240      5             Terminator, The (1984)\n",
       "836479  jinhyun      2571      5                 Matrix, The (1999)\n",
       "836480  jinhyun      1580      5                Men in Black (1997)\n",
       "836481  jinhyun       648      5         Mission: Impossible (1996)\n",
       "836482  jinhyun      3623      5       Mission: Impossible 2 (2000)"
      ]
     },
     "execution_count": 12,
     "metadata": {},
     "output_type": "execute_result"
    }
   ],
   "source": [
    "if not ratings.isin({'user_id':['jinhyun']})['user_id'].any():\n",
    "    ratings = ratings.append(my_movielist, ignore_index=True)\n",
    "\n",
    "ratings.tail(10)"
   ]
  },
  {
   "cell_type": "markdown",
   "id": "f63b154b",
   "metadata": {},
   "source": [
    "## 4. CSR matrix 생성"
   ]
  },
  {
   "cell_type": "markdown",
   "id": "ddc0af42",
   "metadata": {},
   "source": [
    "- user_unique: 유저의 수"
   ]
  },
  {
   "cell_type": "markdown",
   "id": "9e175821",
   "metadata": {},
   "source": [
    "- movie_unique: 영화의 갯수"
   ]
  },
  {
   "cell_type": "code",
   "execution_count": 13,
   "id": "637a9d67",
   "metadata": {},
   "outputs": [],
   "source": [
    "user_unique = ratings['user_id'].unique()\n",
    "movie_unique = ratings['title'].unique()\n",
    "\n",
    "user_to_idx = {v:k for k,v in enumerate(user_unique)}\n",
    "movie_to_idx = {v:k for k,v in enumerate(movie_unique)}"
   ]
  },
  {
   "cell_type": "code",
   "execution_count": 14,
   "id": "9cfa1e4c",
   "metadata": {},
   "outputs": [
    {
     "name": "stdout",
     "output_type": "stream",
     "text": [
      "user_id column indexing OK!!\n",
      "title column indexing OK!!\n"
     ]
    },
    {
     "data": {
      "text/html": [
       "<div>\n",
       "<style scoped>\n",
       "    .dataframe tbody tr th:only-of-type {\n",
       "        vertical-align: middle;\n",
       "    }\n",
       "\n",
       "    .dataframe tbody tr th {\n",
       "        vertical-align: top;\n",
       "    }\n",
       "\n",
       "    .dataframe thead th {\n",
       "        text-align: right;\n",
       "    }\n",
       "</style>\n",
       "<table border=\"1\" class=\"dataframe\">\n",
       "  <thead>\n",
       "    <tr style=\"text-align: right;\">\n",
       "      <th></th>\n",
       "      <th>user_id</th>\n",
       "      <th>movie_id</th>\n",
       "      <th>count</th>\n",
       "      <th>title</th>\n",
       "    </tr>\n",
       "  </thead>\n",
       "  <tbody>\n",
       "    <tr>\n",
       "      <th>0</th>\n",
       "      <td>0</td>\n",
       "      <td>1193</td>\n",
       "      <td>5</td>\n",
       "      <td>0</td>\n",
       "    </tr>\n",
       "    <tr>\n",
       "      <th>1</th>\n",
       "      <td>0</td>\n",
       "      <td>661</td>\n",
       "      <td>3</td>\n",
       "      <td>1</td>\n",
       "    </tr>\n",
       "    <tr>\n",
       "      <th>2</th>\n",
       "      <td>0</td>\n",
       "      <td>914</td>\n",
       "      <td>3</td>\n",
       "      <td>2</td>\n",
       "    </tr>\n",
       "    <tr>\n",
       "      <th>3</th>\n",
       "      <td>0</td>\n",
       "      <td>3408</td>\n",
       "      <td>4</td>\n",
       "      <td>3</td>\n",
       "    </tr>\n",
       "    <tr>\n",
       "      <th>4</th>\n",
       "      <td>0</td>\n",
       "      <td>2355</td>\n",
       "      <td>5</td>\n",
       "      <td>4</td>\n",
       "    </tr>\n",
       "    <tr>\n",
       "      <th>...</th>\n",
       "      <td>...</td>\n",
       "      <td>...</td>\n",
       "      <td>...</td>\n",
       "      <td>...</td>\n",
       "    </tr>\n",
       "    <tr>\n",
       "      <th>836478</th>\n",
       "      <td>6039</td>\n",
       "      <td>1240</td>\n",
       "      <td>5</td>\n",
       "      <td>200</td>\n",
       "    </tr>\n",
       "    <tr>\n",
       "      <th>836479</th>\n",
       "      <td>6039</td>\n",
       "      <td>2571</td>\n",
       "      <td>5</td>\n",
       "      <td>124</td>\n",
       "    </tr>\n",
       "    <tr>\n",
       "      <th>836480</th>\n",
       "      <td>6039</td>\n",
       "      <td>1580</td>\n",
       "      <td>5</td>\n",
       "      <td>175</td>\n",
       "    </tr>\n",
       "    <tr>\n",
       "      <th>836481</th>\n",
       "      <td>6039</td>\n",
       "      <td>648</td>\n",
       "      <td>5</td>\n",
       "      <td>58</td>\n",
       "    </tr>\n",
       "    <tr>\n",
       "      <th>836482</th>\n",
       "      <td>6039</td>\n",
       "      <td>3623</td>\n",
       "      <td>5</td>\n",
       "      <td>482</td>\n",
       "    </tr>\n",
       "  </tbody>\n",
       "</table>\n",
       "<p>836483 rows × 4 columns</p>\n",
       "</div>"
      ],
      "text/plain": [
       "        user_id  movie_id  count  title\n",
       "0             0      1193      5      0\n",
       "1             0       661      3      1\n",
       "2             0       914      3      2\n",
       "3             0      3408      4      3\n",
       "4             0      2355      5      4\n",
       "...         ...       ...    ...    ...\n",
       "836478     6039      1240      5    200\n",
       "836479     6039      2571      5    124\n",
       "836480     6039      1580      5    175\n",
       "836481     6039       648      5     58\n",
       "836482     6039      3623      5    482\n",
       "\n",
       "[836483 rows x 4 columns]"
      ]
     },
     "execution_count": 14,
     "metadata": {},
     "output_type": "execute_result"
    }
   ],
   "source": [
    "temp_user_data = ratings['user_id'].map(user_to_idx.get).dropna()\n",
    "if len(temp_user_data) == len(ratings):\n",
    "    print('user_id column indexing OK!!')\n",
    "    ratings['user_id'] = temp_user_data\n",
    "else:\n",
    "    print('user_id column indexing Fail!!')\n",
    "\n",
    "temp_movie_data = ratings['title'].map(movie_to_idx.get).dropna()\n",
    "if len(temp_movie_data) == len(ratings):\n",
    "    print('title column indexing OK!!')\n",
    "    ratings['title'] = temp_movie_data\n",
    "else:\n",
    "    print('title column indexing Fail!!')\n",
    "\n",
    "ratings"
   ]
  },
  {
   "cell_type": "markdown",
   "id": "50acf607",
   "metadata": {},
   "source": [
    "- CSR matrix 생성"
   ]
  },
  {
   "cell_type": "code",
   "execution_count": 15,
   "id": "f08b5e24",
   "metadata": {},
   "outputs": [
    {
     "data": {
      "text/plain": [
       "<6040x3628 sparse matrix of type '<class 'numpy.int64'>'\n",
       "\twith 836483 stored elements in Compressed Sparse Row format>"
      ]
     },
     "execution_count": 15,
     "metadata": {},
     "output_type": "execute_result"
    }
   ],
   "source": [
    "from scipy.sparse import csr_matrix\n",
    "\n",
    "num_user = ratings['user_id'].nunique()\n",
    "num_movie = ratings['title'].nunique()\n",
    "\n",
    "csr_data = csr_matrix((ratings['count'], (ratings.user_id, ratings.title)), shape= (num_user, num_movie))\n",
    "csr_data"
   ]
  },
  {
   "cell_type": "markdown",
   "id": "72d2bc23",
   "metadata": {},
   "source": [
    "## 5. 모델 설계 및 훈련"
   ]
  },
  {
   "cell_type": "code",
   "execution_count": 16,
   "id": "1cc80751",
   "metadata": {},
   "outputs": [],
   "source": [
    "from implicit.als import AlternatingLeastSquares\n",
    "import os\n",
    "import numpy as np\n",
    "\n",
    "os.environ['OPENBLAS_NUM_THREADS']='1'\n",
    "os.environ['KMP_DUPLICATE_LIB_OK']='True'\n",
    "os.environ['MKL_NUM_THREADS']='1'"
   ]
  },
  {
   "cell_type": "markdown",
   "id": "143f7221",
   "metadata": {},
   "source": [
    "- Implicit AlternatingLeastSquares model 선언"
   ]
  },
  {
   "cell_type": "code",
   "execution_count": 17,
   "id": "27e4e5ff",
   "metadata": {},
   "outputs": [],
   "source": [
    "als_model = AlternatingLeastSquares(factors=100, regularization=0.01, use_gpu=False, iterations=15, dtype=np.float32)"
   ]
  },
  {
   "cell_type": "code",
   "execution_count": 18,
   "id": "63eb4144",
   "metadata": {},
   "outputs": [
    {
     "data": {
      "text/plain": [
       "<3628x6040 sparse matrix of type '<class 'numpy.int64'>'\n",
       "\twith 836483 stored elements in Compressed Sparse Column format>"
      ]
     },
     "execution_count": 18,
     "metadata": {},
     "output_type": "execute_result"
    }
   ],
   "source": [
    "csr_data_transpose = csr_data.T\n",
    "csr_data_transpose"
   ]
  },
  {
   "cell_type": "markdown",
   "id": "d423bac4",
   "metadata": {},
   "source": [
    "- model 훈련"
   ]
  },
  {
   "cell_type": "code",
   "execution_count": 19,
   "id": "5accbec9",
   "metadata": {},
   "outputs": [
    {
     "data": {
      "application/vnd.jupyter.widget-view+json": {
       "model_id": "e066f1c4613140cfa1b9bc9da75960d2",
       "version_major": 2,
       "version_minor": 0
      },
      "text/plain": [
       "  0%|          | 0/15 [00:00<?, ?it/s]"
      ]
     },
     "metadata": {},
     "output_type": "display_data"
    }
   ],
   "source": [
    "als_model.fit(csr_data_transpose)"
   ]
  },
  {
   "cell_type": "markdown",
   "id": "28a00684",
   "metadata": {},
   "source": [
    "## 6. 훈련된 모델이 예측한 나의 선호도"
   ]
  },
  {
   "cell_type": "markdown",
   "id": "df8dbdf9",
   "metadata": {},
   "source": [
    "- model을 이용하여 나의 벡터와 영화 벡터를 구함"
   ]
  },
  {
   "cell_type": "markdown",
   "id": "d11aad28",
   "metadata": {},
   "source": [
    "- 내가 선호하는 영화 리스트에 포함되어 있는 영화인 Matrix의 벡터를 계산"
   ]
  },
  {
   "cell_type": "code",
   "execution_count": 20,
   "id": "d457e44e",
   "metadata": {},
   "outputs": [],
   "source": [
    "jinhyun, matrix = user_to_idx['jinhyun'], movie_to_idx['Matrix, The (1999)']\n",
    "jinhyun_vector, matrix_vector = als_model.user_factors[jinhyun], als_model.item_factors[matrix]"
   ]
  },
  {
   "cell_type": "code",
   "execution_count": 21,
   "id": "913380b1",
   "metadata": {},
   "outputs": [
    {
     "data": {
      "text/plain": [
       "array([-0.10407385, -0.15996921, -0.04658415,  0.6656077 , -0.41091716,\n",
       "        0.6441916 , -0.14052422, -0.10523397,  0.25680387,  0.64419585,\n",
       "       -0.5740881 ,  0.12596968, -0.94963324,  0.25905886,  0.57774293,\n",
       "       -0.21707761, -0.16874526, -0.2067231 , -0.17854705,  0.43732002,\n",
       "       -0.0627743 ,  0.6545852 , -0.59835035, -0.6273166 , -0.21616676,\n",
       "       -1.0186985 ,  0.48447376, -0.39903402, -0.5583906 ,  0.5207662 ,\n",
       "        0.18024871,  0.54136217,  0.59648305, -0.02677123,  0.45193064,\n",
       "        0.3367994 ,  0.22542396,  0.6913113 ,  1.057372  , -0.06599249,\n",
       "        0.11168905, -0.22841829, -0.04319756, -0.5076382 ,  0.5031533 ,\n",
       "       -0.6764759 ,  0.22234018,  0.0166997 ,  0.5561485 ,  0.5321205 ,\n",
       "       -0.32288212,  0.00699064,  0.63094515,  0.4442744 , -0.49489233,\n",
       "        0.21633357, -0.9358439 ,  0.25936046,  0.02060665,  0.06043379,\n",
       "       -0.7194806 ,  0.811943  , -0.27913883, -0.97378665, -0.38428545,\n",
       "       -0.08008095,  0.55054   , -0.2591602 ,  0.6764263 ,  0.25701374,\n",
       "        1.112728  , -0.6979094 , -1.0232987 ,  0.25260538, -0.45988068,\n",
       "       -1.0098946 ,  0.3708838 , -0.03445882, -0.90403384,  0.54491776,\n",
       "       -1.2993295 ,  0.20952015,  0.2262611 , -0.3388872 , -0.12557492,\n",
       "       -0.15829769, -0.21611185,  1.1859782 ,  0.37118357,  0.1857649 ,\n",
       "        0.7923913 , -0.7263455 ,  0.63146037,  0.71636933, -0.09060445,\n",
       "       -1.1066461 ,  0.14503056, -0.02350644,  0.19566861,  0.91835976],\n",
       "      dtype=float32)"
      ]
     },
     "execution_count": 21,
     "metadata": {},
     "output_type": "execute_result"
    }
   ],
   "source": [
    "jinhyun_vector"
   ]
  },
  {
   "cell_type": "code",
   "execution_count": 22,
   "id": "c186e1f2",
   "metadata": {},
   "outputs": [
    {
     "data": {
      "text/plain": [
       "array([-0.0036088 ,  0.01346618, -0.01313983, -0.00241693,  0.018008  ,\n",
       "        0.00456053,  0.00368894, -0.00391179,  0.00494958,  0.01707732,\n",
       "       -0.01592822,  0.02945047, -0.02068741,  0.02652671,  0.04261166,\n",
       "       -0.01056477,  0.01074309,  0.00128489, -0.00082344,  0.00896771,\n",
       "       -0.0001897 ,  0.02559703, -0.00421177,  0.01371059,  0.00175585,\n",
       "       -0.03391613,  0.03233499, -0.01316515, -0.00712932,  0.02017915,\n",
       "        0.00558355,  0.00990691,  0.01101034, -0.00032511,  0.01146411,\n",
       "        0.00429229,  0.01443505,  0.03113811,  0.04024335,  0.0088894 ,\n",
       "        0.01436334,  0.0059607 , -0.00557846, -0.008721  ,  0.02070909,\n",
       "       -0.00368633,  0.00173254,  0.00531164,  0.00880428,  0.0113194 ,\n",
       "        0.00225   ,  0.00349749,  0.01410162,  0.01854736,  0.00583536,\n",
       "        0.03445185, -0.01378641,  0.02214003, -0.00395485, -0.01957959,\n",
       "        0.00409041, -0.00512295,  0.00786609, -0.00549204, -0.01839095,\n",
       "        0.01866245,  0.01085191,  0.00394807,  0.02997269,  0.0116282 ,\n",
       "        0.0282547 , -0.01090977, -0.03642037, -0.00554433, -0.00500595,\n",
       "       -0.00643902,  0.02683683, -0.0022225 , -0.01975551,  0.02725618,\n",
       "       -0.02168605,  0.0025204 ,  0.02097295, -0.00224654, -0.0015021 ,\n",
       "        0.00427387, -0.00904107,  0.04111462,  0.00469047, -0.00304771,\n",
       "        0.02144504, -0.02613776,  0.03529835,  0.00414523,  0.00117158,\n",
       "       -0.01770452,  0.01074816,  0.01349455,  0.01632578,  0.03532025],\n",
       "      dtype=float32)"
      ]
     },
     "execution_count": 22,
     "metadata": {},
     "output_type": "execute_result"
    }
   ],
   "source": [
    "matrix_vector"
   ]
  },
  {
   "cell_type": "markdown",
   "id": "eca66954",
   "metadata": {},
   "source": [
    "- 나의 벡터와 영화 Matrix의 벡터를 내적"
   ]
  },
  {
   "cell_type": "code",
   "execution_count": 23,
   "id": "263907d8",
   "metadata": {},
   "outputs": [
    {
     "data": {
      "text/plain": [
       "0.66690004"
      ]
     },
     "execution_count": 23,
     "metadata": {},
     "output_type": "execute_result"
    }
   ],
   "source": [
    "np.dot(jinhyun_vector, matrix_vector)"
   ]
  },
  {
   "cell_type": "markdown",
   "id": "f44c2971",
   "metadata": {},
   "source": [
    "- 선호 리스트에 없는 영화의 벡터를 계산"
   ]
  },
  {
   "cell_type": "markdown",
   "id": "6a9962b4",
   "metadata": {},
   "source": [
    "- 굉장히 낮은 값이 출력"
   ]
  },
  {
   "cell_type": "code",
   "execution_count": 24,
   "id": "86ba26e3",
   "metadata": {},
   "outputs": [
    {
     "data": {
      "text/plain": [
       "-0.16732344"
      ]
     },
     "execution_count": 24,
     "metadata": {},
     "output_type": "execute_result"
    }
   ],
   "source": [
    "Platoon = movie_to_idx['Platoon (1986)']\n",
    "Platoon_vector = als_model.item_factors[Platoon]\n",
    "np.dot(jinhyun_vector, Platoon_vector)"
   ]
  },
  {
   "cell_type": "markdown",
   "id": "1e32e203",
   "metadata": {},
   "source": [
    "## 7. 내가 좋아하는 영화와 비슷한 영화 추천"
   ]
  },
  {
   "cell_type": "markdown",
   "id": "b2e40c43",
   "metadata": {},
   "source": [
    "- 내가 좋아하는 영화 벡터를 이용하여, input으로 주어진 영화와 비슷한 영화를 총 15개 출력"
   ]
  },
  {
   "cell_type": "code",
   "execution_count": 25,
   "id": "2d07a2d4",
   "metadata": {},
   "outputs": [
    {
     "data": {
      "text/plain": [
       "[(58, 1.0),\n",
       " (138, 0.60378706),\n",
       " (118, 0.493976),\n",
       " (129, 0.49240384),\n",
       " (587, 0.48744965),\n",
       " (82, 0.48630193),\n",
       " (179, 0.4837196),\n",
       " (156, 0.479505),\n",
       " (714, 0.45837945),\n",
       " (119, 0.4322652),\n",
       " (766, 0.42501557),\n",
       " (975, 0.42030525),\n",
       " (772, 0.4176734),\n",
       " (140, 0.4136591),\n",
       " (421, 0.4062894)]"
      ]
     },
     "execution_count": 25,
     "metadata": {},
     "output_type": "execute_result"
    }
   ],
   "source": [
    "favorite_movie = 'Mission: Impossible (1996)'\n",
    "movie_id = movie_to_idx[favorite_movie]\n",
    "similar_movie = als_model.similar_items(movie_id, N=15)\n",
    "similar_movie "
   ]
  },
  {
   "cell_type": "markdown",
   "id": "b0f75fb5",
   "metadata": {},
   "source": [
    "- index 값을 이용하여 영화의 이름을 출력"
   ]
  },
  {
   "cell_type": "code",
   "execution_count": 26,
   "id": "90cf4f3c",
   "metadata": {},
   "outputs": [
    {
     "data": {
      "text/plain": [
       "['Mission: Impossible (1996)',\n",
       " 'True Lies (1994)',\n",
       " 'Con Air (1997)',\n",
       " 'Conspiracy Theory (1997)',\n",
       " 'Batman Returns (1992)',\n",
       " 'Lost World: Jurassic Park, The (1997)',\n",
       " 'Rock, The (1996)',\n",
       " 'Mask of Zorro, The (1998)',\n",
       " 'Waterworld (1995)',\n",
       " 'Twister (1996)',\n",
       " 'GoldenEye (1995)',\n",
       " 'Young Sherlock Holmes (1985)',\n",
       " 'Rising Sun (1993)',\n",
       " 'Clear and Present Danger (1994)',\n",
       " 'Midnight in the Garden of Good and Evil (1997)']"
      ]
     },
     "execution_count": 26,
     "metadata": {},
     "output_type": "execute_result"
    }
   ],
   "source": [
    "idx_to_movie = {v:k for k,v in movie_to_idx.items()}\n",
    "[idx_to_movie[i[0]] for i in similar_movie]"
   ]
  },
  {
   "cell_type": "markdown",
   "id": "1047fd0c",
   "metadata": {},
   "source": [
    "- 함수 내부에서 index 값을 이용하여 input으로 주어진 영화와 비슷한 영화의 제목을 출력"
   ]
  },
  {
   "cell_type": "code",
   "execution_count": 27,
   "id": "800ebefd",
   "metadata": {},
   "outputs": [],
   "source": [
    "def get_similar_movie(movie_title: str):\n",
    "    movie_id = movie_to_idx[movie_title]\n",
    "    similar_movie = als_model.similar_items(movie_id, N=15)\n",
    "    similar_movie = [idx_to_movie[i[0]] for i in similar_movie]\n",
    "    return similar_movie"
   ]
  },
  {
   "cell_type": "code",
   "execution_count": 28,
   "id": "855f5699",
   "metadata": {},
   "outputs": [
    {
     "data": {
      "text/plain": [
       "['Men in Black (1997)',\n",
       " 'Jurassic Park (1993)',\n",
       " 'Terminator 2: Judgment Day (1991)',\n",
       " 'Total Recall (1990)',\n",
       " 'Matrix, The (1999)',\n",
       " 'Independence Day (ID4) (1996)',\n",
       " 'Fifth Element, The (1997)',\n",
       " 'Schlafes Bruder (Brother of Sleep) (1995)',\n",
       " 'Lost World: Jurassic Park, The (1997)',\n",
       " 'Face/Off (1997)',\n",
       " 'True Lies (1994)',\n",
       " 'Rocky Horror Picture Show, The (1975)',\n",
       " 'Braveheart (1995)',\n",
       " 'Bewegte Mann, Der (1994)',\n",
       " 'Mission: Impossible (1996)']"
      ]
     },
     "execution_count": 28,
     "metadata": {},
     "output_type": "execute_result"
    }
   ],
   "source": [
    "get_similar_movie('Men in Black (1997)')"
   ]
  },
  {
   "cell_type": "code",
   "execution_count": 29,
   "id": "640dfea7",
   "metadata": {
    "scrolled": true
   },
   "outputs": [
    {
     "data": {
      "text/plain": [
       "['Terminator, The (1984)',\n",
       " 'Aliens (1986)',\n",
       " 'Die Hard (1988)',\n",
       " 'Predator (1987)',\n",
       " 'Alien (1979)',\n",
       " 'Terminator 2: Judgment Day (1991)',\n",
       " 'Matrix, The (1999)',\n",
       " 'Robocop (1987)',\n",
       " 'Total Recall (1990)',\n",
       " 'Blade Runner (1982)',\n",
       " 'Indiana Jones and the Last Crusade (1989)',\n",
       " 'Mad Max 2 (a.k.a. The Road Warrior) (1981)',\n",
       " 'Raiders of the Lost Ark (1981)',\n",
       " 'Star Wars: Episode V - The Empire Strikes Back (1980)',\n",
       " 'Mad Max (1979)']"
      ]
     },
     "execution_count": 29,
     "metadata": {},
     "output_type": "execute_result"
    }
   ],
   "source": [
    "get_similar_movie('Terminator, The (1984)')"
   ]
  },
  {
   "cell_type": "markdown",
   "id": "dee1e199",
   "metadata": {},
   "source": [
    "## 8. 내가 좋아할 만한 영화 추천"
   ]
  },
  {
   "cell_type": "markdown",
   "id": "cb1d2bca",
   "metadata": {},
   "source": [
    "- 나의 벡터를 이용하여, 내가 선호하는 영화들과 비슷한 영화들을 index 값으로 반환"
   ]
  },
  {
   "cell_type": "code",
   "execution_count": 30,
   "id": "76d6e584",
   "metadata": {},
   "outputs": [
    {
     "data": {
      "text/plain": [
       "[(92, 0.68560356),\n",
       " (107, 0.57551026),\n",
       " (62, 0.45803493),\n",
       " (372, 0.43866682),\n",
       " (67, 0.34742075),\n",
       " (346, 0.30091265),\n",
       " (141, 0.29454082),\n",
       " (82, 0.28336498),\n",
       " (145, 0.27763194),\n",
       " (375, 0.2682832),\n",
       " (44, 0.26061863),\n",
       " (117, 0.25984251),\n",
       " (150, 0.24387723),\n",
       " (746, 0.23775703),\n",
       " (361, 0.23207167)]"
      ]
     },
     "execution_count": 30,
     "metadata": {},
     "output_type": "execute_result"
    }
   ],
   "source": [
    "user = user_to_idx['jinhyun']\n",
    "\n",
    "movie_recommended = als_model.recommend(user, csr_data, N=15, filter_already_liked_items=True)\n",
    "movie_recommended"
   ]
  },
  {
   "cell_type": "code",
   "execution_count": 31,
   "id": "36f7ce6f",
   "metadata": {
    "scrolled": true
   },
   "outputs": [
    {
     "data": {
      "text/plain": [
       "['Terminator 2: Judgment Day (1991)',\n",
       " 'Jurassic Park (1993)',\n",
       " 'Total Recall (1990)',\n",
       " 'X-Men (2000)',\n",
       " 'Gladiator (2000)',\n",
       " 'Patriot, The (2000)',\n",
       " 'Fugitive, The (1993)',\n",
       " 'Lost World: Jurassic Park, The (1997)',\n",
       " 'Fifth Element, The (1997)',\n",
       " 'Face/Off (1997)',\n",
       " 'Star Wars: Episode IV - A New Hope (1977)',\n",
       " 'Star Wars: Episode V - The Empire Strikes Back (1980)',\n",
       " 'Independence Day (ID4) (1996)',\n",
       " 'Perfect Storm, The (2000)',\n",
       " 'Casablanca (1942)']"
      ]
     },
     "execution_count": 31,
     "metadata": {},
     "output_type": "execute_result"
    }
   ],
   "source": [
    "[idx_to_movie[i[0]] for i in movie_recommended]"
   ]
  },
  {
   "cell_type": "markdown",
   "id": "ddf72e9e",
   "metadata": {},
   "source": [
    "- 사용자의 선호 영화 리스트에 있는 영화들이 영화 추천에 어느정도 기여했는지 기여도를 확인"
   ]
  },
  {
   "cell_type": "code",
   "execution_count": 32,
   "id": "b87b0ad8",
   "metadata": {},
   "outputs": [
    {
     "data": {
      "text/plain": [
       "[('Men in Black (1997)', 0.34406963963052284),\n",
       " ('Matrix, The (1999)', 0.14778931259001069),\n",
       " ('Mission: Impossible (1996)', 0.0732708621655865),\n",
       " ('Terminator, The (1984)', 0.02131331049830546),\n",
       " ('Mission: Impossible 2 (2000)', -0.02133515904148016)]"
      ]
     },
     "execution_count": 32,
     "metadata": {},
     "output_type": "execute_result"
    }
   ],
   "source": [
    "recommended = movie_to_idx['Jurassic Park (1993)']\n",
    "explain = als_model.explain(user, csr_data, itemid=recommended)\n",
    "\n",
    "[(idx_to_movie[i[0]], i[1]) for i in explain[1]]"
   ]
  },
  {
   "cell_type": "markdown",
   "id": "95e6c04e",
   "metadata": {},
   "source": [
    "## 9. 회고"
   ]
  },
  {
   "cell_type": "markdown",
   "id": "63a82d5d",
   "metadata": {},
   "source": [
    "- data의 경우, 평점과 제목이 2개의 파일로 나눠져 있었다. 평점과 영화 제목의 경우, 많이 사용하는 데이터이기 때문에, join을 이용하여 두 개의 dataframe을 하나로 합쳐서 사용하였다."
   ]
  },
  {
   "cell_type": "markdown",
   "id": "881c5d66",
   "metadata": {},
   "source": [
    "- 선호하는 영화는 0.66으로 비교적 높은 값을 얻었고 선호하지 않는 영화는 -0.16으로 매우 낮은 값을 얻었다. 저는 액션영화를 더 선호하기 때문에 저의 성향이 잘 반영 된거 같습니다."
   ]
  },
  {
   "cell_type": "markdown",
   "id": "41daed97",
   "metadata": {},
   "source": [
    "- 이번 프로잭트를 진행하는데 지금까지 한 노드들 중에 가장 재미있게 한 노드가 아닐까 합니다. 왜냐하면 이때까지 유튜브, 넷플릭스, 인터넷 광고 등 여러 플랫폼에서 사용하는 추천 시스템에 대해서 궁금한 부분이 많았습니다. 그런데 이번 노드를 진행하면서 어는정도의 궁금증이 풀린거 같습니다. "
   ]
  },
  {
   "cell_type": "code",
   "execution_count": null,
   "id": "c6cbd9eb",
   "metadata": {},
   "outputs": [],
   "source": []
  },
  {
   "cell_type": "code",
   "execution_count": null,
   "id": "a6110cf2",
   "metadata": {},
   "outputs": [],
   "source": []
  },
  {
   "cell_type": "code",
   "execution_count": null,
   "id": "23a87627",
   "metadata": {},
   "outputs": [],
   "source": []
  },
  {
   "cell_type": "code",
   "execution_count": null,
   "id": "ecf591fa",
   "metadata": {},
   "outputs": [],
   "source": []
  },
  {
   "cell_type": "code",
   "execution_count": null,
   "id": "95d294c4",
   "metadata": {},
   "outputs": [],
   "source": []
  },
  {
   "cell_type": "code",
   "execution_count": null,
   "id": "c6126aad",
   "metadata": {},
   "outputs": [],
   "source": []
  },
  {
   "cell_type": "code",
   "execution_count": null,
   "id": "3197c7e4",
   "metadata": {},
   "outputs": [],
   "source": []
  }
 ],
 "metadata": {
  "kernelspec": {
   "display_name": "Python 3 (ipykernel)",
   "language": "python",
   "name": "python3"
  },
  "language_info": {
   "codemirror_mode": {
    "name": "ipython",
    "version": 3
   },
   "file_extension": ".py",
   "mimetype": "text/x-python",
   "name": "python",
   "nbconvert_exporter": "python",
   "pygments_lexer": "ipython3",
   "version": "3.9.7"
  }
 },
 "nbformat": 4,
 "nbformat_minor": 5
}
